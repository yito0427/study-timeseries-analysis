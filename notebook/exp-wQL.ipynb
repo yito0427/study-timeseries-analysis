{
 "cells": [
  {
   "cell_type": "markdown",
   "metadata": {},
   "source": [
    "# wQLの挙動を可視化\n",
    "\n",
    "https://docs.aws.amazon.com/forecast/latest/dg/metrics.html"
   ]
  },
  {
   "cell_type": "code",
   "execution_count": 11,
   "metadata": {},
   "outputs": [],
   "source": [
    "import numpy as np\n",
    "import pandas as pd"
   ]
  },
  {
   "cell_type": "markdown",
   "metadata": {},
   "source": [
    "# numpyの操作\n",
    "https://www.headboost.jp/how-to-create-an-array/"
   ]
  },
  {
   "cell_type": "code",
   "execution_count": 18,
   "metadata": {},
   "outputs": [
    {
     "data": {
      "text/plain": [
       "array([3, 3])"
      ]
     },
     "execution_count": 18,
     "metadata": {},
     "output_type": "execute_result"
    }
   ],
   "source": [
    "np.full(2, 3)"
   ]
  },
  {
   "cell_type": "code",
   "execution_count": 34,
   "metadata": {},
   "outputs": [],
   "source": [
    "i=10\n",
    "df = pd.DataFrame({'y' : np.full(i, 5),\n",
    "                   'q10' : np.full(i, 1),\n",
    "                   'q50' : np.full(i, 4),\n",
    "                   'q90' : np.full(i, 9)\n",
    "                  })"
   ]
  },
  {
   "cell_type": "code",
   "execution_count": 35,
   "metadata": {},
   "outputs": [
    {
     "data": {
      "text/html": [
       "<div>\n",
       "<style scoped>\n",
       "    .dataframe tbody tr th:only-of-type {\n",
       "        vertical-align: middle;\n",
       "    }\n",
       "\n",
       "    .dataframe tbody tr th {\n",
       "        vertical-align: top;\n",
       "    }\n",
       "\n",
       "    .dataframe thead th {\n",
       "        text-align: right;\n",
       "    }\n",
       "</style>\n",
       "<table border=\"1\" class=\"dataframe\">\n",
       "  <thead>\n",
       "    <tr style=\"text-align: right;\">\n",
       "      <th></th>\n",
       "      <th>y</th>\n",
       "      <th>q10</th>\n",
       "      <th>q50</th>\n",
       "      <th>q90</th>\n",
       "    </tr>\n",
       "  </thead>\n",
       "  <tbody>\n",
       "    <tr>\n",
       "      <th>0</th>\n",
       "      <td>5</td>\n",
       "      <td>1</td>\n",
       "      <td>4</td>\n",
       "      <td>9</td>\n",
       "    </tr>\n",
       "    <tr>\n",
       "      <th>1</th>\n",
       "      <td>5</td>\n",
       "      <td>1</td>\n",
       "      <td>4</td>\n",
       "      <td>9</td>\n",
       "    </tr>\n",
       "    <tr>\n",
       "      <th>2</th>\n",
       "      <td>5</td>\n",
       "      <td>1</td>\n",
       "      <td>4</td>\n",
       "      <td>9</td>\n",
       "    </tr>\n",
       "    <tr>\n",
       "      <th>3</th>\n",
       "      <td>5</td>\n",
       "      <td>1</td>\n",
       "      <td>4</td>\n",
       "      <td>9</td>\n",
       "    </tr>\n",
       "    <tr>\n",
       "      <th>4</th>\n",
       "      <td>5</td>\n",
       "      <td>1</td>\n",
       "      <td>4</td>\n",
       "      <td>9</td>\n",
       "    </tr>\n",
       "    <tr>\n",
       "      <th>5</th>\n",
       "      <td>5</td>\n",
       "      <td>1</td>\n",
       "      <td>4</td>\n",
       "      <td>9</td>\n",
       "    </tr>\n",
       "    <tr>\n",
       "      <th>6</th>\n",
       "      <td>5</td>\n",
       "      <td>1</td>\n",
       "      <td>4</td>\n",
       "      <td>9</td>\n",
       "    </tr>\n",
       "    <tr>\n",
       "      <th>7</th>\n",
       "      <td>5</td>\n",
       "      <td>1</td>\n",
       "      <td>4</td>\n",
       "      <td>9</td>\n",
       "    </tr>\n",
       "    <tr>\n",
       "      <th>8</th>\n",
       "      <td>5</td>\n",
       "      <td>1</td>\n",
       "      <td>4</td>\n",
       "      <td>9</td>\n",
       "    </tr>\n",
       "    <tr>\n",
       "      <th>9</th>\n",
       "      <td>5</td>\n",
       "      <td>1</td>\n",
       "      <td>4</td>\n",
       "      <td>9</td>\n",
       "    </tr>\n",
       "  </tbody>\n",
       "</table>\n",
       "</div>"
      ],
      "text/plain": [
       "   y  q10  q50  q90\n",
       "0  5    1    4    9\n",
       "1  5    1    4    9\n",
       "2  5    1    4    9\n",
       "3  5    1    4    9\n",
       "4  5    1    4    9\n",
       "5  5    1    4    9\n",
       "6  5    1    4    9\n",
       "7  5    1    4    9\n",
       "8  5    1    4    9\n",
       "9  5    1    4    9"
      ]
     },
     "execution_count": 35,
     "metadata": {},
     "output_type": "execute_result"
    }
   ],
   "source": [
    "df"
   ]
  },
  {
   "cell_type": "code",
   "execution_count": 36,
   "metadata": {},
   "outputs": [
    {
     "data": {
      "text/plain": [
       "<matplotlib.axes._subplots.AxesSubplot at 0x7f682ca8c890>"
      ]
     },
     "execution_count": 36,
     "metadata": {},
     "output_type": "execute_result"
    },
    {
     "data": {
      "image/png": "[encoded data removed]",
      "text/plain": [
       "<Figure size 432x288 with 1 Axes>"
      ]
     },
     "metadata": {
      "needs_background": "light"
     },
     "output_type": "display_data"
    }
   ],
   "source": [
    "df.plot()"
   ]
  },
  {
   "cell_type": "markdown",
   "metadata": {},
   "source": [
    "# wQLの計算\n",
    "https://docs.aws.amazon.com/forecast/latest/dg/metrics.html"
   ]
  },
  {
   "cell_type": "code",
   "execution_count": 49,
   "metadata": {},
   "outputs": [],
   "source": [
    "def wql(y, q, tau):\n",
    "    for i in range(len(y)):\n",
    "        #print(i)\n",
    "        #print(y[i])\n",
    "        sum_upper = tau * max(y[i]-q[i],0) + (1-tau) * max(q[i]-y[i],0)\n",
    "        sum_lower = y[i]\n",
    "    return 2 * sum_upper / sum_lower"
   ]
  },
  {
   "cell_type": "code",
   "execution_count": 51,
   "metadata": {},
   "outputs": [
    {
     "name": "stdout",
     "output_type": "stream",
     "text": [
      "0.16\n",
      "0.2\n",
      "0.15999999999999998\n"
     ]
    }
   ],
   "source": [
    "print(wql(df['y'], df['q10'], 0.1))\n",
    "print(wql(df['y'], df['q50'], 0.5))\n",
    "print(wql(df['y'], df['q90'], 0.9))"
   ]
  },
  {
   "cell_type": "markdown",
   "metadata": {},
   "source": [
    "## yが予測値より上の場合"
   ]
  },
  {
   "cell_type": "code",
   "execution_count": 71,
   "metadata": {},
   "outputs": [],
   "source": [
    "def display_wql(y_value):\n",
    "    i=10\n",
    "    df = pd.DataFrame({'y' : np.full(i, y_value),\n",
    "                       'q10' : np.full(i, 1),\n",
    "                       'q50' : np.full(i, 4),\n",
    "                       'q90' : np.full(i, 9)\n",
    "                      })\n",
    "    print(f\"wQL[0.9] : {wql(df['y'], df['q90'], 0.9)}\")\n",
    "    print(f\"wQL[0.5] : {wql(df['y'], df['q50'], 0.5)}\")\n",
    "    print(f\"wQL[0.1] : {wql(df['y'], df['q10'], 0.1)}\")\n",
    "    df.plot(figsize=(3,3))\n",
    "    return"
   ]
  },
  {
   "cell_type": "code",
   "execution_count": 75,
   "metadata": {},
   "outputs": [
    {
     "name": "stdout",
     "output_type": "stream",
     "text": [
      "wQL[0.9] : 0.18\n",
      "wQL[0.5] : 0.6\n",
      "wQL[0.1] : 0.18\n"
     ]
    },
    {
     "data": {
      "image/png": "[encoded data removed]",
      "text/plain": [
       "<Figure size 216x216 with 1 Axes>"
      ]
     },
     "metadata": {
      "needs_background": "light"
     },
     "output_type": "display_data"
    }
   ],
   "source": [
    "display_wql(10)"
   ]
  },
  {
   "cell_type": "code",
   "execution_count": 83,
   "metadata": {},
   "outputs": [
    {
     "name": "stdout",
     "output_type": "stream",
     "text": [
      "wQL[0.9] : 0.0\n",
      "wQL[0.5] : 0.5555555555555556\n",
      "wQL[0.1] : 0.17777777777777778\n"
     ]
    },
    {
     "data": {
      "image/png": "[encoded data removed]",
      "text/plain": [
       "<Figure size 216x216 with 1 Axes>"
      ]
     },
     "metadata": {
      "needs_background": "light"
     },
     "output_type": "display_data"
    }
   ],
   "source": [
    "display_wql(9)"
   ]
  },
  {
   "cell_type": "code",
   "execution_count": 84,
   "metadata": {},
   "outputs": [
    {
     "name": "stdout",
     "output_type": "stream",
     "text": [
      "wQL[0.9] : 0.024999999999999994\n",
      "wQL[0.5] : 0.5\n",
      "wQL[0.1] : 0.17500000000000002\n"
     ]
    },
    {
     "data": {
      "image/png": "[encoded data removed]",
      "text/plain": [
       "<Figure size 216x216 with 1 Axes>"
      ]
     },
     "metadata": {
      "needs_background": "light"
     },
     "output_type": "display_data"
    }
   ],
   "source": [
    "display_wql(8)"
   ]
  },
  {
   "cell_type": "code",
   "execution_count": 85,
   "metadata": {},
   "outputs": [
    {
     "name": "stdout",
     "output_type": "stream",
     "text": [
      "wQL[0.9] : 0.05714285714285713\n",
      "wQL[0.5] : 0.42857142857142855\n",
      "wQL[0.1] : 0.17142857142857146\n"
     ]
    },
    {
     "data": {
      "image/png": "[encoded data removed]",
      "text/plain": [
       "<Figure size 216x216 with 1 Axes>"
      ]
     },
     "metadata": {
      "needs_background": "light"
     },
     "output_type": "display_data"
    }
   ],
   "source": [
    "display_wql(7)"
   ]
  },
  {
   "cell_type": "code",
   "execution_count": 86,
   "metadata": {},
   "outputs": [
    {
     "name": "stdout",
     "output_type": "stream",
     "text": [
      "wQL[0.9] : 0.09999999999999998\n",
      "wQL[0.5] : 0.3333333333333333\n",
      "wQL[0.1] : 0.16666666666666666\n"
     ]
    },
    {
     "data": {
      "image/png": "[encoded data removed]",
      "text/plain": [
       "<Figure size 216x216 with 1 Axes>"
      ]
     },
     "metadata": {
      "needs_background": "light"
     },
     "output_type": "display_data"
    }
   ],
   "source": [
    "display_wql(6)"
   ]
  },
  {
   "cell_type": "code",
   "execution_count": 87,
   "metadata": {},
   "outputs": [
    {
     "name": "stdout",
     "output_type": "stream",
     "text": [
      "wQL[0.9] : 0.15999999999999998\n",
      "wQL[0.5] : 0.2\n",
      "wQL[0.1] : 0.16\n"
     ]
    },
    {
     "data": {
      "image/png": "[encoded data removed]",
      "text/plain": [
       "<Figure size 216x216 with 1 Axes>"
      ]
     },
     "metadata": {
      "needs_background": "light"
     },
     "output_type": "display_data"
    }
   ],
   "source": [
    "display_wql(5)"
   ]
  },
  {
   "cell_type": "code",
   "execution_count": 88,
   "metadata": {},
   "outputs": [
    {
     "name": "stdout",
     "output_type": "stream",
     "text": [
      "wQL[0.9] : 0.24999999999999994\n",
      "wQL[0.5] : 0.0\n",
      "wQL[0.1] : 0.15000000000000002\n"
     ]
    },
    {
     "data": {
      "image/png": "[encoded data removed]",
      "text/plain": [
       "<Figure size 216x216 with 1 Axes>"
      ]
     },
     "metadata": {
      "needs_background": "light"
     },
     "output_type": "display_data"
    }
   ],
   "source": [
    "display_wql(4)"
   ]
  },
  {
   "cell_type": "code",
   "execution_count": 89,
   "metadata": {},
   "outputs": [
    {
     "name": "stdout",
     "output_type": "stream",
     "text": [
      "wQL[0.9] : 0.3999999999999999\n",
      "wQL[0.5] : 0.3333333333333333\n",
      "wQL[0.1] : 0.13333333333333333\n"
     ]
    },
    {
     "data": {
      "image/png": "[encoded data removed]",
      "text/plain": [
       "<Figure size 216x216 with 1 Axes>"
      ]
     },
     "metadata": {
      "needs_background": "light"
     },
     "output_type": "display_data"
    }
   ],
   "source": [
    "display_wql(3)"
   ]
  },
  {
   "cell_type": "code",
   "execution_count": null,
   "metadata": {},
   "outputs": [],
   "source": []
  },
  {
   "cell_type": "code",
   "execution_count": 90,
   "metadata": {},
   "outputs": [
    {
     "name": "stdout",
     "output_type": "stream",
     "text": [
      "wQL[0.9] : 0.6999999999999998\n",
      "wQL[0.5] : 1.0\n",
      "wQL[0.1] : 0.1\n"
     ]
    },
    {
     "data": {
      "image/png": "[encoded data removed]",
      "text/plain": [
       "<Figure size 216x216 with 1 Axes>"
      ]
     },
     "metadata": {
      "needs_background": "light"
     },
     "output_type": "display_data"
    }
   ],
   "source": [
    "display_wql(2)"
   ]
  },
  {
   "cell_type": "code",
   "execution_count": 91,
   "metadata": {},
   "outputs": [
    {
     "name": "stdout",
     "output_type": "stream",
     "text": [
      "wQL[0.9] : 1.5999999999999996\n",
      "wQL[0.5] : 3.0\n",
      "wQL[0.1] : 0.0\n"
     ]
    },
    {
     "data": {
      "image/png": "[encoded data removed]",
      "text/plain": [
       "<Figure size 216x216 with 1 Axes>"
      ]
     },
     "metadata": {
      "needs_background": "light"
     },
     "output_type": "display_data"
    }
   ],
   "source": [
    "display_wql(1)"
   ]
  },
  {
   "cell_type": "markdown",
   "metadata": {},
   "source": [
    "## q90とq50の間"
   ]
  },
  {
   "cell_type": "code",
   "execution_count": 60,
   "metadata": {},
   "outputs": [
    {
     "name": "stdout",
     "output_type": "stream",
     "text": [
      "wQL[0.9] : 0.05714285714285713\n",
      "wQL[0.5] : 0.42857142857142855\n",
      "wQL[0.1] : 0.17142857142857146\n"
     ]
    },
    {
     "data": {
      "text/plain": [
       "<matplotlib.axes._subplots.AxesSubplot at 0x7f682c85b190>"
      ]
     },
     "execution_count": 60,
     "metadata": {},
     "output_type": "execute_result"
    },
    {
     "data": {
      "image/png": "[encoded data removed]",
      "text/plain": [
       "<Figure size 432x288 with 1 Axes>"
      ]
     },
     "metadata": {
      "needs_background": "light"
     },
     "output_type": "display_data"
    }
   ],
   "source": [
    "i=10\n",
    "df = pd.DataFrame({'y' : np.full(i, 7),\n",
    "                   'q10' : np.full(i, 1),\n",
    "                   'q50' : np.full(i, 4),\n",
    "                   'q90' : np.full(i, 9)\n",
    "                  })\n",
    "print(f\"wQL[0.9] : {wql(df['y'], df['q90'], 0.9)}\")\n",
    "print(f\"wQL[0.5] : {wql(df['y'], df['q50'], 0.5)}\")\n",
    "print(f\"wQL[0.1] : {wql(df['y'], df['q10'], 0.1)}\")\n",
    "df.plot()"
   ]
  },
  {
   "cell_type": "code",
   "execution_count": 61,
   "metadata": {},
   "outputs": [
    {
     "name": "stdout",
     "output_type": "stream",
     "text": [
      "wQL[0.9] : 0.15999999999999998\n",
      "wQL[0.5] : 0.2\n",
      "wQL[0.1] : 0.16\n"
     ]
    },
    {
     "data": {
      "text/plain": [
       "<matplotlib.axes._subplots.AxesSubplot at 0x7f6838fb7950>"
      ]
     },
     "execution_count": 61,
     "metadata": {},
     "output_type": "execute_result"
    },
    {
     "data": {
      "image/png": "[encoded data removed]",
      "text/plain": [
       "<Figure size 432x288 with 1 Axes>"
      ]
     },
     "metadata": {
      "needs_background": "light"
     },
     "output_type": "display_data"
    }
   ],
   "source": [
    "i=10\n",
    "df = pd.DataFrame({'y' : np.full(i, 5),\n",
    "                   'q10' : np.full(i, 1),\n",
    "                   'q50' : np.full(i, 4),\n",
    "                   'q90' : np.full(i, 9)\n",
    "                  })\n",
    "print(f\"wQL[0.9] : {wql(df['y'], df['q90'], 0.9)}\")\n",
    "print(f\"wQL[0.5] : {wql(df['y'], df['q50'], 0.5)}\")\n",
    "print(f\"wQL[0.1] : {wql(df['y'], df['q10'], 0.1)}\")\n",
    "df.plot()"
   ]
  },
  {
   "cell_type": "code",
   "execution_count": 62,
   "metadata": {},
   "outputs": [
    {
     "name": "stdout",
     "output_type": "stream",
     "text": [
      "wQL[0.9] : 0.24999999999999994\n",
      "wQL[0.5] : 0.0\n",
      "wQL[0.1] : 0.15000000000000002\n"
     ]
    },
    {
     "data": {
      "text/plain": [
       "<matplotlib.axes._subplots.AxesSubplot at 0x7f682c779310>"
      ]
     },
     "execution_count": 62,
     "metadata": {},
     "output_type": "execute_result"
    },
    {
     "data": {
      "image/png": "[encoded data removed]",
      "text/plain": [
       "<Figure size 432x288 with 1 Axes>"
      ]
     },
     "metadata": {
      "needs_background": "light"
     },
     "output_type": "display_data"
    }
   ],
   "source": [
    "i=10\n",
    "df = pd.DataFrame({'y' : np.full(i, 4),\n",
    "                   'q10' : np.full(i, 1),\n",
    "                   'q50' : np.full(i, 4),\n",
    "                   'q90' : np.full(i, 9)\n",
    "                  })\n",
    "print(f\"wQL[0.9] : {wql(df['y'], df['q90'], 0.9)}\")\n",
    "print(f\"wQL[0.5] : {wql(df['y'], df['q50'], 0.5)}\")\n",
    "print(f\"wQL[0.1] : {wql(df['y'], df['q10'], 0.1)}\")\n",
    "df.plot()"
   ]
  },
  {
   "cell_type": "code",
   "execution_count": null,
   "metadata": {},
   "outputs": [],
   "source": [
    "i=10\n",
    "df = pd.DataFrame({'y' : np.full(i, 4),\n",
    "                   'q10' : np.full(i, 1),\n",
    "                   'q50' : np.full(i, 4),\n",
    "                   'q90' : np.full(i, 9)\n",
    "                  })\n",
    "print(f\"wQL[0.9] : {wql(df['y'], df['q90'], 0.9)}\")\n",
    "print(f\"wQL[0.5] : {wql(df['y'], df['q50'], 0.5)}\")\n",
    "print(f\"wQL[0.1] : {wql(df['y'], df['q10'], 0.1)}\")\n",
    "df.plot()"
   ]
  }
 ],
 "metadata": {
  "instance_type": "ml.t3.medium",
  "kernelspec": {
   "display_name": "Python 3 (Data Science)",
   "language": "python",
   "name": "python3__SAGEMAKER_INTERNAL__arn:aws:sagemaker:us-east-2:429704687514:image/datascience-1.0"
  },
  "language_info": {
   "codemirror_mode": {
    "name": "ipython",
    "version": 3
   },
   "file_extension": ".py",
   "mimetype": "text/x-python",
   "name": "python",
   "nbconvert_exporter": "python",
   "pygments_lexer": "ipython3",
   "version": "3.7.10"
  }
 },
 "nbformat": 4,
 "nbformat_minor": 4
}
