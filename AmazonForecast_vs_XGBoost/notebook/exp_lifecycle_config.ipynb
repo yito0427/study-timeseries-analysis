{
 "cells": [
  {
   "cell_type": "markdown",
   "metadata": {},
   "source": [
    "# Studioのライフサイクルコンフィグを実験\n",
    "\n",
    "開発者doc\n",
    "\n",
    "https://docs.aws.amazon.com/sagemaker/latest/dg/studio-lcc.html\n",
    "\n",
    "サンプル  \n",
    "https://github.com/aws-samples/sagemaker-studio-lifecycle-config-examples\n",
    "\n",
    "APIの変更履歴(boto3方式。他に、AWS-SDK方式がある）\n",
    "\n",
    "https://awsapichanges.info/archive/changes/078bdc-api.sagemaker.html\n",
    "\n",
    "2021/9/10に、4つのAPIが追加されている  \n",
    "1.ListStudioLifecycleConfigs  \n",
    "2.CreateStudioLifecycleConfig  \n",
    "3.DeleteStudioLifecycleConfig  \n",
    "4.DescribeStudioLifecycleConfig  \n",
    "\n",
    "\n",
    "ブログ\n",
    "\n",
    "https://aws.amazon.com/blogs/machine-learning/customize-amazon-sagemaker-studio-using-lifecycle-configurations/\n",
    "\n"
   ]
  },
  {
   "cell_type": "code",
   "execution_count": null,
   "metadata": {},
   "outputs": [],
   "source": []
  },
  {
   "cell_type": "markdown",
   "metadata": {},
   "source": [
    "## LCC登録\n",
    "\n",
    "https://docs.aws.amazon.com/cli/latest/reference/sagemaker/create-studio-lifecycle-config.html\n",
    "\n",
    "create-studio-lifecycle-config"
   ]
  },
  {
   "cell_type": "markdown",
   "metadata": {},
   "source": [
    "### AWS-SDK 方式"
   ]
  },
  {
   "cell_type": "markdown",
   "metadata": {},
   "source": [
    "## base64方式に変換する必要があるが、改行の変換がうまくいかないのかうまく動作しない。"
   ]
  },
  {
   "cell_type": "code",
   "execution_count": 52,
   "metadata": {},
   "outputs": [
    {
     "name": "stdout",
     "output_type": "stream",
     "text": [
      "+ export LCC_SCRIPT_NAME=run-notebook2\n",
      "+ LCC_SCRIPT_NAME=run-notebook2\n",
      "+ export SCRIPT_FILE_NAME=script/hello.sh\n",
      "+ SCRIPT_FILE_NAME=script/hello.sh\n",
      "+ export SCRIPT_TYPE=JupyterServer\n",
      "+ SCRIPT_TYPE=JupyterServer\n",
      "++ cat script/hello.sh\n",
      "++ base64\n",
      "+ export LCC_CONTENT=ZXhwb3J0IFRFU1RfTENDQ0NDQ0NDQ0NDQ0NDQ0NDQ0M9VEVTVHRlc3R0dHR0dHR0dHR0dHR0dHR0\n",
      "+ LCC_CONTENT=ZXhwb3J0IFRFU1RfTENDQ0NDQ0NDQ0NDQ0NDQ0NDQ0M9VEVTVHRlc3R0dHR0dHR0dHR0dHR0dHR0\n",
      "+ aws sagemaker --region ap-northeast-1 create-studio-lifecycle-config --studio-lifecycle-config-name run-notebook2 --studio-lifecycle-config-content ZXhwb3J0IFRFU1RfTENDQ0NDQ0NDQ0NDQ0NDQ0NDQ0M9VEVTVHRlc3R0dHR0dHR0dHR0dHR0dHR0 --studio-lifecycle-config-app-type JupyterServer\n",
      "{\n",
      "    \"StudioLifecycleConfigArn\": \"arn:aws:sagemaker:ap-northeast-1:805433377179:studio-lifecycle-config/run-notebook2\"\n",
      "}\n"
     ]
    }
   ],
   "source": [
    "!bash add-lcc-script.sh"
   ]
  },
  {
   "cell_type": "code",
   "execution_count": 53,
   "metadata": {},
   "outputs": [
    {
     "data": {
      "text/plain": [
       "'/root/study-timeseries-analysis/AmazonForecast_vs_XGBoost/notebook'"
      ]
     },
     "execution_count": 53,
     "metadata": {},
     "output_type": "execute_result"
    }
   ],
   "source": [
    "pwd"
   ]
  },
  {
   "cell_type": "code",
   "execution_count": 54,
   "metadata": {},
   "outputs": [
    {
     "name": "stdout",
     "output_type": "stream",
     "text": [
      "00_eda.ipynb\n",
      "01_prepare_dataset.ipynb\n",
      "01_separate_dataset.ipynb\n",
      "04_test_ts_cluster.ipynb\n",
      "05_create_data_forecast.ipynb\n",
      "3_confirm_forecast.ipynb\n",
      "DTW_kmeans.pkl\n",
      "add-lcc-script.sh\n",
      "electricityusage_20140101_20140630.csv\n",
      "exp_lifecycle_config.ipynb\n",
      "exp_xgboost_regression.ipynb\n",
      "for_excel_201401.csv\n",
      "\u001b[0m\u001b[01;34mscript\u001b[0m/\n",
      "xgboost_electricityusage.ipynb\n",
      "xgboost_electricityusage_train_upto_20140628.ipynb\n",
      "xgboost_electricityusage_train_upto_20140628_with_cluster.ipynb\n"
     ]
    }
   ],
   "source": [
    "ls"
   ]
  },
  {
   "cell_type": "markdown",
   "metadata": {},
   "source": [
    "## LCC確認\n",
    "\n",
    "list-studio-lifecycle-configs¶\n",
    "\n",
    "https://awscli.amazonaws.com/v2/documentation/api/latest/reference/sagemaker/list-studio-lifecycle-configs.html"
   ]
  },
  {
   "cell_type": "code",
   "execution_count": 55,
   "metadata": {},
   "outputs": [
    {
     "name": "stdout",
     "output_type": "stream",
     "text": [
      "{\n",
      "    \"StudioLifecycleConfigs\": [\n",
      "        {\n",
      "            \"StudioLifecycleConfigArn\": \"arn:aws:sagemaker:ap-northeast-1:805433377179:studio-lifecycle-config/run-notebook2\",\n",
      "            \"StudioLifecycleConfigName\": \"run-notebook2\",\n",
      "            \"CreationTime\": 1636982154.266,\n",
      "            \"LastModifiedTime\": 1636982154.293,\n",
      "            \"StudioLifecycleConfigAppType\": \"JupyterServer\"\n",
      "        },\n",
      "        {\n",
      "            \"StudioLifecycleConfigArn\": \"arn:aws:sagemaker:ap-northeast-1:805433377179:studio-lifecycle-config/run-notebook\",\n",
      "            \"StudioLifecycleConfigName\": \"run-notebook\",\n",
      "            \"CreationTime\": 1636981446.212,\n",
      "            \"LastModifiedTime\": 1636981446.242,\n",
      "            \"StudioLifecycleConfigAppType\": \"KernelGateway\"\n",
      "        }\n",
      "    ]\n",
      "}\n"
     ]
    }
   ],
   "source": [
    "!aws sagemaker --region ap-northeast-1 list-studio-lifecycle-configs"
   ]
  },
  {
   "cell_type": "code",
   "execution_count": null,
   "metadata": {},
   "outputs": [],
   "source": []
  },
  {
   "cell_type": "code",
   "execution_count": 39,
   "metadata": {},
   "outputs": [],
   "source": [
    "!export FOO=foo"
   ]
  },
  {
   "cell_type": "code",
   "execution_count": 41,
   "metadata": {},
   "outputs": [
    {
     "name": "stdout",
     "output_type": "stream",
     "text": [
      "/opt/conda/bin:/usr/local/sbin:/usr/local/bin:/usr/sbin:/usr/bin:/sbin:/bin:/opt/amazon/bin:/tmp/miniconda3/condabin:/tmp/anaconda3/condabin:/tmp/miniconda2/condabin:/tmp/anaconda2/condabin\n"
     ]
    }
   ],
   "source": [
    "!echo $PATH"
   ]
  },
  {
   "cell_type": "code",
   "execution_count": 29,
   "metadata": {},
   "outputs": [
    {
     "name": "stdout",
     "output_type": "stream",
     "text": [
      "REGION_NAME=ap-northeast-1\n",
      "MPLBACKEND=module://ipykernel.pylab.backend_inline\n",
      "HOSTNAME=datascience-1-0-ml-t3-medium-fc2487c7f8c4c102bbb67f4c4f2b\n",
      "CONDA_MD5=d63adf39f2c220950a063e0529d4ff74\n",
      "HOME=/root\n",
      "CONDA_VERSION=py38_4.8.3\n",
      "PAGER=cat\n",
      "AWS_CONTAINER_CREDENTIALS_RELATIVE_URI=/_sagemaker-instance-credentials/d818d341a33c1331584fc6aaae3bdbeb23589ef0d620caeebb66da36687177b9\n",
      "PYTHONNOUSERSITE=0\n",
      "KERNEL_GATEWAY=1\n",
      "AWS_DEFAULT_REGION=ap-northeast-1\n",
      "TERM=xterm-color\n",
      "PATH=/opt/conda/bin:/usr/local/sbin:/usr/local/bin:/usr/sbin:/usr/bin:/sbin:/bin:/opt/amazon/bin:/tmp/miniconda3/condabin:/tmp/anaconda3/condabin:/tmp/miniconda2/condabin:/tmp/anaconda2/condabin\n",
      "LANG=C.UTF-8\n",
      "AWS_ACCOUNT_ID=805433377179\n",
      "KERNEL_LAUNCH_TIMEOUT=40\n",
      "DEBIAN_FRONTEND=noninteractive\n",
      "SHELL=/bin/bash\n",
      "AWS_REGION=ap-northeast-1\n",
      "AWS_INTERNAL_IMAGE_OWNER=Studio\n",
      "CONDA_DIR=/opt/.sagemakerinternal/conda\n",
      "GIT_PAGER=cat\n",
      "LC_ALL=C.UTF-8\n",
      "PWD=/root/study-timeseries-analysis/AmazonForecast_vs_XGBoost/notebook\n",
      "KERNEL_WORKING_PATH=study-timeseries-analysis/AmazonForecast_vs_XGBoost/notebook\n",
      "CLICOLOR=1\n",
      "AWS_SAGEMAKER_PYTHONNOUSERSITE=0\n",
      "JPY_PARENT_PID=9\n",
      "PYDEVD_USE_FRAME_EVAL=NO\n",
      "SAGEMAKER_LOG_FILE=/var/log/studio/kernel_gateway.log\n",
      "JUPYTER_PATH=/opt/conda/share/jupyter/\n"
     ]
    }
   ],
   "source": [
    "!printenv"
   ]
  },
  {
   "cell_type": "code",
   "execution_count": 30,
   "metadata": {},
   "outputs": [],
   "source": [
    "!export TEST_LCCCCCCCCCCCCCCCCCCC=\"TESTtesttttttttttttttttt\""
   ]
  },
  {
   "cell_type": "code",
   "execution_count": 31,
   "metadata": {},
   "outputs": [
    {
     "name": "stdout",
     "output_type": "stream",
     "text": [
      "REGION_NAME=ap-northeast-1\n",
      "MPLBACKEND=module://ipykernel.pylab.backend_inline\n",
      "HOSTNAME=datascience-1-0-ml-t3-medium-fc2487c7f8c4c102bbb67f4c4f2b\n",
      "CONDA_MD5=d63adf39f2c220950a063e0529d4ff74\n",
      "HOME=/root\n",
      "CONDA_VERSION=py38_4.8.3\n",
      "PAGER=cat\n",
      "AWS_CONTAINER_CREDENTIALS_RELATIVE_URI=/_sagemaker-instance-credentials/d818d341a33c1331584fc6aaae3bdbeb23589ef0d620caeebb66da36687177b9\n",
      "PYTHONNOUSERSITE=0\n",
      "KERNEL_GATEWAY=1\n",
      "AWS_DEFAULT_REGION=ap-northeast-1\n",
      "TERM=xterm-color\n",
      "PATH=/opt/conda/bin:/usr/local/sbin:/usr/local/bin:/usr/sbin:/usr/bin:/sbin:/bin:/opt/amazon/bin:/tmp/miniconda3/condabin:/tmp/anaconda3/condabin:/tmp/miniconda2/condabin:/tmp/anaconda2/condabin\n",
      "LANG=C.UTF-8\n",
      "AWS_ACCOUNT_ID=805433377179\n",
      "KERNEL_LAUNCH_TIMEOUT=40\n",
      "DEBIAN_FRONTEND=noninteractive\n",
      "SHELL=/bin/bash\n",
      "AWS_REGION=ap-northeast-1\n",
      "AWS_INTERNAL_IMAGE_OWNER=Studio\n",
      "CONDA_DIR=/opt/.sagemakerinternal/conda\n",
      "GIT_PAGER=cat\n",
      "LC_ALL=C.UTF-8\n",
      "PWD=/root/study-timeseries-analysis/AmazonForecast_vs_XGBoost/notebook\n",
      "KERNEL_WORKING_PATH=study-timeseries-analysis/AmazonForecast_vs_XGBoost/notebook\n",
      "CLICOLOR=1\n",
      "AWS_SAGEMAKER_PYTHONNOUSERSITE=0\n",
      "JPY_PARENT_PID=9\n",
      "PYDEVD_USE_FRAME_EVAL=NO\n",
      "SAGEMAKER_LOG_FILE=/var/log/studio/kernel_gateway.log\n",
      "JUPYTER_PATH=/opt/conda/share/jupyter/\n"
     ]
    }
   ],
   "source": [
    "!printenv"
   ]
  },
  {
   "cell_type": "code",
   "execution_count": 47,
   "metadata": {},
   "outputs": [
    {
     "name": "stdout",
     "output_type": "stream",
     "text": [
      "{\n",
      "    \"StudioLifecycleConfigs\": [\n",
      "        {\n",
      "            \"StudioLifecycleConfigArn\": \"arn:aws:sagemaker:ap-northeast-1:805433377179:studio-lifecycle-config/run-notebook\",\n",
      "            \"StudioLifecycleConfigName\": \"run-notebook\",\n",
      "            \"CreationTime\": 1636981446.212,\n",
      "            \"LastModifiedTime\": 1636981446.242,\n",
      "            \"StudioLifecycleConfigAppType\": \"KernelGateway\"\n",
      "        }\n",
      "    ]\n",
      "}\n"
     ]
    }
   ],
   "source": [
    "!aws sagemaker --region ap-northeast-1 list-studio-lifecycle-configs"
   ]
  },
  {
   "cell_type": "markdown",
   "metadata": {},
   "source": [
    "\n",
    "DescribeStudioLifecycleConfig\n",
    "\n",
    "https://docs.aws.amazon.com/sagemaker/latest/APIReference/API_DescribeStudioLifecycleConfig.html\n",
    "    "
   ]
  },
  {
   "cell_type": "code",
   "execution_count": null,
   "metadata": {},
   "outputs": [],
   "source": []
  },
  {
   "cell_type": "code",
   "execution_count": null,
   "metadata": {},
   "outputs": [],
   "source": []
  },
  {
   "cell_type": "code",
   "execution_count": 48,
   "metadata": {},
   "outputs": [
    {
     "name": "stdout",
     "output_type": "stream",
     "text": [
      "{\n",
      "    \"StudioLifecycleConfigArn\": \"arn:aws:sagemaker:ap-northeast-1:805433377179:studio-lifecycle-config/run-notebook\",\n",
      "    \"StudioLifecycleConfigName\": \"run-notebook\",\n",
      "    \"CreationTime\": 1636981446.212,\n",
      "    \"LastModifiedTime\": 1636981446.242,\n",
      "    \"StudioLifecycleConfigContent\": \"ZXhwb3J0IFRFU1RfTENDQ0NDQ0NDQ0NDQ0NDQ0NDQ0M9VEVTVHRlc3R0dHR0dHR0dHR0dHR0dHR0\",\n",
      "    \"StudioLifecycleConfigAppType\": \"KernelGateway\"\n",
      "}\n"
     ]
    }
   ],
   "source": [
    "!aws sagemaker --region ap-northeast-1 describe-studio-lifecycle-config --studio-lifecycle-config-name run-notebook"
   ]
  },
  {
   "cell_type": "markdown",
   "metadata": {},
   "source": [
    "# 利用可能にするには、domain or userprofileとの紐付けが必要\n",
    "https://aws.amazon.com/blogs/machine-learning/customize-amazon-sagemaker-studio-using-lifecycle-configurations/"
   ]
  },
  {
   "cell_type": "code",
   "execution_count": null,
   "metadata": {},
   "outputs": [],
   "source": []
  },
  {
   "cell_type": "code",
   "execution_count": null,
   "metadata": {},
   "outputs": [],
   "source": []
  },
  {
   "cell_type": "code",
   "execution_count": null,
   "metadata": {},
   "outputs": [],
   "source": []
  },
  {
   "cell_type": "code",
   "execution_count": null,
   "metadata": {},
   "outputs": [],
   "source": []
  },
  {
   "cell_type": "markdown",
   "metadata": {},
   "source": [
    "## LCCを削除\n",
    "\n",
    "delete-studio-lifecycle-config¶\n",
    "\n",
    "https://docs.aws.amazon.com/ja_jp/cli/latest/reference/sagemaker/delete-studio-lifecycle-config.html\n"
   ]
  },
  {
   "cell_type": "code",
   "execution_count": 34,
   "metadata": {},
   "outputs": [],
   "source": [
    "!aws sagemaker --region ap-northeast-1 delete-studio-lifecycle-config --studio-lifecycle-config-name run-notebook"
   ]
  },
  {
   "cell_type": "code",
   "execution_count": 35,
   "metadata": {},
   "outputs": [
    {
     "name": "stdout",
     "output_type": "stream",
     "text": [
      "{\n",
      "    \"StudioLifecycleConfigs\": []\n",
      "}\n"
     ]
    }
   ],
   "source": [
    "### 確認\n",
    "!aws sagemaker --region ap-northeast-1 list-studio-lifecycle-configs"
   ]
  },
  {
   "cell_type": "code",
   "execution_count": null,
   "metadata": {},
   "outputs": [],
   "source": []
  }
 ],
 "metadata": {
  "instance_type": "ml.t3.medium",
  "kernelspec": {
   "display_name": "Python 3 (Data Science)",
   "language": "python",
   "name": "python3__SAGEMAKER_INTERNAL__arn:aws:sagemaker:ap-northeast-1:102112518831:image/datascience-1.0"
  },
  "language_info": {
   "codemirror_mode": {
    "name": "ipython",
    "version": 3
   },
   "file_extension": ".py",
   "mimetype": "text/x-python",
   "name": "python",
   "nbconvert_exporter": "python",
   "pygments_lexer": "ipython3",
   "version": "3.7.10"
  }
 },
 "nbformat": 4,
 "nbformat_minor": 4
}
