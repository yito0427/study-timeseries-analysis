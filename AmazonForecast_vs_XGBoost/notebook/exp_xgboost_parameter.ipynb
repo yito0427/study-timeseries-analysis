{
 "cells": [
  {
   "cell_type": "markdown",
   "metadata": {},
   "source": [
    "# XGBoostでパラメータ指定する方法を確認\n",
    "Scikit-learnAPIの場合"
   ]
  },
  {
   "cell_type": "code",
   "execution_count": 1,
   "metadata": {},
   "outputs": [],
   "source": [
    "import matplotlib.pyplot as plt\n",
    "import numpy as np\n",
    "import pandas as pd"
   ]
  },
  {
   "cell_type": "markdown",
   "metadata": {},
   "source": [
    "## 1.データ作成"
   ]
  },
  {
   "cell_type": "code",
   "execution_count": 2,
   "metadata": {},
   "outputs": [],
   "source": [
    "df = pd.DataFrame(np.arange(6000), columns=['target'])"
   ]
  },
  {
   "cell_type": "code",
   "execution_count": 3,
   "metadata": {},
   "outputs": [],
   "source": [
    "df['feature'] = df['target']"
   ]
  },
  {
   "cell_type": "code",
   "execution_count": 4,
   "metadata": {},
   "outputs": [
    {
     "name": "stdout",
     "output_type": "stream",
     "text": [
      "(6000, 2)\n"
     ]
    },
    {
     "data": {
      "text/html": [
       "<div>\n",
       "<style scoped>\n",
       "    .dataframe tbody tr th:only-of-type {\n",
       "        vertical-align: middle;\n",
       "    }\n",
       "\n",
       "    .dataframe tbody tr th {\n",
       "        vertical-align: top;\n",
       "    }\n",
       "\n",
       "    .dataframe thead th {\n",
       "        text-align: right;\n",
       "    }\n",
       "</style>\n",
       "<table border=\"1\" class=\"dataframe\">\n",
       "  <thead>\n",
       "    <tr style=\"text-align: right;\">\n",
       "      <th></th>\n",
       "      <th>target</th>\n",
       "      <th>feature</th>\n",
       "    </tr>\n",
       "  </thead>\n",
       "  <tbody>\n",
       "    <tr>\n",
       "      <th>0</th>\n",
       "      <td>0</td>\n",
       "      <td>0</td>\n",
       "    </tr>\n",
       "    <tr>\n",
       "      <th>1</th>\n",
       "      <td>1</td>\n",
       "      <td>1</td>\n",
       "    </tr>\n",
       "    <tr>\n",
       "      <th>2</th>\n",
       "      <td>2</td>\n",
       "      <td>2</td>\n",
       "    </tr>\n",
       "    <tr>\n",
       "      <th>3</th>\n",
       "      <td>3</td>\n",
       "      <td>3</td>\n",
       "    </tr>\n",
       "    <tr>\n",
       "      <th>4</th>\n",
       "      <td>4</td>\n",
       "      <td>4</td>\n",
       "    </tr>\n",
       "  </tbody>\n",
       "</table>\n",
       "</div>"
      ],
      "text/plain": [
       "   target  feature\n",
       "0       0        0\n",
       "1       1        1\n",
       "2       2        2\n",
       "3       3        3\n",
       "4       4        4"
      ]
     },
     "execution_count": 4,
     "metadata": {},
     "output_type": "execute_result"
    }
   ],
   "source": [
    "print(df.shape)\n",
    "df.head()"
   ]
  },
  {
   "cell_type": "code",
   "execution_count": 5,
   "metadata": {},
   "outputs": [
    {
     "data": {
      "text/plain": [
       "<matplotlib.axes._subplots.AxesSubplot at 0x7fd9c88fbc50>"
      ]
     },
     "execution_count": 5,
     "metadata": {},
     "output_type": "execute_result"
    },
    {
     "data": {
      "image/png": "[encoded data removed]",
      "text/plain": [
       "<Figure size 432x288 with 1 Axes>"
      ]
     },
     "metadata": {
      "needs_background": "light"
     },
     "output_type": "display_data"
    }
   ],
   "source": [
    "df['target'].plot(grid=True)"
   ]
  },
  {
   "cell_type": "markdown",
   "metadata": {},
   "source": [
    "## 2.データ分割"
   ]
  },
  {
   "cell_type": "code",
   "execution_count": 6,
   "metadata": {},
   "outputs": [],
   "source": [
    "X_train = pd.DataFrame(df['feature'][:4000])\n",
    "y_train = df['target'][:4000]\n",
    "\n",
    "X_valid = pd.DataFrame(df['feature'][4000:5000])\n",
    "y_valid = df['target'][4000:5000]\n",
    "\n",
    "X_test = pd.DataFrame(df['feature'][5000:])\n",
    "y_test = df['target'][5000:]"
   ]
  },
  {
   "cell_type": "code",
   "execution_count": 7,
   "metadata": {},
   "outputs": [
    {
     "data": {
      "image/png": "[encoded data removed]",
      "text/plain": [
       "<Figure size 432x360 with 1 Axes>"
      ]
     },
     "metadata": {},
     "output_type": "display_data"
    }
   ],
   "source": [
    "plt.figure(figsize=(6,5),facecolor=\"w\")\n",
    "plt.plot(y_train,label='train_y')\n",
    "plt.plot(y_valid,label='valid_y')\n",
    "plt.plot(y_test,label='test_y')\n",
    "#plt.plot(y_pred_train,label='train_pred')\n",
    "#plt.plot(y_pred_valid,label='valid_pred')\n",
    "#plt.plot(y_pred_test,label='test_pred')\n",
    "plt.grid(True)\n",
    "plt.legend(loc=\"lower right\", fontsize=10)\n",
    "\n",
    "plt.show()"
   ]
  },
  {
   "cell_type": "markdown",
   "metadata": {},
   "source": [
    "## 3.モデリング"
   ]
  },
  {
   "cell_type": "markdown",
   "metadata": {},
   "source": [
    "## 3-1.XGBoostインストール"
   ]
  },
  {
   "cell_type": "code",
   "execution_count": 8,
   "metadata": {},
   "outputs": [
    {
     "name": "stdout",
     "output_type": "stream",
     "text": [
      "/opt/conda/lib/python3.7/site-packages/secretstorage/dhcrypto.py:16: CryptographyDeprecationWarning: int_from_bytes is deprecated, use int.from_bytes instead\n",
      "  from cryptography.utils import int_from_bytes\n",
      "/opt/conda/lib/python3.7/site-packages/secretstorage/util.py:25: CryptographyDeprecationWarning: int_from_bytes is deprecated, use int.from_bytes instead\n",
      "  from cryptography.utils import int_from_bytes\n",
      "Requirement already satisfied: xgboost==1.5.0 in /opt/conda/lib/python3.7/site-packages (1.5.0)\n",
      "Requirement already satisfied: numpy in /opt/conda/lib/python3.7/site-packages (from xgboost==1.5.0) (1.20.3)\n",
      "Requirement already satisfied: scipy in /opt/conda/lib/python3.7/site-packages (from xgboost==1.5.0) (1.4.1)\n",
      "\u001b[33mWARNING: Running pip as the 'root' user can result in broken permissions and conflicting behaviour with the system package manager. It is recommended to use a virtual environment instead: https://pip.pypa.io/warnings/venv\u001b[0m\n"
     ]
    }
   ],
   "source": [
    "!pip install xgboost==1.5.0"
   ]
  },
  {
   "cell_type": "code",
   "execution_count": 9,
   "metadata": {},
   "outputs": [],
   "source": [
    "import xgboost as xgb"
   ]
  },
  {
   "cell_type": "code",
   "execution_count": 10,
   "metadata": {},
   "outputs": [
    {
     "data": {
      "text/plain": [
       "'1.5.0'"
      ]
     },
     "execution_count": 10,
     "metadata": {},
     "output_type": "execute_result"
    }
   ],
   "source": [
    "### バージョン確認\n",
    "xgb.__version__"
   ]
  },
  {
   "cell_type": "markdown",
   "metadata": {},
   "source": [
    "## 3-2.パラメータ指定なし：最もシンプルな方法\n",
    "https://qiita.com/msrks/items/e3e958c04a5167575c41"
   ]
  },
  {
   "cell_type": "code",
   "execution_count": 11,
   "metadata": {},
   "outputs": [],
   "source": [
    "#回帰なのでXGBRegressorを利用\n",
    "xgb_reg = xgb.XGBRegressor()"
   ]
  },
  {
   "cell_type": "code",
   "execution_count": 12,
   "metadata": {},
   "outputs": [
    {
     "data": {
      "text/plain": [
       "{'objective': 'reg:squarederror',\n",
       " 'base_score': None,\n",
       " 'booster': None,\n",
       " 'colsample_bylevel': None,\n",
       " 'colsample_bynode': None,\n",
       " 'colsample_bytree': None,\n",
       " 'gamma': None,\n",
       " 'gpu_id': None,\n",
       " 'interaction_constraints': None,\n",
       " 'learning_rate': None,\n",
       " 'max_delta_step': None,\n",
       " 'max_depth': None,\n",
       " 'min_child_weight': None,\n",
       " 'monotone_constraints': None,\n",
       " 'n_jobs': None,\n",
       " 'num_parallel_tree': None,\n",
       " 'predictor': None,\n",
       " 'random_state': None,\n",
       " 'reg_alpha': None,\n",
       " 'reg_lambda': None,\n",
       " 'scale_pos_weight': None,\n",
       " 'subsample': None,\n",
       " 'tree_method': None,\n",
       " 'validate_parameters': None,\n",
       " 'verbosity': None}"
      ]
     },
     "execution_count": 12,
     "metadata": {},
     "output_type": "execute_result"
    }
   ],
   "source": [
    "### パラメータ確認\n",
    "xgb_reg.get_xgb_params()"
   ]
  },
  {
   "cell_type": "code",
   "execution_count": 13,
   "metadata": {},
   "outputs": [
    {
     "data": {
      "text/plain": [
       "{'objective': 'reg:squarederror',\n",
       " 'base_score': None,\n",
       " 'booster': None,\n",
       " 'colsample_bylevel': None,\n",
       " 'colsample_bynode': None,\n",
       " 'colsample_bytree': None,\n",
       " 'enable_categorical': False,\n",
       " 'gamma': None,\n",
       " 'gpu_id': None,\n",
       " 'importance_type': None,\n",
       " 'interaction_constraints': None,\n",
       " 'learning_rate': None,\n",
       " 'max_delta_step': None,\n",
       " 'max_depth': None,\n",
       " 'min_child_weight': None,\n",
       " 'missing': nan,\n",
       " 'monotone_constraints': None,\n",
       " 'n_estimators': 100,\n",
       " 'n_jobs': None,\n",
       " 'num_parallel_tree': None,\n",
       " 'predictor': None,\n",
       " 'random_state': None,\n",
       " 'reg_alpha': None,\n",
       " 'reg_lambda': None,\n",
       " 'scale_pos_weight': None,\n",
       " 'subsample': None,\n",
       " 'tree_method': None,\n",
       " 'validate_parameters': None,\n",
       " 'verbosity': None}"
      ]
     },
     "execution_count": 13,
     "metadata": {},
     "output_type": "execute_result"
    }
   ],
   "source": [
    "xgb_reg.get_params()"
   ]
  },
  {
   "cell_type": "markdown",
   "metadata": {},
   "source": [
    "#### 学習"
   ]
  },
  {
   "cell_type": "code",
   "execution_count": 14,
   "metadata": {},
   "outputs": [
    {
     "data": {
      "text/plain": [
       "XGBRegressor(base_score=0.5, booster='gbtree', colsample_bylevel=1,\n",
       "             colsample_bynode=1, colsample_bytree=1, enable_categorical=False,\n",
       "             gamma=0, gpu_id=-1, importance_type=None,\n",
       "             interaction_constraints='', learning_rate=0.300000012,\n",
       "             max_delta_step=0, max_depth=6, min_child_weight=1, missing=nan,\n",
       "             monotone_constraints='()', n_estimators=100, n_jobs=2,\n",
       "             num_parallel_tree=1, objective='reg:squarederror',\n",
       "             predictor='auto', random_state=0, reg_alpha=0, reg_lambda=1,\n",
       "             scale_pos_weight=1, subsample=1, tree_method='exact',\n",
       "             validate_parameters=1, verbosity=None)"
      ]
     },
     "execution_count": 14,
     "metadata": {},
     "output_type": "execute_result"
    }
   ],
   "source": [
    "xgb_reg.fit(X_train, y_train)"
   ]
  },
  {
   "cell_type": "markdown",
   "metadata": {},
   "source": [
    "### 学習できているかどうかは、予測することで確認できる。"
   ]
  },
  {
   "cell_type": "code",
   "execution_count": 15,
   "metadata": {},
   "outputs": [],
   "source": [
    "y_pred_test  = xgb_reg.predict(X_test)"
   ]
  },
  {
   "cell_type": "code",
   "execution_count": 16,
   "metadata": {},
   "outputs": [
    {
     "data": {
      "image/png": "[encoded data removed]",
      "text/plain": [
       "<Figure size 432x360 with 1 Axes>"
      ]
     },
     "metadata": {},
     "output_type": "display_data"
    }
   ],
   "source": [
    "plt.figure(figsize=(6,5),facecolor=\"w\")\n",
    "plt.plot(y_pred_test,label='test_pred')\n",
    "plt.grid(True)\n",
    "plt.legend(loc=\"lower right\", fontsize=10)\n",
    "\n",
    "plt.show()"
   ]
  },
  {
   "cell_type": "code",
   "execution_count": 17,
   "metadata": {},
   "outputs": [
    {
     "data": {
      "text/plain": [
       "array([1.], dtype=float32)"
      ]
     },
     "execution_count": 17,
     "metadata": {},
     "output_type": "execute_result"
    }
   ],
   "source": [
    "### 重要度\n",
    "xgb_reg.feature_importances_"
   ]
  },
  {
   "cell_type": "markdown",
   "metadata": {},
   "source": [
    "### 学習曲線\n",
    "https://xgboost.readthedocs.io/en/latest/python/python_api.html#xgboost.XGBRegressor.evals_result"
   ]
  },
  {
   "cell_type": "code",
   "execution_count": 18,
   "metadata": {},
   "outputs": [],
   "source": [
    "### 学習曲線\n",
    "#xgb_reg.evals_result() ### エラーになる（validationしていないため）"
   ]
  },
  {
   "cell_type": "markdown",
   "metadata": {},
   "source": [
    "## 3-3.Estimatorのみパラメータ指定"
   ]
  },
  {
   "cell_type": "markdown",
   "metadata": {},
   "source": [
    "### estimatorで取れるパラメータ\n",
    "https://xgboost.readthedocs.io/en/latest/python/python_api.html#xgboost.XGBRegressor\n",
    "\n",
    "n_estimators  \n",
    "max_depth  \n",
    "learning_rate  \n",
    "verbosity  \n",
    "objective  \n",
    "booster  \n",
    "tree_method  \n",
    "n_jobs  \n",
    "gamma  \n",
    "min_child_weight  \n",
    "max_delta_step  \n",
    "subsample  \n",
    "colsample_bytree  \n",
    "colsample_bylevel  \n",
    "colsample_bynode  \n",
    "reg_alpha  \n",
    "reg_lambda  \n",
    "scale_pos_weight  \n",
    "base_score  \n",
    "random_state  \n",
    "missing  \n",
    "num_parallel_tree  \n",
    "monotone_constraints  \n",
    "interaction_constraints  \n",
    "importance_type  \n",
    "gpu_id  \n",
    "validate_parameters  \n",
    "predictor  \n",
    "enable_categorical  \n",
    "eval_metric  \n",
    "early_stopping_rounds  \n",
    "callbacks  \n",
    "kwargs  \n",
    "  "
   ]
  },
  {
   "cell_type": "code",
   "execution_count": 19,
   "metadata": {},
   "outputs": [],
   "source": [
    "kwargs = {\n",
    " 'objective': 'reg:squarederror',\n",
    " 'base_score': None,\n",
    " 'booster': None,\n",
    " 'colsample_bylevel': None,\n",
    " 'colsample_bynode': None,\n",
    " 'colsample_bytree': None,\n",
    " 'enable_categorical': False,\n",
    " 'gamma': None,\n",
    " 'gpu_id': None,\n",
    " 'importance_type': None,\n",
    " 'interaction_constraints': None,\n",
    " 'learning_rate': None,\n",
    " 'max_delta_step': None,\n",
    " 'max_depth': None,\n",
    " 'min_child_weight': None,\n",
    " #'missing': '',   ### うまく指定できない\n",
    " 'monotone_constraints': None,\n",
    " 'n_estimators': 100,\n",
    " 'n_jobs': None,\n",
    " 'num_parallel_tree': None,\n",
    " 'predictor': None,\n",
    " 'random_state': None,\n",
    " 'reg_alpha': None,\n",
    " 'reg_lambda': None,\n",
    " 'scale_pos_weight': None,\n",
    " 'subsample': None,\n",
    " 'tree_method': None,\n",
    " 'validate_parameters': None,\n",
    " 'verbosity': None}"
   ]
  },
  {
   "cell_type": "code",
   "execution_count": 20,
   "metadata": {},
   "outputs": [],
   "source": [
    "#回帰なのでXGBRegressorを利用\n",
    "xgb_reg2 = xgb.XGBRegressor(**kwargs)"
   ]
  },
  {
   "cell_type": "code",
   "execution_count": 21,
   "metadata": {},
   "outputs": [
    {
     "data": {
      "text/plain": [
       "{'objective': 'reg:squarederror',\n",
       " 'base_score': None,\n",
       " 'booster': None,\n",
       " 'colsample_bylevel': None,\n",
       " 'colsample_bynode': None,\n",
       " 'colsample_bytree': None,\n",
       " 'gamma': None,\n",
       " 'gpu_id': None,\n",
       " 'interaction_constraints': None,\n",
       " 'learning_rate': None,\n",
       " 'max_delta_step': None,\n",
       " 'max_depth': None,\n",
       " 'min_child_weight': None,\n",
       " 'monotone_constraints': None,\n",
       " 'n_jobs': None,\n",
       " 'num_parallel_tree': None,\n",
       " 'predictor': None,\n",
       " 'random_state': None,\n",
       " 'reg_alpha': None,\n",
       " 'reg_lambda': None,\n",
       " 'scale_pos_weight': None,\n",
       " 'subsample': None,\n",
       " 'tree_method': None,\n",
       " 'validate_parameters': None,\n",
       " 'verbosity': None}"
      ]
     },
     "execution_count": 21,
     "metadata": {},
     "output_type": "execute_result"
    }
   ],
   "source": [
    "### パラメータ確認\n",
    "xgb_reg2.get_xgb_params()"
   ]
  },
  {
   "cell_type": "code",
   "execution_count": 22,
   "metadata": {},
   "outputs": [
    {
     "data": {
      "text/plain": [
       "{'objective': 'reg:squarederror',\n",
       " 'base_score': None,\n",
       " 'booster': None,\n",
       " 'colsample_bylevel': None,\n",
       " 'colsample_bynode': None,\n",
       " 'colsample_bytree': None,\n",
       " 'enable_categorical': False,\n",
       " 'gamma': None,\n",
       " 'gpu_id': None,\n",
       " 'importance_type': None,\n",
       " 'interaction_constraints': None,\n",
       " 'learning_rate': None,\n",
       " 'max_delta_step': None,\n",
       " 'max_depth': None,\n",
       " 'min_child_weight': None,\n",
       " 'missing': nan,\n",
       " 'monotone_constraints': None,\n",
       " 'n_estimators': 100,\n",
       " 'n_jobs': None,\n",
       " 'num_parallel_tree': None,\n",
       " 'predictor': None,\n",
       " 'random_state': None,\n",
       " 'reg_alpha': None,\n",
       " 'reg_lambda': None,\n",
       " 'scale_pos_weight': None,\n",
       " 'subsample': None,\n",
       " 'tree_method': None,\n",
       " 'validate_parameters': None,\n",
       " 'verbosity': None}"
      ]
     },
     "execution_count": 22,
     "metadata": {},
     "output_type": "execute_result"
    }
   ],
   "source": [
    "xgb_reg2.get_params()"
   ]
  },
  {
   "cell_type": "code",
   "execution_count": 23,
   "metadata": {},
   "outputs": [
    {
     "data": {
      "text/plain": [
       "XGBRegressor(base_score=0.5, booster='gbtree', colsample_bylevel=1,\n",
       "             colsample_bynode=1, colsample_bytree=1, enable_categorical=False,\n",
       "             gamma=0, gpu_id=-1, importance_type=None,\n",
       "             interaction_constraints='', learning_rate=0.300000012,\n",
       "             max_delta_step=0, max_depth=6, min_child_weight=1, missing=nan,\n",
       "             monotone_constraints='()', n_estimators=100, n_jobs=2,\n",
       "             num_parallel_tree=1, objective='reg:squarederror',\n",
       "             predictor='auto', random_state=0, reg_alpha=0, reg_lambda=1,\n",
       "             scale_pos_weight=1, subsample=1, tree_method='exact',\n",
       "             validate_parameters=1, verbosity=None)"
      ]
     },
     "execution_count": 23,
     "metadata": {},
     "output_type": "execute_result"
    }
   ],
   "source": [
    "xgb_reg2.fit(X_train, y_train)"
   ]
  },
  {
   "cell_type": "code",
   "execution_count": 24,
   "metadata": {},
   "outputs": [],
   "source": [
    "y_pred_test  = xgb_reg2.predict(X_test)"
   ]
  },
  {
   "cell_type": "code",
   "execution_count": 25,
   "metadata": {},
   "outputs": [
    {
     "data": {
      "image/png": "[encoded data removed]",
      "text/plain": [
       "<Figure size 432x360 with 1 Axes>"
      ]
     },
     "metadata": {},
     "output_type": "display_data"
    }
   ],
   "source": [
    "plt.figure(figsize=(6,5),facecolor=\"w\")\n",
    "plt.plot(y_pred_test,label='test_pred')\n",
    "plt.grid(True)\n",
    "plt.legend(loc=\"lower right\", fontsize=10)\n",
    "\n",
    "plt.show()"
   ]
  },
  {
   "cell_type": "code",
   "execution_count": 26,
   "metadata": {},
   "outputs": [
    {
     "data": {
      "text/plain": [
       "array([1.], dtype=float32)"
      ]
     },
     "execution_count": 26,
     "metadata": {},
     "output_type": "execute_result"
    }
   ],
   "source": [
    "xgb_reg.feature_importances_"
   ]
  },
  {
   "cell_type": "code",
   "execution_count": 27,
   "metadata": {},
   "outputs": [],
   "source": [
    "### 学習曲線\n",
    "#xgb_reg2.evals_result() ### エラーになる（validationしていないため）"
   ]
  },
  {
   "cell_type": "markdown",
   "metadata": {},
   "source": [
    "## 3-3.fitにパラメータ指定\n",
    "https://xgboost.readthedocs.io/en/latest/python/python_api.html#xgboost.XGBRegressor.fit"
   ]
  },
  {
   "cell_type": "markdown",
   "metadata": {},
   "source": [
    "### fit関数のパラメータ\n",
    "https://xgboost.readthedocs.io/en/latest/python/python_api.html#xgboost.XGBRegressor.fit\n",
    "\n",
    "X:特徴量  \n",
    "y:ターゲット  \n",
    "は必須のインプット  \n",
    "\n",
    "sample_weight=None,  \n",
    "base_margin=None,  \n",
    "eval_set=None,  \n",
    "eval_metric=None,  \n",
    "early_stopping_rounds=None,  \n",
    "verbose=True,  \n",
    "xgb_model=None,  \n",
    "sample_weight_eval_set=None,  \n",
    "base_margin_eval_set=None,  \n",
    "feature_weights=None,  \n",
    "callbacks=None  "
   ]
  },
  {
   "cell_type": "code",
   "execution_count": 28,
   "metadata": {},
   "outputs": [],
   "source": [
    "fit_params = { # デフォルト値\n",
    "    'X': X_train,\n",
    "    'y': y_train,\n",
    "    'sample_weight': None,\n",
    "    'base_margin': None,\n",
    "    'eval_set': [(X_train, y_train),(X_valid, y_valid)], # None # early_stopping_roundsの評価指標算出用データ\n",
    "    'eval_metric': None, # early_stopping_roundsの評価指標\n",
    "    'early_stopping_rounds': None, # 学習時、評価指標がこの回数連続で改善しなくなった時点でストップ\n",
    "    'verbose': 1, # True: eval_set がないと、出力されない 学習中のコマンドライン出力\n",
    "    'xgb_model': None,\n",
    "    'sample_weight_eval_set': None,\n",
    "    'base_margin_eval_set': None,\n",
    "    'feature_weights': None,\n",
    "    'callbacks': None\n",
    "}"
   ]
  },
  {
   "cell_type": "code",
   "execution_count": 29,
   "metadata": {},
   "outputs": [
    {
     "name": "stdout",
     "output_type": "stream",
     "text": [
      "[0]\tvalidation_0-rmse:1619.24622\tvalidation_1-rmse:3391.03467\n",
      "[1]\tvalidation_0-rmse:1135.81824\tvalidation_1-rmse:2587.07642\n",
      "[2]\tvalidation_0-rmse:796.74597\tvalidation_1-rmse:2012.25317\n",
      "[3]\tvalidation_0-rmse:558.99304\tvalidation_1-rmse:1601.89343\n",
      "[4]\tvalidation_0-rmse:392.28442\tvalidation_1-rmse:1306.80383\n",
      "[5]\tvalidation_0-rmse:275.44562\tvalidation_1-rmse:1098.19165\n",
      "[6]\tvalidation_0-rmse:193.56270\tvalidation_1-rmse:956.35791\n",
      "[7]\tvalidation_0-rmse:136.29680\tvalidation_1-rmse:850.32111\n",
      "[8]\tvalidation_0-rmse:96.33594\tvalidation_1-rmse:774.88580\n",
      "[9]\tvalidation_0-rmse:68.35844\tvalidation_1-rmse:724.01886\n",
      "[10]\tvalidation_0-rmse:48.75631\tvalidation_1-rmse:685.25641\n",
      "[11]\tvalidation_0-rmse:35.13022\tvalidation_1-rmse:657.15137\n",
      "[12]\tvalidation_0-rmse:25.83508\tvalidation_1-rmse:636.95709\n",
      "[13]\tvalidation_0-rmse:19.35224\tvalidation_1-rmse:624.29291\n",
      "[14]\tvalidation_0-rmse:15.03282\tvalidation_1-rmse:614.50043\n",
      "[15]\tvalidation_0-rmse:12.24762\tvalidation_1-rmse:606.11865\n",
      "[16]\tvalidation_0-rmse:10.32911\tvalidation_1-rmse:599.83203\n",
      "[17]\tvalidation_0-rmse:9.08612\tvalidation_1-rmse:594.94476\n",
      "[18]\tvalidation_0-rmse:8.26673\tvalidation_1-rmse:593.34106\n",
      "[19]\tvalidation_0-rmse:7.79017\tvalidation_1-rmse:590.06891\n",
      "[20]\tvalidation_0-rmse:7.38185\tvalidation_1-rmse:589.30219\n",
      "[21]\tvalidation_0-rmse:7.02041\tvalidation_1-rmse:588.65991\n",
      "[22]\tvalidation_0-rmse:6.81863\tvalidation_1-rmse:586.56531\n",
      "[23]\tvalidation_0-rmse:6.72392\tvalidation_1-rmse:585.66199\n",
      "[24]\tvalidation_0-rmse:6.48034\tvalidation_1-rmse:585.25433\n",
      "[25]\tvalidation_0-rmse:6.31820\tvalidation_1-rmse:585.15088\n",
      "[26]\tvalidation_0-rmse:6.10178\tvalidation_1-rmse:585.07428\n",
      "[27]\tvalidation_0-rmse:6.05134\tvalidation_1-rmse:583.68329\n",
      "[28]\tvalidation_0-rmse:5.84000\tvalidation_1-rmse:583.66748\n",
      "[29]\tvalidation_0-rmse:5.65079\tvalidation_1-rmse:583.72199\n",
      "[30]\tvalidation_0-rmse:5.51818\tvalidation_1-rmse:583.66748\n",
      "[31]\tvalidation_0-rmse:5.49108\tvalidation_1-rmse:582.67432\n",
      "[32]\tvalidation_0-rmse:5.46133\tvalidation_1-rmse:581.81183\n",
      "[33]\tvalidation_0-rmse:5.34487\tvalidation_1-rmse:581.81690\n",
      "[34]\tvalidation_0-rmse:5.31681\tvalidation_1-rmse:581.76007\n",
      "[35]\tvalidation_0-rmse:5.20631\tvalidation_1-rmse:581.05963\n",
      "[36]\tvalidation_0-rmse:5.14107\tvalidation_1-rmse:581.05646\n",
      "[37]\tvalidation_0-rmse:5.04383\tvalidation_1-rmse:581.04980\n",
      "[38]\tvalidation_0-rmse:5.02839\tvalidation_1-rmse:581.07922\n",
      "[39]\tvalidation_0-rmse:4.89163\tvalidation_1-rmse:581.08826\n",
      "[40]\tvalidation_0-rmse:4.75828\tvalidation_1-rmse:581.09076\n",
      "[41]\tvalidation_0-rmse:4.60603\tvalidation_1-rmse:581.08661\n",
      "[42]\tvalidation_0-rmse:4.50991\tvalidation_1-rmse:581.08679\n",
      "[43]\tvalidation_0-rmse:4.42310\tvalidation_1-rmse:581.08325\n",
      "[44]\tvalidation_0-rmse:4.35977\tvalidation_1-rmse:581.07605\n",
      "[45]\tvalidation_0-rmse:4.33849\tvalidation_1-rmse:580.57196\n",
      "[46]\tvalidation_0-rmse:4.26193\tvalidation_1-rmse:580.59027\n",
      "[47]\tvalidation_0-rmse:4.23530\tvalidation_1-rmse:580.61078\n",
      "[48]\tvalidation_0-rmse:4.13783\tvalidation_1-rmse:580.63721\n",
      "[49]\tvalidation_0-rmse:4.09249\tvalidation_1-rmse:580.59113\n",
      "[50]\tvalidation_0-rmse:4.00639\tvalidation_1-rmse:580.59485\n",
      "[51]\tvalidation_0-rmse:3.94029\tvalidation_1-rmse:580.58710\n",
      "[52]\tvalidation_0-rmse:3.86380\tvalidation_1-rmse:580.58691\n",
      "[53]\tvalidation_0-rmse:3.85846\tvalidation_1-rmse:580.56171\n",
      "[54]\tvalidation_0-rmse:3.84770\tvalidation_1-rmse:580.48383\n",
      "[55]\tvalidation_0-rmse:3.79281\tvalidation_1-rmse:580.48529\n",
      "[56]\tvalidation_0-rmse:3.71132\tvalidation_1-rmse:580.48364\n",
      "[57]\tvalidation_0-rmse:3.67548\tvalidation_1-rmse:580.46509\n",
      "[58]\tvalidation_0-rmse:3.60469\tvalidation_1-rmse:580.44318\n",
      "[59]\tvalidation_0-rmse:3.56290\tvalidation_1-rmse:580.43793\n",
      "[60]\tvalidation_0-rmse:3.52192\tvalidation_1-rmse:580.43420\n",
      "[61]\tvalidation_0-rmse:3.41453\tvalidation_1-rmse:580.43774\n",
      "[62]\tvalidation_0-rmse:3.36006\tvalidation_1-rmse:580.03534\n",
      "[63]\tvalidation_0-rmse:3.34440\tvalidation_1-rmse:580.03418\n",
      "[64]\tvalidation_0-rmse:3.33618\tvalidation_1-rmse:580.03345\n",
      "[65]\tvalidation_0-rmse:3.30589\tvalidation_1-rmse:579.66986\n",
      "[66]\tvalidation_0-rmse:3.26661\tvalidation_1-rmse:579.66638\n",
      "[67]\tvalidation_0-rmse:3.21043\tvalidation_1-rmse:579.67114\n",
      "[68]\tvalidation_0-rmse:3.16852\tvalidation_1-rmse:579.67261\n",
      "[69]\tvalidation_0-rmse:3.10390\tvalidation_1-rmse:579.67664\n",
      "[70]\tvalidation_0-rmse:3.04785\tvalidation_1-rmse:579.66510\n",
      "[71]\tvalidation_0-rmse:3.04533\tvalidation_1-rmse:579.66461\n",
      "[72]\tvalidation_0-rmse:2.99261\tvalidation_1-rmse:579.66425\n",
      "[73]\tvalidation_0-rmse:2.92466\tvalidation_1-rmse:579.66675\n",
      "[74]\tvalidation_0-rmse:2.88644\tvalidation_1-rmse:579.66901\n",
      "[75]\tvalidation_0-rmse:2.83801\tvalidation_1-rmse:579.66266\n",
      "[76]\tvalidation_0-rmse:2.81119\tvalidation_1-rmse:579.66461\n",
      "[77]\tvalidation_0-rmse:2.75346\tvalidation_1-rmse:579.66510\n",
      "[78]\tvalidation_0-rmse:2.73492\tvalidation_1-rmse:579.66339\n",
      "[79]\tvalidation_0-rmse:2.69745\tvalidation_1-rmse:579.66113\n",
      "[80]\tvalidation_0-rmse:2.69147\tvalidation_1-rmse:579.37225\n",
      "[81]\tvalidation_0-rmse:2.67434\tvalidation_1-rmse:579.40356\n",
      "[82]\tvalidation_0-rmse:2.66811\tvalidation_1-rmse:579.37860\n",
      "[83]\tvalidation_0-rmse:2.64248\tvalidation_1-rmse:579.37915\n",
      "[84]\tvalidation_0-rmse:2.59544\tvalidation_1-rmse:579.36957\n",
      "[85]\tvalidation_0-rmse:2.56836\tvalidation_1-rmse:579.36755\n",
      "[86]\tvalidation_0-rmse:2.52943\tvalidation_1-rmse:579.36957\n",
      "[87]\tvalidation_0-rmse:2.48314\tvalidation_1-rmse:579.37689\n",
      "[88]\tvalidation_0-rmse:2.45024\tvalidation_1-rmse:579.37781\n",
      "[89]\tvalidation_0-rmse:2.44401\tvalidation_1-rmse:579.37707\n",
      "[90]\tvalidation_0-rmse:2.41924\tvalidation_1-rmse:579.37329\n",
      "[91]\tvalidation_0-rmse:2.37711\tvalidation_1-rmse:579.37671\n",
      "[92]\tvalidation_0-rmse:2.32842\tvalidation_1-rmse:579.37671\n",
      "[93]\tvalidation_0-rmse:2.30353\tvalidation_1-rmse:579.37604\n",
      "[94]\tvalidation_0-rmse:2.29325\tvalidation_1-rmse:579.37128\n",
      "[95]\tvalidation_0-rmse:2.27911\tvalidation_1-rmse:579.37079\n",
      "[96]\tvalidation_0-rmse:2.25340\tvalidation_1-rmse:579.36517\n",
      "[97]\tvalidation_0-rmse:2.23332\tvalidation_1-rmse:579.36383\n",
      "[98]\tvalidation_0-rmse:2.21218\tvalidation_1-rmse:579.36145\n",
      "[99]\tvalidation_0-rmse:2.21056\tvalidation_1-rmse:579.13251\n"
     ]
    },
    {
     "data": {
      "text/plain": [
       "XGBRegressor(base_score=0.5, booster='gbtree', colsample_bylevel=1,\n",
       "             colsample_bynode=1, colsample_bytree=1, enable_categorical=False,\n",
       "             gamma=0, gpu_id=-1, importance_type=None,\n",
       "             interaction_constraints='', learning_rate=0.300000012,\n",
       "             max_delta_step=0, max_depth=6, min_child_weight=1, missing=nan,\n",
       "             monotone_constraints='()', n_estimators=100, n_jobs=2,\n",
       "             num_parallel_tree=1, objective='reg:squarederror',\n",
       "             predictor='auto', random_state=0, reg_alpha=0, reg_lambda=1,\n",
       "             scale_pos_weight=1, subsample=1, tree_method='exact',\n",
       "             validate_parameters=1, verbosity=None)"
      ]
     },
     "execution_count": 29,
     "metadata": {},
     "output_type": "execute_result"
    }
   ],
   "source": [
    "#xgb_reg2.fit(X_train, y_train, **fit_params)\n",
    "xgb_reg2.fit(**fit_params)"
   ]
  },
  {
   "cell_type": "code",
   "execution_count": 30,
   "metadata": {},
   "outputs": [],
   "source": [
    "y_pred_train = xgb_reg2.predict(X_train)\n",
    "y_pred_valid = xgb_reg2.predict(X_valid)\n",
    "y_pred_test  = xgb_reg2.predict(X_test)\n",
    "\n",
    "y_pred_train = pd.Series(y_pred_train, index=y_train.index)\n",
    "y_pred_valid = pd.Series(y_pred_valid, index=y_valid.index)\n",
    "y_pred_test  = pd.Series(y_pred_test,  index=y_test.index)"
   ]
  },
  {
   "cell_type": "code",
   "execution_count": 31,
   "metadata": {},
   "outputs": [
    {
     "data": {
      "image/png": "[encoded data removed]",
      "text/plain": [
       "<Figure size 432x360 with 1 Axes>"
      ]
     },
     "metadata": {},
     "output_type": "display_data"
    }
   ],
   "source": [
    "plt.figure(figsize=(6,5),facecolor=\"w\")\n",
    "plt.plot(y_train,label='train_y')\n",
    "plt.plot(y_valid,label='valid_y')\n",
    "plt.plot(y_test,label='test_y')\n",
    "plt.plot(y_pred_train,label='train_pred')\n",
    "plt.plot(y_pred_valid,label='valid_pred')\n",
    "plt.plot(y_pred_test,label='test_pred')\n",
    "plt.grid(True)\n",
    "plt.legend(loc=\"lower right\", fontsize=10)\n",
    "\n",
    "plt.show()"
   ]
  },
  {
   "cell_type": "markdown",
   "metadata": {},
   "source": [
    "## 3-4.fitのよくあるパターン\n",
    "Xとyはfit()で指定するバターンがwebの記事ではよくある。上記はパラメータ辞書に入れてしまった。"
   ]
  },
  {
   "cell_type": "code",
   "execution_count": 32,
   "metadata": {},
   "outputs": [],
   "source": [
    "fit_params = { # デフォルト値\n",
    "    #'X': X_train,\n",
    "    #'y': y_train,\n",
    "    'sample_weight': None,\n",
    "    'base_margin': None,\n",
    "    'eval_set': [(X_train, y_train),(X_valid, y_valid)], # None # early_stopping_roundsの評価指標算出用データ\n",
    "    'eval_metric': None, # early_stopping_roundsの評価指標\n",
    "    'early_stopping_rounds': None, # 学習時、評価指標がこの回数連続で改善しなくなった時点でストップ\n",
    "    'verbose': 1, # True: eval_set がないと、出力されない 学習中のコマンドライン出力\n",
    "    'xgb_model': None,\n",
    "    'sample_weight_eval_set': None,\n",
    "    'base_margin_eval_set': None,\n",
    "    'feature_weights': None,\n",
    "    'callbacks': None\n",
    "}"
   ]
  },
  {
   "cell_type": "code",
   "execution_count": 33,
   "metadata": {},
   "outputs": [
    {
     "name": "stdout",
     "output_type": "stream",
     "text": [
      "[0]\tvalidation_0-rmse:1619.24622\tvalidation_1-rmse:3391.03467\n",
      "[1]\tvalidation_0-rmse:1135.81824\tvalidation_1-rmse:2587.07642\n",
      "[2]\tvalidation_0-rmse:796.74597\tvalidation_1-rmse:2012.25317\n",
      "[3]\tvalidation_0-rmse:558.99304\tvalidation_1-rmse:1601.89343\n",
      "[4]\tvalidation_0-rmse:392.28442\tvalidation_1-rmse:1306.80383\n",
      "[5]\tvalidation_0-rmse:275.44562\tvalidation_1-rmse:1098.19165\n",
      "[6]\tvalidation_0-rmse:193.56270\tvalidation_1-rmse:956.35791\n",
      "[7]\tvalidation_0-rmse:136.29680\tvalidation_1-rmse:850.32111\n",
      "[8]\tvalidation_0-rmse:96.33594\tvalidation_1-rmse:774.88580\n",
      "[9]\tvalidation_0-rmse:68.35844\tvalidation_1-rmse:724.01886\n",
      "[10]\tvalidation_0-rmse:48.75631\tvalidation_1-rmse:685.25641\n",
      "[11]\tvalidation_0-rmse:35.13022\tvalidation_1-rmse:657.15137\n",
      "[12]\tvalidation_0-rmse:25.83508\tvalidation_1-rmse:636.95709\n",
      "[13]\tvalidation_0-rmse:19.35224\tvalidation_1-rmse:624.29291\n",
      "[14]\tvalidation_0-rmse:15.03282\tvalidation_1-rmse:614.50043\n",
      "[15]\tvalidation_0-rmse:12.24762\tvalidation_1-rmse:606.11865\n",
      "[16]\tvalidation_0-rmse:10.32911\tvalidation_1-rmse:599.83203\n",
      "[17]\tvalidation_0-rmse:9.08612\tvalidation_1-rmse:594.94476\n",
      "[18]\tvalidation_0-rmse:8.26673\tvalidation_1-rmse:593.34106\n",
      "[19]\tvalidation_0-rmse:7.79017\tvalidation_1-rmse:590.06891\n",
      "[20]\tvalidation_0-rmse:7.38185\tvalidation_1-rmse:589.30219\n",
      "[21]\tvalidation_0-rmse:7.02041\tvalidation_1-rmse:588.65991\n",
      "[22]\tvalidation_0-rmse:6.81863\tvalidation_1-rmse:586.56531\n",
      "[23]\tvalidation_0-rmse:6.72392\tvalidation_1-rmse:585.66199\n",
      "[24]\tvalidation_0-rmse:6.48034\tvalidation_1-rmse:585.25433\n",
      "[25]\tvalidation_0-rmse:6.31820\tvalidation_1-rmse:585.15088\n",
      "[26]\tvalidation_0-rmse:6.10178\tvalidation_1-rmse:585.07428\n",
      "[27]\tvalidation_0-rmse:6.05134\tvalidation_1-rmse:583.68329\n",
      "[28]\tvalidation_0-rmse:5.84000\tvalidation_1-rmse:583.66748\n",
      "[29]\tvalidation_0-rmse:5.65079\tvalidation_1-rmse:583.72199\n",
      "[30]\tvalidation_0-rmse:5.51818\tvalidation_1-rmse:583.66748\n",
      "[31]\tvalidation_0-rmse:5.49108\tvalidation_1-rmse:582.67432\n",
      "[32]\tvalidation_0-rmse:5.46133\tvalidation_1-rmse:581.81183\n",
      "[33]\tvalidation_0-rmse:5.34487\tvalidation_1-rmse:581.81690\n",
      "[34]\tvalidation_0-rmse:5.31681\tvalidation_1-rmse:581.76007\n",
      "[35]\tvalidation_0-rmse:5.20631\tvalidation_1-rmse:581.05963\n",
      "[36]\tvalidation_0-rmse:5.14107\tvalidation_1-rmse:581.05646\n",
      "[37]\tvalidation_0-rmse:5.04383\tvalidation_1-rmse:581.04980\n",
      "[38]\tvalidation_0-rmse:5.02839\tvalidation_1-rmse:581.07922\n",
      "[39]\tvalidation_0-rmse:4.89163\tvalidation_1-rmse:581.08826\n",
      "[40]\tvalidation_0-rmse:4.75828\tvalidation_1-rmse:581.09076\n",
      "[41]\tvalidation_0-rmse:4.60603\tvalidation_1-rmse:581.08661\n",
      "[42]\tvalidation_0-rmse:4.50991\tvalidation_1-rmse:581.08679\n",
      "[43]\tvalidation_0-rmse:4.42310\tvalidation_1-rmse:581.08325\n",
      "[44]\tvalidation_0-rmse:4.35977\tvalidation_1-rmse:581.07605\n",
      "[45]\tvalidation_0-rmse:4.33849\tvalidation_1-rmse:580.57196\n",
      "[46]\tvalidation_0-rmse:4.26193\tvalidation_1-rmse:580.59027\n",
      "[47]\tvalidation_0-rmse:4.23530\tvalidation_1-rmse:580.61078\n",
      "[48]\tvalidation_0-rmse:4.13783\tvalidation_1-rmse:580.63721\n",
      "[49]\tvalidation_0-rmse:4.09249\tvalidation_1-rmse:580.59113\n",
      "[50]\tvalidation_0-rmse:4.00639\tvalidation_1-rmse:580.59485\n",
      "[51]\tvalidation_0-rmse:3.94029\tvalidation_1-rmse:580.58710\n",
      "[52]\tvalidation_0-rmse:3.86380\tvalidation_1-rmse:580.58691\n",
      "[53]\tvalidation_0-rmse:3.85846\tvalidation_1-rmse:580.56171\n",
      "[54]\tvalidation_0-rmse:3.84770\tvalidation_1-rmse:580.48383\n",
      "[55]\tvalidation_0-rmse:3.79281\tvalidation_1-rmse:580.48529\n",
      "[56]\tvalidation_0-rmse:3.71132\tvalidation_1-rmse:580.48364\n",
      "[57]\tvalidation_0-rmse:3.67548\tvalidation_1-rmse:580.46509\n",
      "[58]\tvalidation_0-rmse:3.60469\tvalidation_1-rmse:580.44318\n",
      "[59]\tvalidation_0-rmse:3.56290\tvalidation_1-rmse:580.43793\n",
      "[60]\tvalidation_0-rmse:3.52192\tvalidation_1-rmse:580.43420\n",
      "[61]\tvalidation_0-rmse:3.41453\tvalidation_1-rmse:580.43774\n",
      "[62]\tvalidation_0-rmse:3.36006\tvalidation_1-rmse:580.03534\n",
      "[63]\tvalidation_0-rmse:3.34440\tvalidation_1-rmse:580.03418\n",
      "[64]\tvalidation_0-rmse:3.33618\tvalidation_1-rmse:580.03345\n",
      "[65]\tvalidation_0-rmse:3.30589\tvalidation_1-rmse:579.66986\n",
      "[66]\tvalidation_0-rmse:3.26661\tvalidation_1-rmse:579.66638\n",
      "[67]\tvalidation_0-rmse:3.21043\tvalidation_1-rmse:579.67114\n",
      "[68]\tvalidation_0-rmse:3.16852\tvalidation_1-rmse:579.67261\n",
      "[69]\tvalidation_0-rmse:3.10390\tvalidation_1-rmse:579.67664\n",
      "[70]\tvalidation_0-rmse:3.04785\tvalidation_1-rmse:579.66510\n",
      "[71]\tvalidation_0-rmse:3.04533\tvalidation_1-rmse:579.66461\n",
      "[72]\tvalidation_0-rmse:2.99261\tvalidation_1-rmse:579.66425\n",
      "[73]\tvalidation_0-rmse:2.92466\tvalidation_1-rmse:579.66675\n",
      "[74]\tvalidation_0-rmse:2.88644\tvalidation_1-rmse:579.66901\n",
      "[75]\tvalidation_0-rmse:2.83801\tvalidation_1-rmse:579.66266\n",
      "[76]\tvalidation_0-rmse:2.81119\tvalidation_1-rmse:579.66461\n",
      "[77]\tvalidation_0-rmse:2.75346\tvalidation_1-rmse:579.66510\n",
      "[78]\tvalidation_0-rmse:2.73492\tvalidation_1-rmse:579.66339\n",
      "[79]\tvalidation_0-rmse:2.69745\tvalidation_1-rmse:579.66113\n",
      "[80]\tvalidation_0-rmse:2.69147\tvalidation_1-rmse:579.37225\n",
      "[81]\tvalidation_0-rmse:2.67434\tvalidation_1-rmse:579.40356\n",
      "[82]\tvalidation_0-rmse:2.66811\tvalidation_1-rmse:579.37860\n",
      "[83]\tvalidation_0-rmse:2.64248\tvalidation_1-rmse:579.37915\n",
      "[84]\tvalidation_0-rmse:2.59544\tvalidation_1-rmse:579.36957\n",
      "[85]\tvalidation_0-rmse:2.56836\tvalidation_1-rmse:579.36755\n",
      "[86]\tvalidation_0-rmse:2.52943\tvalidation_1-rmse:579.36957\n",
      "[87]\tvalidation_0-rmse:2.48314\tvalidation_1-rmse:579.37689\n",
      "[88]\tvalidation_0-rmse:2.45024\tvalidation_1-rmse:579.37781\n",
      "[89]\tvalidation_0-rmse:2.44401\tvalidation_1-rmse:579.37707\n",
      "[90]\tvalidation_0-rmse:2.41924\tvalidation_1-rmse:579.37329\n",
      "[91]\tvalidation_0-rmse:2.37711\tvalidation_1-rmse:579.37671\n",
      "[92]\tvalidation_0-rmse:2.32842\tvalidation_1-rmse:579.37671\n",
      "[93]\tvalidation_0-rmse:2.30353\tvalidation_1-rmse:579.37604\n",
      "[94]\tvalidation_0-rmse:2.29325\tvalidation_1-rmse:579.37128\n",
      "[95]\tvalidation_0-rmse:2.27911\tvalidation_1-rmse:579.37079\n",
      "[96]\tvalidation_0-rmse:2.25340\tvalidation_1-rmse:579.36517\n",
      "[97]\tvalidation_0-rmse:2.23332\tvalidation_1-rmse:579.36383\n",
      "[98]\tvalidation_0-rmse:2.21218\tvalidation_1-rmse:579.36145\n",
      "[99]\tvalidation_0-rmse:2.21056\tvalidation_1-rmse:579.13251\n"
     ]
    },
    {
     "data": {
      "text/plain": [
       "XGBRegressor(base_score=0.5, booster='gbtree', colsample_bylevel=1,\n",
       "             colsample_bynode=1, colsample_bytree=1, enable_categorical=False,\n",
       "             gamma=0, gpu_id=-1, importance_type=None,\n",
       "             interaction_constraints='', learning_rate=0.300000012,\n",
       "             max_delta_step=0, max_depth=6, min_child_weight=1, missing=nan,\n",
       "             monotone_constraints='()', n_estimators=100, n_jobs=2,\n",
       "             num_parallel_tree=1, objective='reg:squarederror',\n",
       "             predictor='auto', random_state=0, reg_alpha=0, reg_lambda=1,\n",
       "             scale_pos_weight=1, subsample=1, tree_method='exact',\n",
       "             validate_parameters=1, verbosity=None)"
      ]
     },
     "execution_count": 33,
     "metadata": {},
     "output_type": "execute_result"
    }
   ],
   "source": [
    "#xgb_reg2.fit(X_train, y_train, **fit_params)\n",
    "xgb_reg2.fit(X_train, y_train, **fit_params)"
   ]
  },
  {
   "cell_type": "code",
   "execution_count": 34,
   "metadata": {},
   "outputs": [],
   "source": [
    "y_pred_train = xgb_reg2.predict(X_train)\n",
    "y_pred_valid = xgb_reg2.predict(X_valid)\n",
    "y_pred_test  = xgb_reg2.predict(X_test)\n",
    "\n",
    "y_pred_train = pd.Series(y_pred_train, index=y_train.index)\n",
    "y_pred_valid = pd.Series(y_pred_valid, index=y_valid.index)\n",
    "y_pred_test  = pd.Series(y_pred_test,  index=y_test.index)"
   ]
  },
  {
   "cell_type": "code",
   "execution_count": 35,
   "metadata": {},
   "outputs": [
    {
     "data": {
      "image/png": "[encoded data removed]",
      "text/plain": [
       "<Figure size 432x360 with 1 Axes>"
      ]
     },
     "metadata": {},
     "output_type": "display_data"
    }
   ],
   "source": [
    "plt.figure(figsize=(6,5),facecolor=\"w\")\n",
    "plt.plot(y_train,label='train_y')\n",
    "plt.plot(y_valid,label='valid_y')\n",
    "plt.plot(y_test,label='test_y')\n",
    "plt.plot(y_pred_train,label='train_pred')\n",
    "plt.plot(y_pred_valid,label='valid_pred')\n",
    "plt.plot(y_pred_test,label='test_pred')\n",
    "plt.grid(True)\n",
    "plt.legend(loc=\"lower right\", fontsize=10)\n",
    "\n",
    "plt.show()"
   ]
  },
  {
   "cell_type": "markdown",
   "metadata": {},
   "source": [
    "# 結論\n",
    "Estimatorと、fitで指定するパラメータは異なる。\n",
    "どちらも辞書形式で与えることが可能。"
   ]
  },
  {
   "cell_type": "code",
   "execution_count": null,
   "metadata": {},
   "outputs": [],
   "source": []
  },
  {
   "cell_type": "code",
   "execution_count": null,
   "metadata": {},
   "outputs": [],
   "source": []
  }
 ],
 "metadata": {
  "instance_type": "ml.t3.medium",
  "kernelspec": {
   "display_name": "Python 3 (Data Science)",
   "language": "python",
   "name": "python3__SAGEMAKER_INTERNAL__arn:aws:sagemaker:ap-northeast-1:102112518831:image/datascience-1.0"
  },
  "language_info": {
   "codemirror_mode": {
    "name": "ipython",
    "version": 3
   },
   "file_extension": ".py",
   "mimetype": "text/x-python",
   "name": "python",
   "nbconvert_exporter": "python",
   "pygments_lexer": "ipython3",
   "version": "3.7.10"
  }
 },
 "nbformat": 4,
 "nbformat_minor": 4
}
