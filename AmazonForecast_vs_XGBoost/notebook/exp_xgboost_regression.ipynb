{
 "cells": [
  {
   "cell_type": "markdown",
   "metadata": {},
   "source": [
    "# XGBoostで回帰問題を解く時、学習データに出現した範囲しか予測できない"
   ]
  },
  {
   "cell_type": "code",
   "execution_count": 37,
   "metadata": {},
   "outputs": [],
   "source": [
    "import matplotlib.pyplot as plt\n",
    "import numpy as np\n",
    "import pandas as pd"
   ]
  },
  {
   "cell_type": "markdown",
   "metadata": {},
   "source": [
    "## 1.データ作成"
   ]
  },
  {
   "cell_type": "code",
   "execution_count": 46,
   "metadata": {},
   "outputs": [],
   "source": [
    "df = pd.DataFrame(np.arange(6000), columns=['target'])"
   ]
  },
  {
   "cell_type": "code",
   "execution_count": 47,
   "metadata": {},
   "outputs": [],
   "source": [
    "df['feature'] = df['target']"
   ]
  },
  {
   "cell_type": "code",
   "execution_count": 49,
   "metadata": {},
   "outputs": [
    {
     "name": "stdout",
     "output_type": "stream",
     "text": [
      "(6000, 2)\n"
     ]
    },
    {
     "data": {
      "text/html": [
       "<div>\n",
       "<style scoped>\n",
       "    .dataframe tbody tr th:only-of-type {\n",
       "        vertical-align: middle;\n",
       "    }\n",
       "\n",
       "    .dataframe tbody tr th {\n",
       "        vertical-align: top;\n",
       "    }\n",
       "\n",
       "    .dataframe thead th {\n",
       "        text-align: right;\n",
       "    }\n",
       "</style>\n",
       "<table border=\"1\" class=\"dataframe\">\n",
       "  <thead>\n",
       "    <tr style=\"text-align: right;\">\n",
       "      <th></th>\n",
       "      <th>target</th>\n",
       "      <th>feature</th>\n",
       "    </tr>\n",
       "  </thead>\n",
       "  <tbody>\n",
       "    <tr>\n",
       "      <th>0</th>\n",
       "      <td>0</td>\n",
       "      <td>0</td>\n",
       "    </tr>\n",
       "    <tr>\n",
       "      <th>1</th>\n",
       "      <td>1</td>\n",
       "      <td>1</td>\n",
       "    </tr>\n",
       "    <tr>\n",
       "      <th>2</th>\n",
       "      <td>2</td>\n",
       "      <td>2</td>\n",
       "    </tr>\n",
       "    <tr>\n",
       "      <th>3</th>\n",
       "      <td>3</td>\n",
       "      <td>3</td>\n",
       "    </tr>\n",
       "    <tr>\n",
       "      <th>4</th>\n",
       "      <td>4</td>\n",
       "      <td>4</td>\n",
       "    </tr>\n",
       "  </tbody>\n",
       "</table>\n",
       "</div>"
      ],
      "text/plain": [
       "   target  feature\n",
       "0       0        0\n",
       "1       1        1\n",
       "2       2        2\n",
       "3       3        3\n",
       "4       4        4"
      ]
     },
     "execution_count": 49,
     "metadata": {},
     "output_type": "execute_result"
    }
   ],
   "source": [
    "print(df.shape)\n",
    "df.head()"
   ]
  },
  {
   "cell_type": "code",
   "execution_count": 50,
   "metadata": {},
   "outputs": [
    {
     "data": {
      "text/plain": [
       "<matplotlib.axes._subplots.AxesSubplot at 0x7f360f628f90>"
      ]
     },
     "execution_count": 50,
     "metadata": {},
     "output_type": "execute_result"
    },
    {
     "data": {
      "image/png": "[encoded data removed]",
      "text/plain": [
       "<Figure size 432x288 with 1 Axes>"
      ]
     },
     "metadata": {
      "needs_background": "light"
     },
     "output_type": "display_data"
    }
   ],
   "source": [
    "df['target'].plot(grid=True)"
   ]
  },
  {
   "cell_type": "markdown",
   "metadata": {},
   "source": [
    "## 2.データ分割"
   ]
  },
  {
   "cell_type": "code",
   "execution_count": 116,
   "metadata": {},
   "outputs": [],
   "source": [
    "X_train = pd.DataFrame(df['feature'][:4000])\n",
    "y_train = df['target'][:4000]\n",
    "\n",
    "X_valid = pd.DataFrame(df['feature'][4000:5000])\n",
    "y_valid = df['target'][4000:5000]\n",
    "\n",
    "X_test = pd.DataFrame(df['feature'][5000:])\n",
    "y_test = df['target'][5000:]"
   ]
  },
  {
   "cell_type": "code",
   "execution_count": 117,
   "metadata": {},
   "outputs": [
    {
     "data": {
      "image/png": "[encoded data removed]",
      "text/plain": [
       "<Figure size 432x360 with 1 Axes>"
      ]
     },
     "metadata": {},
     "output_type": "display_data"
    }
   ],
   "source": [
    "plt.figure(figsize=(6,5),facecolor=\"w\")\n",
    "plt.plot(y_train,label='train_y')\n",
    "plt.plot(y_valid,label='valid_y')\n",
    "plt.plot(y_test,label='test_y')\n",
    "#plt.plot(y_pred_train,label='train_pred')\n",
    "#plt.plot(y_pred_valid,label='valid_pred')\n",
    "#plt.plot(y_pred_test,label='test_pred')\n",
    "plt.grid(True)\n",
    "plt.legend(loc=\"lower right\", fontsize=10)\n",
    "\n",
    "plt.show()"
   ]
  },
  {
   "cell_type": "markdown",
   "metadata": {},
   "source": [
    "## 3.モデリング"
   ]
  },
  {
   "cell_type": "markdown",
   "metadata": {},
   "source": [
    "## 3-1.線形回帰モデル"
   ]
  },
  {
   "cell_type": "code",
   "execution_count": 118,
   "metadata": {},
   "outputs": [],
   "source": [
    "import statsmodels.formula.api as sm # 回帰分析のライブラリ"
   ]
  },
  {
   "cell_type": "code",
   "execution_count": 119,
   "metadata": {},
   "outputs": [
    {
     "data": {
      "text/html": [
       "<div>\n",
       "<style scoped>\n",
       "    .dataframe tbody tr th:only-of-type {\n",
       "        vertical-align: middle;\n",
       "    }\n",
       "\n",
       "    .dataframe tbody tr th {\n",
       "        vertical-align: top;\n",
       "    }\n",
       "\n",
       "    .dataframe thead th {\n",
       "        text-align: right;\n",
       "    }\n",
       "</style>\n",
       "<table border=\"1\" class=\"dataframe\">\n",
       "  <thead>\n",
       "    <tr style=\"text-align: right;\">\n",
       "      <th></th>\n",
       "      <th>feature</th>\n",
       "      <th>target</th>\n",
       "    </tr>\n",
       "  </thead>\n",
       "  <tbody>\n",
       "    <tr>\n",
       "      <th>0</th>\n",
       "      <td>0</td>\n",
       "      <td>0</td>\n",
       "    </tr>\n",
       "    <tr>\n",
       "      <th>1</th>\n",
       "      <td>1</td>\n",
       "      <td>1</td>\n",
       "    </tr>\n",
       "    <tr>\n",
       "      <th>2</th>\n",
       "      <td>2</td>\n",
       "      <td>2</td>\n",
       "    </tr>\n",
       "    <tr>\n",
       "      <th>3</th>\n",
       "      <td>3</td>\n",
       "      <td>3</td>\n",
       "    </tr>\n",
       "    <tr>\n",
       "      <th>4</th>\n",
       "      <td>4</td>\n",
       "      <td>4</td>\n",
       "    </tr>\n",
       "    <tr>\n",
       "      <th>...</th>\n",
       "      <td>...</td>\n",
       "      <td>...</td>\n",
       "    </tr>\n",
       "    <tr>\n",
       "      <th>3995</th>\n",
       "      <td>3995</td>\n",
       "      <td>3995</td>\n",
       "    </tr>\n",
       "    <tr>\n",
       "      <th>3996</th>\n",
       "      <td>3996</td>\n",
       "      <td>3996</td>\n",
       "    </tr>\n",
       "    <tr>\n",
       "      <th>3997</th>\n",
       "      <td>3997</td>\n",
       "      <td>3997</td>\n",
       "    </tr>\n",
       "    <tr>\n",
       "      <th>3998</th>\n",
       "      <td>3998</td>\n",
       "      <td>3998</td>\n",
       "    </tr>\n",
       "    <tr>\n",
       "      <th>3999</th>\n",
       "      <td>3999</td>\n",
       "      <td>3999</td>\n",
       "    </tr>\n",
       "  </tbody>\n",
       "</table>\n",
       "<p>4000 rows × 2 columns</p>\n",
       "</div>"
      ],
      "text/plain": [
       "      feature  target\n",
       "0           0       0\n",
       "1           1       1\n",
       "2           2       2\n",
       "3           3       3\n",
       "4           4       4\n",
       "...       ...     ...\n",
       "3995     3995    3995\n",
       "3996     3996    3996\n",
       "3997     3997    3997\n",
       "3998     3998    3998\n",
       "3999     3999    3999\n",
       "\n",
       "[4000 rows x 2 columns]"
      ]
     },
     "execution_count": 119,
     "metadata": {},
     "output_type": "execute_result"
    }
   ],
   "source": [
    "pd.concat([X_train, y_train], axis=1)"
   ]
  },
  {
   "cell_type": "code",
   "execution_count": 120,
   "metadata": {},
   "outputs": [
    {
     "name": "stdout",
     "output_type": "stream",
     "text": [
      "                            OLS Regression Results                            \n",
      "==============================================================================\n",
      "Dep. Variable:                 target   R-squared:                       1.000\n",
      "Model:                            OLS   Adj. R-squared:                  1.000\n",
      "Method:                 Least Squares   F-statistic:                 3.718e+33\n",
      "Date:                Mon, 15 Nov 2021   Prob (F-statistic):               0.00\n",
      "Time:                        08:28:06   Log-Likelihood:             1.0413e+05\n",
      "No. Observations:                4000   AIC:                        -2.083e+05\n",
      "Df Residuals:                    3998   BIC:                        -2.082e+05\n",
      "Df Model:                           1                                         \n",
      "Covariance Type:            nonrobust                                         \n",
      "==============================================================================\n",
      "                 coef    std err          t      P>|t|      [0.025      0.975]\n",
      "------------------------------------------------------------------------------\n",
      "Intercept   1.819e-12   3.79e-14     48.033      0.000    1.74e-12    1.89e-12\n",
      "feature        1.0000   1.64e-17    6.1e+16      0.000       1.000       1.000\n",
      "==============================================================================\n",
      "Omnibus:                      793.715   Durbin-Watson:                   0.000\n",
      "Prob(Omnibus):                  0.000   Jarque-Bera (JB):              165.246\n",
      "Skew:                           0.104   Prob(JB):                     1.31e-36\n",
      "Kurtosis:                       2.026   Cond. No.                     4.62e+03\n",
      "==============================================================================\n",
      "\n",
      "Warnings:\n",
      "[1] Standard Errors assume that the covariance matrix of the errors is correctly specified.\n",
      "[2] The condition number is large, 4.62e+03. This might indicate that there are\n",
      "strong multicollinearity or other numerical problems.\n"
     ]
    }
   ],
   "source": [
    "# 単回帰モデル1\n",
    "#SLR = sm.ols(formula=\"target ~ feature\", data=df).fit()\n",
    "SLR = sm.ols(formula=\"target ~ feature\", data=pd.concat([X_train, y_train], axis=1)).fit()\n",
    "print(SLR.summary())"
   ]
  },
  {
   "cell_type": "code",
   "execution_count": 121,
   "metadata": {},
   "outputs": [
    {
     "data": {
      "text/plain": [
       "0       1.818989e-12\n",
       "1       1.000000e+00\n",
       "2       2.000000e+00\n",
       "3       3.000000e+00\n",
       "4       4.000000e+00\n",
       "            ...     \n",
       "3995    3.995000e+03\n",
       "3996    3.996000e+03\n",
       "3997    3.997000e+03\n",
       "3998    3.998000e+03\n",
       "3999    3.999000e+03\n",
       "Length: 4000, dtype: float64"
      ]
     },
     "execution_count": 121,
     "metadata": {},
     "output_type": "execute_result"
    }
   ],
   "source": [
    "SLR.fittedvalues"
   ]
  },
  {
   "cell_type": "code",
   "execution_count": 122,
   "metadata": {},
   "outputs": [],
   "source": [
    "y_pred_test = SLR.predict(X_test)"
   ]
  },
  {
   "cell_type": "code",
   "execution_count": 123,
   "metadata": {},
   "outputs": [
    {
     "data": {
      "image/png": "[encoded data removed]",
      "text/plain": [
       "<Figure size 432x360 with 1 Axes>"
      ]
     },
     "metadata": {},
     "output_type": "display_data"
    }
   ],
   "source": [
    "plt.figure(figsize=(6,5),facecolor=\"w\")\n",
    "plt.plot(y_train,label='train_y')\n",
    "#plt.plot(y_valid,label='valid_y')\n",
    "#plt.plot(y_test,label='test_y')\n",
    "#plt.plot(y_pred_train,label='train_pred')\n",
    "#plt.plot(y_pred_valid,label='valid_pred')\n",
    "plt.plot(y_pred_test,label='test_pred')\n",
    "plt.grid(True)\n",
    "plt.legend(loc=\"lower right\", fontsize=10)\n",
    "\n",
    "plt.show()"
   ]
  },
  {
   "cell_type": "markdown",
   "metadata": {},
   "source": [
    "## 3-2.XGBoost(回帰)"
   ]
  },
  {
   "cell_type": "code",
   "execution_count": 124,
   "metadata": {},
   "outputs": [
    {
     "name": "stdout",
     "output_type": "stream",
     "text": [
      "/opt/conda/lib/python3.7/site-packages/secretstorage/dhcrypto.py:16: CryptographyDeprecationWarning: int_from_bytes is deprecated, use int.from_bytes instead\n",
      "  from cryptography.utils import int_from_bytes\n",
      "/opt/conda/lib/python3.7/site-packages/secretstorage/util.py:25: CryptographyDeprecationWarning: int_from_bytes is deprecated, use int.from_bytes instead\n",
      "  from cryptography.utils import int_from_bytes\n",
      "Requirement already satisfied: xgboost in /opt/conda/lib/python3.7/site-packages (1.5.0)\n",
      "Requirement already satisfied: numpy in /opt/conda/lib/python3.7/site-packages (from xgboost) (1.20.3)\n",
      "Requirement already satisfied: scipy in /opt/conda/lib/python3.7/site-packages (from xgboost) (1.4.1)\n",
      "\u001b[33mWARNING: Running pip as the 'root' user can result in broken permissions and conflicting behaviour with the system package manager. It is recommended to use a virtual environment instead: https://pip.pypa.io/warnings/venv\u001b[0m\n"
     ]
    }
   ],
   "source": [
    "!pip install xgboost"
   ]
  },
  {
   "cell_type": "code",
   "execution_count": 125,
   "metadata": {},
   "outputs": [],
   "source": [
    "import xgboost as xgb"
   ]
  },
  {
   "cell_type": "code",
   "execution_count": 126,
   "metadata": {},
   "outputs": [],
   "source": [
    "#回帰なのでXGBRegressorを利用\n",
    "xgb_reg = xgb.XGBRegressor()"
   ]
  },
  {
   "cell_type": "code",
   "execution_count": 127,
   "metadata": {},
   "outputs": [
    {
     "data": {
      "text/plain": [
       "(4000, 1)"
      ]
     },
     "execution_count": 127,
     "metadata": {},
     "output_type": "execute_result"
    }
   ],
   "source": [
    "X_train.shape"
   ]
  },
  {
   "cell_type": "code",
   "execution_count": 128,
   "metadata": {},
   "outputs": [
    {
     "data": {
      "text/plain": [
       "(4000,)"
      ]
     },
     "execution_count": 128,
     "metadata": {},
     "output_type": "execute_result"
    }
   ],
   "source": [
    "y_train.shape"
   ]
  },
  {
   "cell_type": "code",
   "execution_count": 133,
   "metadata": {},
   "outputs": [
    {
     "name": "stdout",
     "output_type": "stream",
     "text": [
      "[0]\tvalidation_0-rmse:4388.23047\n",
      "[1]\tvalidation_0-rmse:3582.56982\n",
      "[2]\tvalidation_0-rmse:3005.33569\n",
      "[3]\tvalidation_0-rmse:2591.79419\n",
      "[4]\tvalidation_0-rmse:2292.76587\n",
      "[5]\tvalidation_0-rmse:2079.70361\n",
      "[6]\tvalidation_0-rmse:1933.42163\n",
      "[7]\tvalidation_0-rmse:1822.82385\n",
      "[8]\tvalidation_0-rmse:1743.17578\n",
      "[9]\tvalidation_0-rmse:1688.83521\n",
      "[10]\tvalidation_0-rmse:1646.98144\n",
      "[11]\tvalidation_0-rmse:1616.33850\n",
      "[12]\tvalidation_0-rmse:1594.14136\n",
      "[13]\tvalidation_0-rmse:1580.13391\n",
      "[14]\tvalidation_0-rmse:1569.25415\n",
      "[15]\tvalidation_0-rmse:1559.90405\n",
      "[16]\tvalidation_0-rmse:1552.86755\n",
      "[17]\tvalidation_0-rmse:1547.38306\n",
      "[18]\tvalidation_0-rmse:1545.58032\n",
      "[19]\tvalidation_0-rmse:1541.89795\n",
      "[20]\tvalidation_0-rmse:1541.03418\n",
      "[21]\tvalidation_0-rmse:1540.31030\n",
      "[22]\tvalidation_0-rmse:1537.94824\n",
      "[23]\tvalidation_0-rmse:1536.92822\n",
      "[24]\tvalidation_0-rmse:1536.46863\n",
      "[25]\tvalidation_0-rmse:1536.35181\n",
      "[26]\tvalidation_0-rmse:1536.26501\n",
      "[27]\tvalidation_0-rmse:1534.69397\n",
      "[28]\tvalidation_0-rmse:1534.67602\n",
      "[29]\tvalidation_0-rmse:1534.73755\n",
      "[30]\tvalidation_0-rmse:1534.67602\n",
      "[31]\tvalidation_0-rmse:1533.55310\n",
      "[32]\tvalidation_0-rmse:1532.57800\n",
      "[33]\tvalidation_0-rmse:1532.58374\n",
      "[34]\tvalidation_0-rmse:1532.51953\n",
      "[35]\tvalidation_0-rmse:1531.72705\n",
      "[36]\tvalidation_0-rmse:1531.72339\n",
      "[37]\tvalidation_0-rmse:1531.71570\n",
      "[38]\tvalidation_0-rmse:1531.74890\n",
      "[39]\tvalidation_0-rmse:1531.75928\n",
      "[40]\tvalidation_0-rmse:1531.76209\n",
      "[41]\tvalidation_0-rmse:1531.75732\n",
      "[42]\tvalidation_0-rmse:1531.75769\n",
      "[43]\tvalidation_0-rmse:1531.75354\n",
      "[44]\tvalidation_0-rmse:1531.74561\n",
      "[45]\tvalidation_0-rmse:1531.17566\n",
      "[46]\tvalidation_0-rmse:1531.19580\n",
      "[47]\tvalidation_0-rmse:1531.21899\n",
      "[48]\tvalidation_0-rmse:1531.24902\n",
      "[49]\tvalidation_0-rmse:1531.19665\n",
      "[50]\tvalidation_0-rmse:1531.20105\n",
      "[51]\tvalidation_0-rmse:1531.19214\n",
      "[52]\tvalidation_0-rmse:1531.19177\n",
      "[53]\tvalidation_0-rmse:1531.16333\n",
      "[54]\tvalidation_0-rmse:1531.07556\n",
      "[55]\tvalidation_0-rmse:1531.07739\n",
      "[56]\tvalidation_0-rmse:1531.07544\n",
      "[57]\tvalidation_0-rmse:1531.05383\n",
      "[58]\tvalidation_0-rmse:1531.02942\n",
      "[59]\tvalidation_0-rmse:1531.02319\n",
      "[60]\tvalidation_0-rmse:1531.01941\n",
      "[61]\tvalidation_0-rmse:1531.02307\n",
      "[62]\tvalidation_0-rmse:1530.56775\n",
      "[63]\tvalidation_0-rmse:1530.56665\n",
      "[64]\tvalidation_0-rmse:1530.56555\n",
      "[65]\tvalidation_0-rmse:1530.15381\n",
      "[66]\tvalidation_0-rmse:1530.14978\n",
      "[67]\tvalidation_0-rmse:1530.15540\n",
      "[68]\tvalidation_0-rmse:1530.15686\n",
      "[69]\tvalidation_0-rmse:1530.16174\n",
      "[70]\tvalidation_0-rmse:1530.14831\n",
      "[71]\tvalidation_0-rmse:1530.14795\n",
      "[72]\tvalidation_0-rmse:1530.14734\n",
      "[73]\tvalidation_0-rmse:1530.15002\n",
      "[74]\tvalidation_0-rmse:1530.15271\n",
      "[75]\tvalidation_0-rmse:1530.14563\n",
      "[76]\tvalidation_0-rmse:1530.14795\n",
      "[77]\tvalidation_0-rmse:1530.14831\n",
      "[78]\tvalidation_0-rmse:1530.14636\n",
      "[79]\tvalidation_0-rmse:1530.14392\n",
      "[80]\tvalidation_0-rmse:1529.81665\n",
      "[81]\tvalidation_0-rmse:1529.85217\n",
      "[82]\tvalidation_0-rmse:1529.82373\n",
      "[83]\tvalidation_0-rmse:1529.82434\n",
      "[84]\tvalidation_0-rmse:1529.81372\n",
      "[85]\tvalidation_0-rmse:1529.81140\n",
      "[86]\tvalidation_0-rmse:1529.81372\n",
      "[87]\tvalidation_0-rmse:1529.82202\n",
      "[88]\tvalidation_0-rmse:1529.82288\n",
      "[89]\tvalidation_0-rmse:1529.82227\n",
      "[90]\tvalidation_0-rmse:1529.81787\n",
      "[91]\tvalidation_0-rmse:1529.82178\n",
      "[92]\tvalidation_0-rmse:1529.82178\n",
      "[93]\tvalidation_0-rmse:1529.82104\n",
      "[94]\tvalidation_0-rmse:1529.81555\n",
      "[95]\tvalidation_0-rmse:1529.81506\n",
      "[96]\tvalidation_0-rmse:1529.80896\n",
      "[97]\tvalidation_0-rmse:1529.80725\n",
      "[98]\tvalidation_0-rmse:1529.80456\n",
      "[99]\tvalidation_0-rmse:1529.54504\n"
     ]
    },
    {
     "data": {
      "text/plain": [
       "XGBRegressor(base_score=0.5, booster='gbtree', colsample_bylevel=1,\n",
       "             colsample_bynode=1, colsample_bytree=1, enable_categorical=False,\n",
       "             gamma=0, gpu_id=-1, importance_type=None,\n",
       "             interaction_constraints='', learning_rate=0.300000012,\n",
       "             max_delta_step=0, max_depth=6, min_child_weight=1, missing=nan,\n",
       "             monotone_constraints='()', n_estimators=100, n_jobs=2,\n",
       "             num_parallel_tree=1, objective='reg:squarederror',\n",
       "             predictor='auto', random_state=0, reg_alpha=0, reg_lambda=1,\n",
       "             scale_pos_weight=1, subsample=1, tree_method='exact',\n",
       "             validate_parameters=1, verbosity=None)"
      ]
     },
     "execution_count": 133,
     "metadata": {},
     "output_type": "execute_result"
    }
   ],
   "source": [
    "#eval_setには検証用データを設定する\n",
    "#xgb_reg.fit(X_train, y_train, eval_set=[(X_train, y_train),(X_test, y_test)])\n",
    "xgb_reg.fit(X_train, y_train, eval_set=[(X_test, y_test)])"
   ]
  },
  {
   "cell_type": "code",
   "execution_count": 134,
   "metadata": {},
   "outputs": [],
   "source": [
    "y_pred_train = xgb_reg.predict(X_train)\n",
    "y_pred_valid = xgb_reg.predict(X_valid)\n",
    "y_pred_test  = xgb_reg.predict(X_test)\n",
    "\n",
    "y_pred_train = pd.Series(y_pred_train, index=y_train.index)\n",
    "y_pred_valid = pd.Series(y_pred_valid, index=y_valid.index)\n",
    "y_pred_test  = pd.Series(y_pred_test,  index=y_test.index)"
   ]
  },
  {
   "cell_type": "code",
   "execution_count": 135,
   "metadata": {},
   "outputs": [
    {
     "data": {
      "image/png": "[encoded data removed]",
      "text/plain": [
       "<Figure size 432x360 with 1 Axes>"
      ]
     },
     "metadata": {},
     "output_type": "display_data"
    }
   ],
   "source": [
    "plt.figure(figsize=(6,5),facecolor=\"w\")\n",
    "plt.plot(y_train,label='train_y')\n",
    "plt.plot(y_valid,label='valid_y')\n",
    "plt.plot(y_test,label='test_y')\n",
    "plt.plot(y_pred_train,label='train_pred')\n",
    "plt.plot(y_pred_valid,label='valid_pred')\n",
    "plt.plot(y_pred_test,label='test_pred')\n",
    "plt.grid(True)\n",
    "plt.legend(loc=\"lower right\", fontsize=10)\n",
    "\n",
    "plt.show()"
   ]
  },
  {
   "cell_type": "markdown",
   "metadata": {},
   "source": [
    "# 結論\n",
    "XGBoostは学習データに与えられたターゲット値の範囲でしか予測はできない。"
   ]
  },
  {
   "cell_type": "code",
   "execution_count": null,
   "metadata": {},
   "outputs": [],
   "source": []
  }
 ],
 "metadata": {
  "instance_type": "ml.t3.medium",
  "kernelspec": {
   "display_name": "Python 3 (Data Science)",
   "language": "python",
   "name": "python3__SAGEMAKER_INTERNAL__arn:aws:sagemaker:ap-northeast-1:102112518831:image/datascience-1.0"
  },
  "language_info": {
   "codemirror_mode": {
    "name": "ipython",
    "version": 3
   },
   "file_extension": ".py",
   "mimetype": "text/x-python",
   "name": "python",
   "nbconvert_exporter": "python",
   "pygments_lexer": "ipython3",
   "version": "3.7.10"
  }
 },
 "nbformat": 4,
 "nbformat_minor": 4
}
