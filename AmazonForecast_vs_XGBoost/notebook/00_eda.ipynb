{
 "cells": [
  {
   "cell_type": "markdown",
   "metadata": {},
   "source": [
    "# EDA(Explanatory Data Analysis)\n",
    "\n",
    "下記、Amazon Forecastのdocにある、電力消費量データを用いる。\n",
    "https://docs.aws.amazon.com/forecast/latest/dg/getting-started.html\n"
   ]
  },
  {
   "cell_type": "markdown",
   "metadata": {},
   "source": [
    "48時間後までを予測する"
   ]
  },
  {
   "cell_type": "markdown",
   "metadata": {},
   "source": [
    "# 0.データセットのダウンロード"
   ]
  },
  {
   "cell_type": "code",
   "execution_count": 2,
   "metadata": {},
   "outputs": [],
   "source": [
    "# !wget -P ../input https://docs.aws.amazon.com/forecast/latest/dg/samples/electricityusagedata.zip"
   ]
  },
  {
   "cell_type": "markdown",
   "metadata": {},
   "source": [
    "## 1.データセット読み込み"
   ]
  },
  {
   "cell_type": "code",
   "execution_count": 3,
   "metadata": {},
   "outputs": [],
   "source": [
    "import pandas as pd"
   ]
  },
  {
   "cell_type": "code",
   "execution_count": 4,
   "metadata": {},
   "outputs": [],
   "source": [
    "df = pd.read_csv('../input/electricityusagedata.zip', names=['timestamp','demand','client'])"
   ]
  },
  {
   "cell_type": "code",
   "execution_count": 5,
   "metadata": {},
   "outputs": [
    {
     "name": "stdout",
     "output_type": "stream",
     "text": [
      "(3241200, 3)\n",
      "2014-01-01 01:00:00\n",
      "2015-01-01 00:00:00\n"
     ]
    },
    {
     "data": {
      "text/html": [
       "<div>\n",
       "<style scoped>\n",
       "    .dataframe tbody tr th:only-of-type {\n",
       "        vertical-align: middle;\n",
       "    }\n",
       "\n",
       "    .dataframe tbody tr th {\n",
       "        vertical-align: top;\n",
       "    }\n",
       "\n",
       "    .dataframe thead th {\n",
       "        text-align: right;\n",
       "    }\n",
       "</style>\n",
       "<table border=\"1\" class=\"dataframe\">\n",
       "  <thead>\n",
       "    <tr style=\"text-align: right;\">\n",
       "      <th></th>\n",
       "      <th>timestamp</th>\n",
       "      <th>demand</th>\n",
       "      <th>client</th>\n",
       "    </tr>\n",
       "  </thead>\n",
       "  <tbody>\n",
       "    <tr>\n",
       "      <th>0</th>\n",
       "      <td>2014-01-01 01:00:00</td>\n",
       "      <td>2.538071</td>\n",
       "      <td>client_0</td>\n",
       "    </tr>\n",
       "    <tr>\n",
       "      <th>1</th>\n",
       "      <td>2014-01-01 01:00:00</td>\n",
       "      <td>23.648649</td>\n",
       "      <td>client_1</td>\n",
       "    </tr>\n",
       "    <tr>\n",
       "      <th>2</th>\n",
       "      <td>2014-01-01 01:00:00</td>\n",
       "      <td>0.000000</td>\n",
       "      <td>client_2</td>\n",
       "    </tr>\n",
       "    <tr>\n",
       "      <th>3</th>\n",
       "      <td>2014-01-01 01:00:00</td>\n",
       "      <td>144.817073</td>\n",
       "      <td>client_3</td>\n",
       "    </tr>\n",
       "    <tr>\n",
       "      <th>4</th>\n",
       "      <td>2014-01-01 01:00:00</td>\n",
       "      <td>75.000000</td>\n",
       "      <td>client_4</td>\n",
       "    </tr>\n",
       "  </tbody>\n",
       "</table>\n",
       "</div>"
      ],
      "text/plain": [
       "             timestamp      demand    client\n",
       "0  2014-01-01 01:00:00    2.538071  client_0\n",
       "1  2014-01-01 01:00:00   23.648649  client_1\n",
       "2  2014-01-01 01:00:00    0.000000  client_2\n",
       "3  2014-01-01 01:00:00  144.817073  client_3\n",
       "4  2014-01-01 01:00:00   75.000000  client_4"
      ]
     },
     "execution_count": 5,
     "metadata": {},
     "output_type": "execute_result"
    }
   ],
   "source": [
    "print(df.shape)\n",
    "print(df['timestamp'].min())\n",
    "print(df['timestamp'].max())\n",
    "df.head()"
   ]
  },
  {
   "cell_type": "code",
   "execution_count": 6,
   "metadata": {},
   "outputs": [
    {
     "data": {
      "text/html": [
       "<div>\n",
       "<style scoped>\n",
       "    .dataframe tbody tr th:only-of-type {\n",
       "        vertical-align: middle;\n",
       "    }\n",
       "\n",
       "    .dataframe tbody tr th {\n",
       "        vertical-align: top;\n",
       "    }\n",
       "\n",
       "    .dataframe thead th {\n",
       "        text-align: right;\n",
       "    }\n",
       "</style>\n",
       "<table border=\"1\" class=\"dataframe\">\n",
       "  <thead>\n",
       "    <tr style=\"text-align: right;\">\n",
       "      <th></th>\n",
       "      <th>timestamp</th>\n",
       "      <th>demand</th>\n",
       "      <th>client</th>\n",
       "    </tr>\n",
       "  </thead>\n",
       "  <tbody>\n",
       "    <tr>\n",
       "      <th>3241195</th>\n",
       "      <td>2015-01-01 00:00:00</td>\n",
       "      <td>6.875366</td>\n",
       "      <td>client_365</td>\n",
       "    </tr>\n",
       "    <tr>\n",
       "      <th>3241196</th>\n",
       "      <td>2015-01-01 00:00:00</td>\n",
       "      <td>658.911326</td>\n",
       "      <td>client_366</td>\n",
       "    </tr>\n",
       "    <tr>\n",
       "      <th>3241197</th>\n",
       "      <td>2015-01-01 00:00:00</td>\n",
       "      <td>150.250417</td>\n",
       "      <td>client_367</td>\n",
       "    </tr>\n",
       "    <tr>\n",
       "      <th>3241198</th>\n",
       "      <td>2015-01-01 00:00:00</td>\n",
       "      <td>664.772727</td>\n",
       "      <td>client_368</td>\n",
       "    </tr>\n",
       "    <tr>\n",
       "      <th>3241199</th>\n",
       "      <td>2015-01-01 00:00:00</td>\n",
       "      <td>6810.810811</td>\n",
       "      <td>client_369</td>\n",
       "    </tr>\n",
       "  </tbody>\n",
       "</table>\n",
       "</div>"
      ],
      "text/plain": [
       "                   timestamp       demand      client\n",
       "3241195  2015-01-01 00:00:00     6.875366  client_365\n",
       "3241196  2015-01-01 00:00:00   658.911326  client_366\n",
       "3241197  2015-01-01 00:00:00   150.250417  client_367\n",
       "3241198  2015-01-01 00:00:00   664.772727  client_368\n",
       "3241199  2015-01-01 00:00:00  6810.810811  client_369"
      ]
     },
     "execution_count": 6,
     "metadata": {},
     "output_type": "execute_result"
    }
   ],
   "source": [
    "df.tail()"
   ]
  },
  {
   "cell_type": "code",
   "execution_count": 35,
   "metadata": {},
   "outputs": [],
   "source": [
    "df[df.timestamp<='2014-01-30'].to_csv('for_excel_201401.csv')"
   ]
  },
  {
   "cell_type": "code",
   "execution_count": 33,
   "metadata": {},
   "outputs": [
    {
     "data": {
      "text/html": [
       "<div>\n",
       "<style scoped>\n",
       "    .dataframe tbody tr th:only-of-type {\n",
       "        vertical-align: middle;\n",
       "    }\n",
       "\n",
       "    .dataframe tbody tr th {\n",
       "        vertical-align: top;\n",
       "    }\n",
       "\n",
       "    .dataframe thead th {\n",
       "        text-align: right;\n",
       "    }\n",
       "</style>\n",
       "<table border=\"1\" class=\"dataframe\">\n",
       "  <thead>\n",
       "    <tr style=\"text-align: right;\">\n",
       "      <th></th>\n",
       "      <th>demand</th>\n",
       "    </tr>\n",
       "  </thead>\n",
       "  <tbody>\n",
       "    <tr>\n",
       "      <th>count</th>\n",
       "      <td>3.241200e+06</td>\n",
       "    </tr>\n",
       "    <tr>\n",
       "      <th>mean</th>\n",
       "      <td>6.065168e+02</td>\n",
       "    </tr>\n",
       "    <tr>\n",
       "      <th>std</th>\n",
       "      <td>3.518405e+03</td>\n",
       "    </tr>\n",
       "    <tr>\n",
       "      <th>min</th>\n",
       "      <td>0.000000e+00</td>\n",
       "    </tr>\n",
       "    <tr>\n",
       "      <th>25%</th>\n",
       "      <td>5.028811e+01</td>\n",
       "    </tr>\n",
       "    <tr>\n",
       "      <th>50%</th>\n",
       "      <td>1.193248e+02</td>\n",
       "    </tr>\n",
       "    <tr>\n",
       "      <th>75%</th>\n",
       "      <td>3.046662e+02</td>\n",
       "    </tr>\n",
       "    <tr>\n",
       "      <th>max</th>\n",
       "      <td>1.682000e+05</td>\n",
       "    </tr>\n",
       "  </tbody>\n",
       "</table>\n",
       "</div>"
      ],
      "text/plain": [
       "             demand\n",
       "count  3.241200e+06\n",
       "mean   6.065168e+02\n",
       "std    3.518405e+03\n",
       "min    0.000000e+00\n",
       "25%    5.028811e+01\n",
       "50%    1.193248e+02\n",
       "75%    3.046662e+02\n",
       "max    1.682000e+05"
      ]
     },
     "execution_count": 33,
     "metadata": {},
     "output_type": "execute_result"
    }
   ],
   "source": [
    "df.describe()"
   ]
  },
  {
   "cell_type": "code",
   "execution_count": 52,
   "metadata": {},
   "outputs": [
    {
     "name": "stdout",
     "output_type": "stream",
     "text": [
      "(3241200, 3)\n"
     ]
    },
    {
     "data": {
      "text/plain": [
       "(370,)"
      ]
     },
     "execution_count": 52,
     "metadata": {},
     "output_type": "execute_result"
    }
   ],
   "source": [
    "print(df.shape)\n",
    "df['client'].unique().shape"
   ]
  },
  {
   "cell_type": "code",
   "execution_count": 54,
   "metadata": {},
   "outputs": [
    {
     "data": {
      "text/plain": [
       "365.0"
      ]
     },
     "execution_count": 54,
     "metadata": {},
     "output_type": "execute_result"
    }
   ],
   "source": [
    "3241200 / 370 / 24"
   ]
  },
  {
   "cell_type": "code",
   "execution_count": 28,
   "metadata": {},
   "outputs": [
    {
     "data": {
      "text/plain": [
       "<matplotlib.axes._subplots.AxesSubplot at 0x7fe217166950>"
      ]
     },
     "execution_count": 28,
     "metadata": {},
     "output_type": "execute_result"
    },
    {
     "data": {
      "image/png": "[encoded data removed]",
      "text/plain": [
       "<Figure size 1080x720 with 1 Axes>"
      ]
     },
     "metadata": {
      "needs_background": "light"
     },
     "output_type": "display_data"
    }
   ],
   "source": [
    "df[df.timestamp<='2014-01-02'].plot(x=df.columns[0], figsize=[15,10], grid=True)"
   ]
  },
  {
   "cell_type": "code",
   "execution_count": 31,
   "metadata": {},
   "outputs": [
    {
     "data": {
      "text/plain": [
       "<matplotlib.axes._subplots.AxesSubplot at 0x7fe217030dd0>"
      ]
     },
     "execution_count": 31,
     "metadata": {},
     "output_type": "execute_result"
    },
    {
     "data": {
      "image/png": "[encoded data removed]",
      "text/plain": [
       "<Figure size 1080x720 with 1 Axes>"
      ]
     },
     "metadata": {
      "needs_background": "light"
     },
     "output_type": "display_data"
    }
   ],
   "source": [
    "df[(df.timestamp<='2014-01-02') & (df.client =='client_1')].plot(x=df.columns[0], figsize=[15,10], grid=True)"
   ]
  },
  {
   "cell_type": "code",
   "execution_count": 32,
   "metadata": {},
   "outputs": [
    {
     "ename": "NameError",
     "evalue": "name 'plt' is not defined",
     "output_type": "error",
     "traceback": [
      "\u001b[0;31m---------------------------------------------------------------------------\u001b[0m",
      "\u001b[0;31mNameError\u001b[0m                                 Traceback (most recent call last)",
      "\u001b[0;32m<ipython-input-32-81ae42000238>\u001b[0m in \u001b[0;36m<module>\u001b[0;34m\u001b[0m\n\u001b[0;32m----> 1\u001b[0;31m \u001b[0mfig\u001b[0m\u001b[0;34m,\u001b[0m \u001b[0max\u001b[0m \u001b[0;34m=\u001b[0m \u001b[0mplt\u001b[0m\u001b[0;34m.\u001b[0m\u001b[0msubplots\u001b[0m\u001b[0;34m(\u001b[0m\u001b[0;34m)\u001b[0m\u001b[0;34m\u001b[0m\u001b[0;34m\u001b[0m\u001b[0m\n\u001b[0m\u001b[1;32m      2\u001b[0m \u001b[0max\u001b[0m\u001b[0;34m.\u001b[0m\u001b[0mplot\u001b[0m\u001b[0;34m(\u001b[0m\u001b[0mx\u001b[0m\u001b[0;34m,\u001b[0m\u001b[0my1\u001b[0m\u001b[0;34m)\u001b[0m \u001b[0;31m# グラフ１\u001b[0m\u001b[0;34m\u001b[0m\u001b[0;34m\u001b[0m\u001b[0m\n\u001b[1;32m      3\u001b[0m \u001b[0max\u001b[0m\u001b[0;34m.\u001b[0m\u001b[0mplot\u001b[0m\u001b[0;34m(\u001b[0m\u001b[0mx\u001b[0m\u001b[0;34m,\u001b[0m\u001b[0my2\u001b[0m\u001b[0;34m)\u001b[0m \u001b[0;31m# グラフ２\u001b[0m\u001b[0;34m\u001b[0m\u001b[0;34m\u001b[0m\u001b[0m\n",
      "\u001b[0;31mNameError\u001b[0m: name 'plt' is not defined"
     ]
    }
   ],
   "source": [
    "i\n",
    "\n",
    "fig, ax = plt.subplots()\n",
    "ax.plot(x,y1) # グラフ１\n",
    "ax.plot(x,y2) # グラフ２"
   ]
  },
  {
   "cell_type": "code",
   "execution_count": null,
   "metadata": {},
   "outputs": [],
   "source": []
  },
  {
   "cell_type": "code",
   "execution_count": null,
   "metadata": {},
   "outputs": [],
   "source": []
  },
  {
   "cell_type": "code",
   "execution_count": null,
   "metadata": {},
   "outputs": [],
   "source": []
  },
  {
   "cell_type": "markdown",
   "metadata": {},
   "source": [
    "# クラスタ特徴量\n",
    "\n",
    "・ターゲットの相関係数を使う方法\n",
    "optiverより\n",
    "\n",
    "・Scikit-learnのパッケージを使う方法\n",
    "https://aws.amazon.com/jp/blogs/machine-learning/cluster-time-series-data-for-use-with-amazon-forecast/\n",
    "\n",
    "\n",
    "tslearn.clustering"
   ]
  },
  {
   "cell_type": "code",
   "execution_count": 36,
   "metadata": {},
   "outputs": [
    {
     "data": {
      "text/html": [
       "<div>\n",
       "<style scoped>\n",
       "    .dataframe tbody tr th:only-of-type {\n",
       "        vertical-align: middle;\n",
       "    }\n",
       "\n",
       "    .dataframe tbody tr th {\n",
       "        vertical-align: top;\n",
       "    }\n",
       "\n",
       "    .dataframe thead th {\n",
       "        text-align: right;\n",
       "    }\n",
       "</style>\n",
       "<table border=\"1\" class=\"dataframe\">\n",
       "  <thead>\n",
       "    <tr style=\"text-align: right;\">\n",
       "      <th></th>\n",
       "      <th>timestamp</th>\n",
       "      <th>demand</th>\n",
       "      <th>client</th>\n",
       "    </tr>\n",
       "  </thead>\n",
       "  <tbody>\n",
       "    <tr>\n",
       "      <th>0</th>\n",
       "      <td>2014-01-01 01:00:00</td>\n",
       "      <td>2.538071</td>\n",
       "      <td>client_0</td>\n",
       "    </tr>\n",
       "    <tr>\n",
       "      <th>1</th>\n",
       "      <td>2014-01-01 01:00:00</td>\n",
       "      <td>23.648649</td>\n",
       "      <td>client_1</td>\n",
       "    </tr>\n",
       "    <tr>\n",
       "      <th>2</th>\n",
       "      <td>2014-01-01 01:00:00</td>\n",
       "      <td>0.000000</td>\n",
       "      <td>client_2</td>\n",
       "    </tr>\n",
       "  </tbody>\n",
       "</table>\n",
       "</div>"
      ],
      "text/plain": [
       "             timestamp     demand    client\n",
       "0  2014-01-01 01:00:00   2.538071  client_0\n",
       "1  2014-01-01 01:00:00  23.648649  client_1\n",
       "2  2014-01-01 01:00:00   0.000000  client_2"
      ]
     },
     "execution_count": 36,
     "metadata": {},
     "output_type": "execute_result"
    }
   ],
   "source": [
    "df.head(3)"
   ]
  },
  {
   "cell_type": "code",
   "execution_count": 49,
   "metadata": {},
   "outputs": [],
   "source": [
    "train_p = df.pivot(index='timestamp', columns='client', values='demand')"
   ]
  },
  {
   "cell_type": "code",
   "execution_count": 50,
   "metadata": {},
   "outputs": [
    {
     "data": {
      "text/html": [
       "<div>\n",
       "<style scoped>\n",
       "    .dataframe tbody tr th:only-of-type {\n",
       "        vertical-align: middle;\n",
       "    }\n",
       "\n",
       "    .dataframe tbody tr th {\n",
       "        vertical-align: top;\n",
       "    }\n",
       "\n",
       "    .dataframe thead th {\n",
       "        text-align: right;\n",
       "    }\n",
       "</style>\n",
       "<table border=\"1\" class=\"dataframe\">\n",
       "  <thead>\n",
       "    <tr style=\"text-align: right;\">\n",
       "      <th>client</th>\n",
       "      <th>client_0</th>\n",
       "      <th>client_1</th>\n",
       "      <th>client_10</th>\n",
       "      <th>client_100</th>\n",
       "      <th>client_101</th>\n",
       "      <th>client_102</th>\n",
       "      <th>client_103</th>\n",
       "      <th>client_104</th>\n",
       "      <th>client_105</th>\n",
       "      <th>client_106</th>\n",
       "      <th>...</th>\n",
       "      <th>client_90</th>\n",
       "      <th>client_91</th>\n",
       "      <th>client_92</th>\n",
       "      <th>client_93</th>\n",
       "      <th>client_94</th>\n",
       "      <th>client_95</th>\n",
       "      <th>client_96</th>\n",
       "      <th>client_97</th>\n",
       "      <th>client_98</th>\n",
       "      <th>client_99</th>\n",
       "    </tr>\n",
       "    <tr>\n",
       "      <th>timestamp</th>\n",
       "      <th></th>\n",
       "      <th></th>\n",
       "      <th></th>\n",
       "      <th></th>\n",
       "      <th></th>\n",
       "      <th></th>\n",
       "      <th></th>\n",
       "      <th></th>\n",
       "      <th></th>\n",
       "      <th></th>\n",
       "      <th></th>\n",
       "      <th></th>\n",
       "      <th></th>\n",
       "      <th></th>\n",
       "      <th></th>\n",
       "      <th></th>\n",
       "      <th></th>\n",
       "      <th></th>\n",
       "      <th></th>\n",
       "      <th></th>\n",
       "      <th></th>\n",
       "    </tr>\n",
       "  </thead>\n",
       "  <tbody>\n",
       "    <tr>\n",
       "      <th>2014-01-01 01:00:00</th>\n",
       "      <td>2.538071</td>\n",
       "      <td>23.648649</td>\n",
       "      <td>56.073025</td>\n",
       "      <td>141.986063</td>\n",
       "      <td>288.639366</td>\n",
       "      <td>309.322034</td>\n",
       "      <td>104.455446</td>\n",
       "      <td>45.865279</td>\n",
       "      <td>0.0</td>\n",
       "      <td>0.0</td>\n",
       "      <td>...</td>\n",
       "      <td>69.212809</td>\n",
       "      <td>33.099688</td>\n",
       "      <td>1.269036</td>\n",
       "      <td>7.832239</td>\n",
       "      <td>3.143007</td>\n",
       "      <td>6.231884</td>\n",
       "      <td>168.592437</td>\n",
       "      <td>222.405272</td>\n",
       "      <td>327.148438</td>\n",
       "      <td>10.652463</td>\n",
       "    </tr>\n",
       "    <tr>\n",
       "      <th>2014-01-01 02:00:00</th>\n",
       "      <td>2.855330</td>\n",
       "      <td>23.826458</td>\n",
       "      <td>48.435171</td>\n",
       "      <td>113.240418</td>\n",
       "      <td>255.944518</td>\n",
       "      <td>259.745763</td>\n",
       "      <td>102.722772</td>\n",
       "      <td>46.276013</td>\n",
       "      <td>0.0</td>\n",
       "      <td>0.0</td>\n",
       "      <td>...</td>\n",
       "      <td>72.881921</td>\n",
       "      <td>33.229491</td>\n",
       "      <td>1.142132</td>\n",
       "      <td>9.474482</td>\n",
       "      <td>3.273965</td>\n",
       "      <td>6.811594</td>\n",
       "      <td>160.189076</td>\n",
       "      <td>205.107084</td>\n",
       "      <td>272.460938</td>\n",
       "      <td>10.818908</td>\n",
       "    </tr>\n",
       "    <tr>\n",
       "      <th>2014-01-01 03:00:00</th>\n",
       "      <td>2.855330</td>\n",
       "      <td>23.648649</td>\n",
       "      <td>43.219076</td>\n",
       "      <td>119.337979</td>\n",
       "      <td>1274.768824</td>\n",
       "      <td>258.898305</td>\n",
       "      <td>100.000000</td>\n",
       "      <td>46.549836</td>\n",
       "      <td>0.0</td>\n",
       "      <td>0.0</td>\n",
       "      <td>...</td>\n",
       "      <td>74.382922</td>\n",
       "      <td>32.320872</td>\n",
       "      <td>1.395939</td>\n",
       "      <td>7.832239</td>\n",
       "      <td>3.404924</td>\n",
       "      <td>7.536232</td>\n",
       "      <td>160.714286</td>\n",
       "      <td>185.749588</td>\n",
       "      <td>262.695312</td>\n",
       "      <td>10.153129</td>\n",
       "    </tr>\n",
       "    <tr>\n",
       "      <th>2014-01-01 04:00:00</th>\n",
       "      <td>2.855330</td>\n",
       "      <td>21.870555</td>\n",
       "      <td>39.120715</td>\n",
       "      <td>112.369338</td>\n",
       "      <td>1786.327609</td>\n",
       "      <td>255.084746</td>\n",
       "      <td>99.257426</td>\n",
       "      <td>44.906900</td>\n",
       "      <td>0.0</td>\n",
       "      <td>0.0</td>\n",
       "      <td>...</td>\n",
       "      <td>70.380254</td>\n",
       "      <td>32.450675</td>\n",
       "      <td>1.776650</td>\n",
       "      <td>8.337544</td>\n",
       "      <td>3.535883</td>\n",
       "      <td>6.521739</td>\n",
       "      <td>169.117647</td>\n",
       "      <td>182.866557</td>\n",
       "      <td>220.703125</td>\n",
       "      <td>10.319574</td>\n",
       "    </tr>\n",
       "    <tr>\n",
       "      <th>2014-01-01 05:00:00</th>\n",
       "      <td>2.538071</td>\n",
       "      <td>22.048364</td>\n",
       "      <td>37.816692</td>\n",
       "      <td>111.498258</td>\n",
       "      <td>906.208719</td>\n",
       "      <td>258.050847</td>\n",
       "      <td>92.079208</td>\n",
       "      <td>44.496166</td>\n",
       "      <td>0.0</td>\n",
       "      <td>0.0</td>\n",
       "      <td>...</td>\n",
       "      <td>74.382922</td>\n",
       "      <td>32.450675</td>\n",
       "      <td>1.142132</td>\n",
       "      <td>9.095503</td>\n",
       "      <td>3.143007</td>\n",
       "      <td>6.956522</td>\n",
       "      <td>165.441176</td>\n",
       "      <td>184.925865</td>\n",
       "      <td>188.476562</td>\n",
       "      <td>11.151798</td>\n",
       "    </tr>\n",
       "  </tbody>\n",
       "</table>\n",
       "<p>5 rows × 370 columns</p>\n",
       "</div>"
      ],
      "text/plain": [
       "client               client_0   client_1  client_10  client_100   client_101  \\\n",
       "timestamp                                                                      \n",
       "2014-01-01 01:00:00  2.538071  23.648649  56.073025  141.986063   288.639366   \n",
       "2014-01-01 02:00:00  2.855330  23.826458  48.435171  113.240418   255.944518   \n",
       "2014-01-01 03:00:00  2.855330  23.648649  43.219076  119.337979  1274.768824   \n",
       "2014-01-01 04:00:00  2.855330  21.870555  39.120715  112.369338  1786.327609   \n",
       "2014-01-01 05:00:00  2.538071  22.048364  37.816692  111.498258   906.208719   \n",
       "\n",
       "client               client_102  client_103  client_104  client_105  \\\n",
       "timestamp                                                             \n",
       "2014-01-01 01:00:00  309.322034  104.455446   45.865279         0.0   \n",
       "2014-01-01 02:00:00  259.745763  102.722772   46.276013         0.0   \n",
       "2014-01-01 03:00:00  258.898305  100.000000   46.549836         0.0   \n",
       "2014-01-01 04:00:00  255.084746   99.257426   44.906900         0.0   \n",
       "2014-01-01 05:00:00  258.050847   92.079208   44.496166         0.0   \n",
       "\n",
       "client               client_106  ...  client_90  client_91  client_92  \\\n",
       "timestamp                        ...                                    \n",
       "2014-01-01 01:00:00         0.0  ...  69.212809  33.099688   1.269036   \n",
       "2014-01-01 02:00:00         0.0  ...  72.881921  33.229491   1.142132   \n",
       "2014-01-01 03:00:00         0.0  ...  74.382922  32.320872   1.395939   \n",
       "2014-01-01 04:00:00         0.0  ...  70.380254  32.450675   1.776650   \n",
       "2014-01-01 05:00:00         0.0  ...  74.382922  32.450675   1.142132   \n",
       "\n",
       "client               client_93  client_94  client_95   client_96   client_97  \\\n",
       "timestamp                                                                      \n",
       "2014-01-01 01:00:00   7.832239   3.143007   6.231884  168.592437  222.405272   \n",
       "2014-01-01 02:00:00   9.474482   3.273965   6.811594  160.189076  205.107084   \n",
       "2014-01-01 03:00:00   7.832239   3.404924   7.536232  160.714286  185.749588   \n",
       "2014-01-01 04:00:00   8.337544   3.535883   6.521739  169.117647  182.866557   \n",
       "2014-01-01 05:00:00   9.095503   3.143007   6.956522  165.441176  184.925865   \n",
       "\n",
       "client                client_98  client_99  \n",
       "timestamp                                   \n",
       "2014-01-01 01:00:00  327.148438  10.652463  \n",
       "2014-01-01 02:00:00  272.460938  10.818908  \n",
       "2014-01-01 03:00:00  262.695312  10.153129  \n",
       "2014-01-01 04:00:00  220.703125  10.319574  \n",
       "2014-01-01 05:00:00  188.476562  11.151798  \n",
       "\n",
       "[5 rows x 370 columns]"
      ]
     },
     "execution_count": 50,
     "metadata": {},
     "output_type": "execute_result"
    }
   ],
   "source": [
    "train_p.head()"
   ]
  },
  {
   "cell_type": "code",
   "execution_count": 48,
   "metadata": {},
   "outputs": [
    {
     "data": {
      "text/html": [
       "<div>\n",
       "<style scoped>\n",
       "    .dataframe tbody tr th:only-of-type {\n",
       "        vertical-align: middle;\n",
       "    }\n",
       "\n",
       "    .dataframe tbody tr th {\n",
       "        vertical-align: top;\n",
       "    }\n",
       "\n",
       "    .dataframe thead th {\n",
       "        text-align: right;\n",
       "    }\n",
       "</style>\n",
       "<table border=\"1\" class=\"dataframe\">\n",
       "  <thead>\n",
       "    <tr style=\"text-align: right;\">\n",
       "      <th>client</th>\n",
       "      <th>client_0</th>\n",
       "      <th>client_1</th>\n",
       "      <th>client_10</th>\n",
       "      <th>client_100</th>\n",
       "      <th>client_101</th>\n",
       "      <th>client_102</th>\n",
       "      <th>client_103</th>\n",
       "      <th>client_104</th>\n",
       "      <th>client_105</th>\n",
       "      <th>client_106</th>\n",
       "      <th>...</th>\n",
       "      <th>client_90</th>\n",
       "      <th>client_91</th>\n",
       "      <th>client_92</th>\n",
       "      <th>client_93</th>\n",
       "      <th>client_94</th>\n",
       "      <th>client_95</th>\n",
       "      <th>client_96</th>\n",
       "      <th>client_97</th>\n",
       "      <th>client_98</th>\n",
       "      <th>client_99</th>\n",
       "    </tr>\n",
       "    <tr>\n",
       "      <th>timestamp</th>\n",
       "      <th></th>\n",
       "      <th></th>\n",
       "      <th></th>\n",
       "      <th></th>\n",
       "      <th></th>\n",
       "      <th></th>\n",
       "      <th></th>\n",
       "      <th></th>\n",
       "      <th></th>\n",
       "      <th></th>\n",
       "      <th></th>\n",
       "      <th></th>\n",
       "      <th></th>\n",
       "      <th></th>\n",
       "      <th></th>\n",
       "      <th></th>\n",
       "      <th></th>\n",
       "      <th></th>\n",
       "      <th></th>\n",
       "      <th></th>\n",
       "      <th></th>\n",
       "    </tr>\n",
       "  </thead>\n",
       "  <tbody>\n",
       "    <tr>\n",
       "      <th>2014-01-01 01:00:00</th>\n",
       "      <td>NaN</td>\n",
       "      <td>NaN</td>\n",
       "      <td>NaN</td>\n",
       "      <td>NaN</td>\n",
       "      <td>NaN</td>\n",
       "      <td>NaN</td>\n",
       "      <td>NaN</td>\n",
       "      <td>NaN</td>\n",
       "      <td>NaN</td>\n",
       "      <td>NaN</td>\n",
       "      <td>...</td>\n",
       "      <td>NaN</td>\n",
       "      <td>NaN</td>\n",
       "      <td>NaN</td>\n",
       "      <td>NaN</td>\n",
       "      <td>NaN</td>\n",
       "      <td>NaN</td>\n",
       "      <td>NaN</td>\n",
       "      <td>NaN</td>\n",
       "      <td>NaN</td>\n",
       "      <td>NaN</td>\n",
       "    </tr>\n",
       "    <tr>\n",
       "      <th>2014-01-01 02:00:00</th>\n",
       "      <td>NaN</td>\n",
       "      <td>NaN</td>\n",
       "      <td>NaN</td>\n",
       "      <td>NaN</td>\n",
       "      <td>NaN</td>\n",
       "      <td>NaN</td>\n",
       "      <td>NaN</td>\n",
       "      <td>NaN</td>\n",
       "      <td>NaN</td>\n",
       "      <td>NaN</td>\n",
       "      <td>...</td>\n",
       "      <td>NaN</td>\n",
       "      <td>NaN</td>\n",
       "      <td>NaN</td>\n",
       "      <td>NaN</td>\n",
       "      <td>NaN</td>\n",
       "      <td>NaN</td>\n",
       "      <td>NaN</td>\n",
       "      <td>NaN</td>\n",
       "      <td>NaN</td>\n",
       "      <td>NaN</td>\n",
       "    </tr>\n",
       "    <tr>\n",
       "      <th>2014-01-01 03:00:00</th>\n",
       "      <td>NaN</td>\n",
       "      <td>NaN</td>\n",
       "      <td>NaN</td>\n",
       "      <td>NaN</td>\n",
       "      <td>NaN</td>\n",
       "      <td>NaN</td>\n",
       "      <td>NaN</td>\n",
       "      <td>NaN</td>\n",
       "      <td>NaN</td>\n",
       "      <td>NaN</td>\n",
       "      <td>...</td>\n",
       "      <td>NaN</td>\n",
       "      <td>NaN</td>\n",
       "      <td>NaN</td>\n",
       "      <td>NaN</td>\n",
       "      <td>NaN</td>\n",
       "      <td>NaN</td>\n",
       "      <td>NaN</td>\n",
       "      <td>NaN</td>\n",
       "      <td>NaN</td>\n",
       "      <td>NaN</td>\n",
       "    </tr>\n",
       "    <tr>\n",
       "      <th>2014-01-01 04:00:00</th>\n",
       "      <td>NaN</td>\n",
       "      <td>NaN</td>\n",
       "      <td>NaN</td>\n",
       "      <td>NaN</td>\n",
       "      <td>NaN</td>\n",
       "      <td>NaN</td>\n",
       "      <td>NaN</td>\n",
       "      <td>NaN</td>\n",
       "      <td>NaN</td>\n",
       "      <td>NaN</td>\n",
       "      <td>...</td>\n",
       "      <td>NaN</td>\n",
       "      <td>NaN</td>\n",
       "      <td>NaN</td>\n",
       "      <td>NaN</td>\n",
       "      <td>NaN</td>\n",
       "      <td>NaN</td>\n",
       "      <td>NaN</td>\n",
       "      <td>NaN</td>\n",
       "      <td>NaN</td>\n",
       "      <td>NaN</td>\n",
       "    </tr>\n",
       "    <tr>\n",
       "      <th>2014-01-01 05:00:00</th>\n",
       "      <td>NaN</td>\n",
       "      <td>NaN</td>\n",
       "      <td>NaN</td>\n",
       "      <td>NaN</td>\n",
       "      <td>NaN</td>\n",
       "      <td>NaN</td>\n",
       "      <td>NaN</td>\n",
       "      <td>NaN</td>\n",
       "      <td>NaN</td>\n",
       "      <td>NaN</td>\n",
       "      <td>...</td>\n",
       "      <td>NaN</td>\n",
       "      <td>NaN</td>\n",
       "      <td>NaN</td>\n",
       "      <td>NaN</td>\n",
       "      <td>NaN</td>\n",
       "      <td>NaN</td>\n",
       "      <td>NaN</td>\n",
       "      <td>NaN</td>\n",
       "      <td>NaN</td>\n",
       "      <td>NaN</td>\n",
       "    </tr>\n",
       "    <tr>\n",
       "      <th>...</th>\n",
       "      <td>...</td>\n",
       "      <td>...</td>\n",
       "      <td>...</td>\n",
       "      <td>...</td>\n",
       "      <td>...</td>\n",
       "      <td>...</td>\n",
       "      <td>...</td>\n",
       "      <td>...</td>\n",
       "      <td>...</td>\n",
       "      <td>...</td>\n",
       "      <td>...</td>\n",
       "      <td>...</td>\n",
       "      <td>...</td>\n",
       "      <td>...</td>\n",
       "      <td>...</td>\n",
       "      <td>...</td>\n",
       "      <td>...</td>\n",
       "      <td>...</td>\n",
       "      <td>...</td>\n",
       "      <td>...</td>\n",
       "      <td>...</td>\n",
       "    </tr>\n",
       "    <tr>\n",
       "      <th>2014-12-31 20:00:00</th>\n",
       "      <td>NaN</td>\n",
       "      <td>NaN</td>\n",
       "      <td>NaN</td>\n",
       "      <td>NaN</td>\n",
       "      <td>NaN</td>\n",
       "      <td>NaN</td>\n",
       "      <td>NaN</td>\n",
       "      <td>NaN</td>\n",
       "      <td>NaN</td>\n",
       "      <td>NaN</td>\n",
       "      <td>...</td>\n",
       "      <td>NaN</td>\n",
       "      <td>NaN</td>\n",
       "      <td>NaN</td>\n",
       "      <td>NaN</td>\n",
       "      <td>NaN</td>\n",
       "      <td>NaN</td>\n",
       "      <td>NaN</td>\n",
       "      <td>NaN</td>\n",
       "      <td>NaN</td>\n",
       "      <td>NaN</td>\n",
       "    </tr>\n",
       "    <tr>\n",
       "      <th>2014-12-31 21:00:00</th>\n",
       "      <td>NaN</td>\n",
       "      <td>NaN</td>\n",
       "      <td>NaN</td>\n",
       "      <td>NaN</td>\n",
       "      <td>NaN</td>\n",
       "      <td>NaN</td>\n",
       "      <td>NaN</td>\n",
       "      <td>NaN</td>\n",
       "      <td>NaN</td>\n",
       "      <td>NaN</td>\n",
       "      <td>...</td>\n",
       "      <td>NaN</td>\n",
       "      <td>NaN</td>\n",
       "      <td>NaN</td>\n",
       "      <td>NaN</td>\n",
       "      <td>NaN</td>\n",
       "      <td>NaN</td>\n",
       "      <td>NaN</td>\n",
       "      <td>NaN</td>\n",
       "      <td>NaN</td>\n",
       "      <td>NaN</td>\n",
       "    </tr>\n",
       "    <tr>\n",
       "      <th>2014-12-31 22:00:00</th>\n",
       "      <td>NaN</td>\n",
       "      <td>NaN</td>\n",
       "      <td>NaN</td>\n",
       "      <td>NaN</td>\n",
       "      <td>NaN</td>\n",
       "      <td>NaN</td>\n",
       "      <td>NaN</td>\n",
       "      <td>NaN</td>\n",
       "      <td>NaN</td>\n",
       "      <td>NaN</td>\n",
       "      <td>...</td>\n",
       "      <td>NaN</td>\n",
       "      <td>NaN</td>\n",
       "      <td>NaN</td>\n",
       "      <td>NaN</td>\n",
       "      <td>NaN</td>\n",
       "      <td>NaN</td>\n",
       "      <td>NaN</td>\n",
       "      <td>NaN</td>\n",
       "      <td>NaN</td>\n",
       "      <td>NaN</td>\n",
       "    </tr>\n",
       "    <tr>\n",
       "      <th>2014-12-31 23:00:00</th>\n",
       "      <td>NaN</td>\n",
       "      <td>NaN</td>\n",
       "      <td>NaN</td>\n",
       "      <td>NaN</td>\n",
       "      <td>NaN</td>\n",
       "      <td>NaN</td>\n",
       "      <td>NaN</td>\n",
       "      <td>NaN</td>\n",
       "      <td>NaN</td>\n",
       "      <td>NaN</td>\n",
       "      <td>...</td>\n",
       "      <td>NaN</td>\n",
       "      <td>NaN</td>\n",
       "      <td>NaN</td>\n",
       "      <td>NaN</td>\n",
       "      <td>NaN</td>\n",
       "      <td>NaN</td>\n",
       "      <td>NaN</td>\n",
       "      <td>NaN</td>\n",
       "      <td>NaN</td>\n",
       "      <td>NaN</td>\n",
       "    </tr>\n",
       "    <tr>\n",
       "      <th>2015-01-01 00:00:00</th>\n",
       "      <td>NaN</td>\n",
       "      <td>NaN</td>\n",
       "      <td>NaN</td>\n",
       "      <td>NaN</td>\n",
       "      <td>NaN</td>\n",
       "      <td>NaN</td>\n",
       "      <td>NaN</td>\n",
       "      <td>NaN</td>\n",
       "      <td>NaN</td>\n",
       "      <td>NaN</td>\n",
       "      <td>...</td>\n",
       "      <td>NaN</td>\n",
       "      <td>NaN</td>\n",
       "      <td>NaN</td>\n",
       "      <td>NaN</td>\n",
       "      <td>NaN</td>\n",
       "      <td>NaN</td>\n",
       "      <td>NaN</td>\n",
       "      <td>NaN</td>\n",
       "      <td>NaN</td>\n",
       "      <td>NaN</td>\n",
       "    </tr>\n",
       "  </tbody>\n",
       "</table>\n",
       "<p>8760 rows × 370 columns</p>\n",
       "</div>"
      ],
      "text/plain": [
       "client               client_0  client_1  client_10  client_100  client_101  \\\n",
       "timestamp                                                                    \n",
       "2014-01-01 01:00:00       NaN       NaN        NaN         NaN         NaN   \n",
       "2014-01-01 02:00:00       NaN       NaN        NaN         NaN         NaN   \n",
       "2014-01-01 03:00:00       NaN       NaN        NaN         NaN         NaN   \n",
       "2014-01-01 04:00:00       NaN       NaN        NaN         NaN         NaN   \n",
       "2014-01-01 05:00:00       NaN       NaN        NaN         NaN         NaN   \n",
       "...                       ...       ...        ...         ...         ...   \n",
       "2014-12-31 20:00:00       NaN       NaN        NaN         NaN         NaN   \n",
       "2014-12-31 21:00:00       NaN       NaN        NaN         NaN         NaN   \n",
       "2014-12-31 22:00:00       NaN       NaN        NaN         NaN         NaN   \n",
       "2014-12-31 23:00:00       NaN       NaN        NaN         NaN         NaN   \n",
       "2015-01-01 00:00:00       NaN       NaN        NaN         NaN         NaN   \n",
       "\n",
       "client               client_102  client_103  client_104  client_105  \\\n",
       "timestamp                                                             \n",
       "2014-01-01 01:00:00         NaN         NaN         NaN         NaN   \n",
       "2014-01-01 02:00:00         NaN         NaN         NaN         NaN   \n",
       "2014-01-01 03:00:00         NaN         NaN         NaN         NaN   \n",
       "2014-01-01 04:00:00         NaN         NaN         NaN         NaN   \n",
       "2014-01-01 05:00:00         NaN         NaN         NaN         NaN   \n",
       "...                         ...         ...         ...         ...   \n",
       "2014-12-31 20:00:00         NaN         NaN         NaN         NaN   \n",
       "2014-12-31 21:00:00         NaN         NaN         NaN         NaN   \n",
       "2014-12-31 22:00:00         NaN         NaN         NaN         NaN   \n",
       "2014-12-31 23:00:00         NaN         NaN         NaN         NaN   \n",
       "2015-01-01 00:00:00         NaN         NaN         NaN         NaN   \n",
       "\n",
       "client               client_106  ...  client_90  client_91  client_92  \\\n",
       "timestamp                        ...                                    \n",
       "2014-01-01 01:00:00         NaN  ...        NaN        NaN        NaN   \n",
       "2014-01-01 02:00:00         NaN  ...        NaN        NaN        NaN   \n",
       "2014-01-01 03:00:00         NaN  ...        NaN        NaN        NaN   \n",
       "2014-01-01 04:00:00         NaN  ...        NaN        NaN        NaN   \n",
       "2014-01-01 05:00:00         NaN  ...        NaN        NaN        NaN   \n",
       "...                         ...  ...        ...        ...        ...   \n",
       "2014-12-31 20:00:00         NaN  ...        NaN        NaN        NaN   \n",
       "2014-12-31 21:00:00         NaN  ...        NaN        NaN        NaN   \n",
       "2014-12-31 22:00:00         NaN  ...        NaN        NaN        NaN   \n",
       "2014-12-31 23:00:00         NaN  ...        NaN        NaN        NaN   \n",
       "2015-01-01 00:00:00         NaN  ...        NaN        NaN        NaN   \n",
       "\n",
       "client               client_93  client_94  client_95  client_96  client_97  \\\n",
       "timestamp                                                                    \n",
       "2014-01-01 01:00:00        NaN        NaN        NaN        NaN        NaN   \n",
       "2014-01-01 02:00:00        NaN        NaN        NaN        NaN        NaN   \n",
       "2014-01-01 03:00:00        NaN        NaN        NaN        NaN        NaN   \n",
       "2014-01-01 04:00:00        NaN        NaN        NaN        NaN        NaN   \n",
       "2014-01-01 05:00:00        NaN        NaN        NaN        NaN        NaN   \n",
       "...                        ...        ...        ...        ...        ...   \n",
       "2014-12-31 20:00:00        NaN        NaN        NaN        NaN        NaN   \n",
       "2014-12-31 21:00:00        NaN        NaN        NaN        NaN        NaN   \n",
       "2014-12-31 22:00:00        NaN        NaN        NaN        NaN        NaN   \n",
       "2014-12-31 23:00:00        NaN        NaN        NaN        NaN        NaN   \n",
       "2015-01-01 00:00:00        NaN        NaN        NaN        NaN        NaN   \n",
       "\n",
       "client               client_98  client_99  \n",
       "timestamp                                  \n",
       "2014-01-01 01:00:00        NaN        NaN  \n",
       "2014-01-01 02:00:00        NaN        NaN  \n",
       "2014-01-01 03:00:00        NaN        NaN  \n",
       "2014-01-01 04:00:00        NaN        NaN  \n",
       "2014-01-01 05:00:00        NaN        NaN  \n",
       "...                        ...        ...  \n",
       "2014-12-31 20:00:00        NaN        NaN  \n",
       "2014-12-31 21:00:00        NaN        NaN  \n",
       "2014-12-31 22:00:00        NaN        NaN  \n",
       "2014-12-31 23:00:00        NaN        NaN  \n",
       "2015-01-01 00:00:00        NaN        NaN  \n",
       "\n",
       "[8760 rows x 370 columns]"
      ]
     },
     "execution_count": 48,
     "metadata": {},
     "output_type": "execute_result"
    }
   ],
   "source": [
    "train_p[train_p.isnull()]"
   ]
  },
  {
   "cell_type": "code",
   "execution_count": 39,
   "metadata": {},
   "outputs": [],
   "source": [
    "corr = train_p.corr()"
   ]
  },
  {
   "cell_type": "code",
   "execution_count": 43,
   "metadata": {},
   "outputs": [
    {
     "data": {
      "text/html": [
       "<div>\n",
       "<style scoped>\n",
       "    .dataframe tbody tr th:only-of-type {\n",
       "        vertical-align: middle;\n",
       "    }\n",
       "\n",
       "    .dataframe tbody tr th {\n",
       "        vertical-align: top;\n",
       "    }\n",
       "\n",
       "    .dataframe thead th {\n",
       "        text-align: right;\n",
       "    }\n",
       "</style>\n",
       "<table border=\"1\" class=\"dataframe\">\n",
       "  <thead>\n",
       "    <tr style=\"text-align: right;\">\n",
       "      <th>client</th>\n",
       "      <th>client_0</th>\n",
       "      <th>client_1</th>\n",
       "      <th>client_10</th>\n",
       "      <th>client_100</th>\n",
       "      <th>client_101</th>\n",
       "      <th>client_102</th>\n",
       "      <th>client_103</th>\n",
       "      <th>client_104</th>\n",
       "      <th>client_105</th>\n",
       "      <th>client_106</th>\n",
       "      <th>...</th>\n",
       "      <th>client_90</th>\n",
       "      <th>client_91</th>\n",
       "      <th>client_92</th>\n",
       "      <th>client_93</th>\n",
       "      <th>client_94</th>\n",
       "      <th>client_95</th>\n",
       "      <th>client_96</th>\n",
       "      <th>client_97</th>\n",
       "      <th>client_98</th>\n",
       "      <th>client_99</th>\n",
       "    </tr>\n",
       "    <tr>\n",
       "      <th>client</th>\n",
       "      <th></th>\n",
       "      <th></th>\n",
       "      <th></th>\n",
       "      <th></th>\n",
       "      <th></th>\n",
       "      <th></th>\n",
       "      <th></th>\n",
       "      <th></th>\n",
       "      <th></th>\n",
       "      <th></th>\n",
       "      <th></th>\n",
       "      <th></th>\n",
       "      <th></th>\n",
       "      <th></th>\n",
       "      <th></th>\n",
       "      <th></th>\n",
       "      <th></th>\n",
       "      <th></th>\n",
       "      <th></th>\n",
       "      <th></th>\n",
       "      <th></th>\n",
       "    </tr>\n",
       "  </thead>\n",
       "  <tbody>\n",
       "    <tr>\n",
       "      <th>client_0</th>\n",
       "      <td>1.000000</td>\n",
       "      <td>0.260986</td>\n",
       "      <td>-0.107399</td>\n",
       "      <td>0.056998</td>\n",
       "      <td>0.100580</td>\n",
       "      <td>0.013552</td>\n",
       "      <td>0.070387</td>\n",
       "      <td>0.081848</td>\n",
       "      <td>0.076943</td>\n",
       "      <td>0.210632</td>\n",
       "      <td>...</td>\n",
       "      <td>-0.121487</td>\n",
       "      <td>0.020473</td>\n",
       "      <td>0.051106</td>\n",
       "      <td>0.075733</td>\n",
       "      <td>-0.056927</td>\n",
       "      <td>-0.023644</td>\n",
       "      <td>-0.131826</td>\n",
       "      <td>-0.001634</td>\n",
       "      <td>0.036245</td>\n",
       "      <td>0.113694</td>\n",
       "    </tr>\n",
       "    <tr>\n",
       "      <th>client_1</th>\n",
       "      <td>0.260986</td>\n",
       "      <td>1.000000</td>\n",
       "      <td>0.186168</td>\n",
       "      <td>0.520887</td>\n",
       "      <td>0.041390</td>\n",
       "      <td>0.494558</td>\n",
       "      <td>0.517327</td>\n",
       "      <td>0.539094</td>\n",
       "      <td>0.235884</td>\n",
       "      <td>0.437069</td>\n",
       "      <td>...</td>\n",
       "      <td>-0.060897</td>\n",
       "      <td>0.282115</td>\n",
       "      <td>0.147995</td>\n",
       "      <td>0.115841</td>\n",
       "      <td>0.248265</td>\n",
       "      <td>0.185307</td>\n",
       "      <td>0.136175</td>\n",
       "      <td>0.459352</td>\n",
       "      <td>0.526711</td>\n",
       "      <td>0.563573</td>\n",
       "    </tr>\n",
       "    <tr>\n",
       "      <th>client_10</th>\n",
       "      <td>-0.107399</td>\n",
       "      <td>0.186168</td>\n",
       "      <td>1.000000</td>\n",
       "      <td>0.386449</td>\n",
       "      <td>0.037813</td>\n",
       "      <td>0.450563</td>\n",
       "      <td>0.320252</td>\n",
       "      <td>0.268846</td>\n",
       "      <td>-0.041997</td>\n",
       "      <td>0.089156</td>\n",
       "      <td>...</td>\n",
       "      <td>-0.200906</td>\n",
       "      <td>0.135978</td>\n",
       "      <td>-0.050347</td>\n",
       "      <td>0.073349</td>\n",
       "      <td>0.303405</td>\n",
       "      <td>0.239546</td>\n",
       "      <td>0.153832</td>\n",
       "      <td>0.416081</td>\n",
       "      <td>0.365014</td>\n",
       "      <td>0.119888</td>\n",
       "    </tr>\n",
       "    <tr>\n",
       "      <th>client_100</th>\n",
       "      <td>0.056998</td>\n",
       "      <td>0.520887</td>\n",
       "      <td>0.386449</td>\n",
       "      <td>1.000000</td>\n",
       "      <td>0.240468</td>\n",
       "      <td>0.953923</td>\n",
       "      <td>0.930957</td>\n",
       "      <td>0.900007</td>\n",
       "      <td>0.351551</td>\n",
       "      <td>0.342429</td>\n",
       "      <td>...</td>\n",
       "      <td>0.220175</td>\n",
       "      <td>0.393297</td>\n",
       "      <td>0.354133</td>\n",
       "      <td>0.015944</td>\n",
       "      <td>0.332508</td>\n",
       "      <td>0.314960</td>\n",
       "      <td>0.257856</td>\n",
       "      <td>0.927812</td>\n",
       "      <td>0.962712</td>\n",
       "      <td>0.805820</td>\n",
       "    </tr>\n",
       "    <tr>\n",
       "      <th>client_101</th>\n",
       "      <td>0.100580</td>\n",
       "      <td>0.041390</td>\n",
       "      <td>0.037813</td>\n",
       "      <td>0.240468</td>\n",
       "      <td>1.000000</td>\n",
       "      <td>0.254464</td>\n",
       "      <td>0.283623</td>\n",
       "      <td>0.281675</td>\n",
       "      <td>0.015722</td>\n",
       "      <td>0.019333</td>\n",
       "      <td>...</td>\n",
       "      <td>0.216435</td>\n",
       "      <td>0.026798</td>\n",
       "      <td>0.098364</td>\n",
       "      <td>-0.071025</td>\n",
       "      <td>-0.009711</td>\n",
       "      <td>-0.042960</td>\n",
       "      <td>-0.025879</td>\n",
       "      <td>0.329520</td>\n",
       "      <td>0.290471</td>\n",
       "      <td>0.222181</td>\n",
       "    </tr>\n",
       "    <tr>\n",
       "      <th>...</th>\n",
       "      <td>...</td>\n",
       "      <td>...</td>\n",
       "      <td>...</td>\n",
       "      <td>...</td>\n",
       "      <td>...</td>\n",
       "      <td>...</td>\n",
       "      <td>...</td>\n",
       "      <td>...</td>\n",
       "      <td>...</td>\n",
       "      <td>...</td>\n",
       "      <td>...</td>\n",
       "      <td>...</td>\n",
       "      <td>...</td>\n",
       "      <td>...</td>\n",
       "      <td>...</td>\n",
       "      <td>...</td>\n",
       "      <td>...</td>\n",
       "      <td>...</td>\n",
       "      <td>...</td>\n",
       "      <td>...</td>\n",
       "      <td>...</td>\n",
       "    </tr>\n",
       "    <tr>\n",
       "      <th>client_95</th>\n",
       "      <td>-0.023644</td>\n",
       "      <td>0.185307</td>\n",
       "      <td>0.239546</td>\n",
       "      <td>0.314960</td>\n",
       "      <td>-0.042960</td>\n",
       "      <td>0.429260</td>\n",
       "      <td>0.447607</td>\n",
       "      <td>0.413111</td>\n",
       "      <td>0.744168</td>\n",
       "      <td>0.250350</td>\n",
       "      <td>...</td>\n",
       "      <td>0.238042</td>\n",
       "      <td>0.836228</td>\n",
       "      <td>0.523239</td>\n",
       "      <td>0.286797</td>\n",
       "      <td>0.774622</td>\n",
       "      <td>1.000000</td>\n",
       "      <td>0.803631</td>\n",
       "      <td>0.373794</td>\n",
       "      <td>0.301409</td>\n",
       "      <td>0.426896</td>\n",
       "    </tr>\n",
       "    <tr>\n",
       "      <th>client_96</th>\n",
       "      <td>-0.131826</td>\n",
       "      <td>0.136175</td>\n",
       "      <td>0.153832</td>\n",
       "      <td>0.257856</td>\n",
       "      <td>-0.025879</td>\n",
       "      <td>0.382165</td>\n",
       "      <td>0.386547</td>\n",
       "      <td>0.364440</td>\n",
       "      <td>0.699747</td>\n",
       "      <td>0.157114</td>\n",
       "      <td>...</td>\n",
       "      <td>0.227871</td>\n",
       "      <td>0.793031</td>\n",
       "      <td>0.438921</td>\n",
       "      <td>0.249406</td>\n",
       "      <td>0.727101</td>\n",
       "      <td>0.803631</td>\n",
       "      <td>1.000000</td>\n",
       "      <td>0.328959</td>\n",
       "      <td>0.240094</td>\n",
       "      <td>0.369419</td>\n",
       "    </tr>\n",
       "    <tr>\n",
       "      <th>client_97</th>\n",
       "      <td>-0.001634</td>\n",
       "      <td>0.459352</td>\n",
       "      <td>0.416081</td>\n",
       "      <td>0.927812</td>\n",
       "      <td>0.329520</td>\n",
       "      <td>0.949657</td>\n",
       "      <td>0.930641</td>\n",
       "      <td>0.893771</td>\n",
       "      <td>0.350798</td>\n",
       "      <td>0.294596</td>\n",
       "      <td>...</td>\n",
       "      <td>0.315084</td>\n",
       "      <td>0.445085</td>\n",
       "      <td>0.363913</td>\n",
       "      <td>-0.003076</td>\n",
       "      <td>0.404034</td>\n",
       "      <td>0.373794</td>\n",
       "      <td>0.328959</td>\n",
       "      <td>1.000000</td>\n",
       "      <td>0.924689</td>\n",
       "      <td>0.788348</td>\n",
       "    </tr>\n",
       "    <tr>\n",
       "      <th>client_98</th>\n",
       "      <td>0.036245</td>\n",
       "      <td>0.526711</td>\n",
       "      <td>0.365014</td>\n",
       "      <td>0.962712</td>\n",
       "      <td>0.290471</td>\n",
       "      <td>0.935822</td>\n",
       "      <td>0.920833</td>\n",
       "      <td>0.905933</td>\n",
       "      <td>0.330548</td>\n",
       "      <td>0.355352</td>\n",
       "      <td>...</td>\n",
       "      <td>0.264569</td>\n",
       "      <td>0.382857</td>\n",
       "      <td>0.354907</td>\n",
       "      <td>-0.007220</td>\n",
       "      <td>0.310337</td>\n",
       "      <td>0.301409</td>\n",
       "      <td>0.240094</td>\n",
       "      <td>0.924689</td>\n",
       "      <td>1.000000</td>\n",
       "      <td>0.832289</td>\n",
       "    </tr>\n",
       "    <tr>\n",
       "      <th>client_99</th>\n",
       "      <td>0.113694</td>\n",
       "      <td>0.563573</td>\n",
       "      <td>0.119888</td>\n",
       "      <td>0.805820</td>\n",
       "      <td>0.222181</td>\n",
       "      <td>0.805872</td>\n",
       "      <td>0.864504</td>\n",
       "      <td>0.891071</td>\n",
       "      <td>0.525358</td>\n",
       "      <td>0.487385</td>\n",
       "      <td>...</td>\n",
       "      <td>0.353504</td>\n",
       "      <td>0.497903</td>\n",
       "      <td>0.474082</td>\n",
       "      <td>0.023531</td>\n",
       "      <td>0.365428</td>\n",
       "      <td>0.426896</td>\n",
       "      <td>0.369419</td>\n",
       "      <td>0.788348</td>\n",
       "      <td>0.832289</td>\n",
       "      <td>1.000000</td>\n",
       "    </tr>\n",
       "  </tbody>\n",
       "</table>\n",
       "<p>370 rows × 370 columns</p>\n",
       "</div>"
      ],
      "text/plain": [
       "client      client_0  client_1  client_10  client_100  client_101  client_102  \\\n",
       "client                                                                          \n",
       "client_0    1.000000  0.260986  -0.107399    0.056998    0.100580    0.013552   \n",
       "client_1    0.260986  1.000000   0.186168    0.520887    0.041390    0.494558   \n",
       "client_10  -0.107399  0.186168   1.000000    0.386449    0.037813    0.450563   \n",
       "client_100  0.056998  0.520887   0.386449    1.000000    0.240468    0.953923   \n",
       "client_101  0.100580  0.041390   0.037813    0.240468    1.000000    0.254464   \n",
       "...              ...       ...        ...         ...         ...         ...   \n",
       "client_95  -0.023644  0.185307   0.239546    0.314960   -0.042960    0.429260   \n",
       "client_96  -0.131826  0.136175   0.153832    0.257856   -0.025879    0.382165   \n",
       "client_97  -0.001634  0.459352   0.416081    0.927812    0.329520    0.949657   \n",
       "client_98   0.036245  0.526711   0.365014    0.962712    0.290471    0.935822   \n",
       "client_99   0.113694  0.563573   0.119888    0.805820    0.222181    0.805872   \n",
       "\n",
       "client      client_103  client_104  client_105  client_106  ...  client_90  \\\n",
       "client                                                      ...              \n",
       "client_0      0.070387    0.081848    0.076943    0.210632  ...  -0.121487   \n",
       "client_1      0.517327    0.539094    0.235884    0.437069  ...  -0.060897   \n",
       "client_10     0.320252    0.268846   -0.041997    0.089156  ...  -0.200906   \n",
       "client_100    0.930957    0.900007    0.351551    0.342429  ...   0.220175   \n",
       "client_101    0.283623    0.281675    0.015722    0.019333  ...   0.216435   \n",
       "...                ...         ...         ...         ...  ...        ...   \n",
       "client_95     0.447607    0.413111    0.744168    0.250350  ...   0.238042   \n",
       "client_96     0.386547    0.364440    0.699747    0.157114  ...   0.227871   \n",
       "client_97     0.930641    0.893771    0.350798    0.294596  ...   0.315084   \n",
       "client_98     0.920833    0.905933    0.330548    0.355352  ...   0.264569   \n",
       "client_99     0.864504    0.891071    0.525358    0.487385  ...   0.353504   \n",
       "\n",
       "client      client_91  client_92  client_93  client_94  client_95  client_96  \\\n",
       "client                                                                         \n",
       "client_0     0.020473   0.051106   0.075733  -0.056927  -0.023644  -0.131826   \n",
       "client_1     0.282115   0.147995   0.115841   0.248265   0.185307   0.136175   \n",
       "client_10    0.135978  -0.050347   0.073349   0.303405   0.239546   0.153832   \n",
       "client_100   0.393297   0.354133   0.015944   0.332508   0.314960   0.257856   \n",
       "client_101   0.026798   0.098364  -0.071025  -0.009711  -0.042960  -0.025879   \n",
       "...               ...        ...        ...        ...        ...        ...   \n",
       "client_95    0.836228   0.523239   0.286797   0.774622   1.000000   0.803631   \n",
       "client_96    0.793031   0.438921   0.249406   0.727101   0.803631   1.000000   \n",
       "client_97    0.445085   0.363913  -0.003076   0.404034   0.373794   0.328959   \n",
       "client_98    0.382857   0.354907  -0.007220   0.310337   0.301409   0.240094   \n",
       "client_99    0.497903   0.474082   0.023531   0.365428   0.426896   0.369419   \n",
       "\n",
       "client      client_97  client_98  client_99  \n",
       "client                                       \n",
       "client_0    -0.001634   0.036245   0.113694  \n",
       "client_1     0.459352   0.526711   0.563573  \n",
       "client_10    0.416081   0.365014   0.119888  \n",
       "client_100   0.927812   0.962712   0.805820  \n",
       "client_101   0.329520   0.290471   0.222181  \n",
       "...               ...        ...        ...  \n",
       "client_95    0.373794   0.301409   0.426896  \n",
       "client_96    0.328959   0.240094   0.369419  \n",
       "client_97    1.000000   0.924689   0.788348  \n",
       "client_98    0.924689   1.000000   0.832289  \n",
       "client_99    0.788348   0.832289   1.000000  \n",
       "\n",
       "[370 rows x 370 columns]"
      ]
     },
     "execution_count": 43,
     "metadata": {},
     "output_type": "execute_result"
    }
   ],
   "source": [
    "corr"
   ]
  },
  {
   "cell_type": "code",
   "execution_count": 40,
   "metadata": {},
   "outputs": [],
   "source": [
    "ids = corr.index"
   ]
  },
  {
   "cell_type": "code",
   "execution_count": 44,
   "metadata": {},
   "outputs": [],
   "source": [
    "from sklearn.cluster import KMeans"
   ]
  },
  {
   "cell_type": "code",
   "execution_count": 45,
   "metadata": {},
   "outputs": [
    {
     "ename": "ValueError",
     "evalue": "Input contains NaN, infinity or a value too large for dtype('float64').",
     "output_type": "error",
     "traceback": [
      "\u001b[0;31m---------------------------------------------------------------------------\u001b[0m",
      "\u001b[0;31mValueError\u001b[0m                                Traceback (most recent call last)",
      "\u001b[0;32m<ipython-input-45-7e4dbd39bc0d>\u001b[0m in \u001b[0;36m<module>\u001b[0;34m\u001b[0m\n\u001b[0;32m----> 1\u001b[0;31m \u001b[0mkmeans\u001b[0m \u001b[0;34m=\u001b[0m \u001b[0mKMeans\u001b[0m\u001b[0;34m(\u001b[0m\u001b[0mn_clusters\u001b[0m\u001b[0;34m=\u001b[0m\u001b[0;36m7\u001b[0m\u001b[0;34m,\u001b[0m \u001b[0mrandom_state\u001b[0m\u001b[0;34m=\u001b[0m\u001b[0;36m0\u001b[0m\u001b[0;34m)\u001b[0m\u001b[0;34m.\u001b[0m\u001b[0mfit\u001b[0m\u001b[0;34m(\u001b[0m\u001b[0mcorr\u001b[0m\u001b[0;34m.\u001b[0m\u001b[0mvalues\u001b[0m\u001b[0;34m)\u001b[0m\u001b[0;34m\u001b[0m\u001b[0;34m\u001b[0m\u001b[0m\n\u001b[0m",
      "\u001b[0;32m/opt/conda/lib/python3.7/site-packages/sklearn/cluster/_kmeans.py\u001b[0m in \u001b[0;36mfit\u001b[0;34m(self, X, y, sample_weight)\u001b[0m\n\u001b[1;32m    857\u001b[0m         \u001b[0morder\u001b[0m \u001b[0;34m=\u001b[0m \u001b[0;34m\"C\"\u001b[0m \u001b[0;32mif\u001b[0m \u001b[0mself\u001b[0m\u001b[0;34m.\u001b[0m\u001b[0mcopy_x\u001b[0m \u001b[0;32melse\u001b[0m \u001b[0;32mNone\u001b[0m\u001b[0;34m\u001b[0m\u001b[0;34m\u001b[0m\u001b[0m\n\u001b[1;32m    858\u001b[0m         X = check_array(X, accept_sparse='csr', dtype=[np.float64, np.float32],\n\u001b[0;32m--> 859\u001b[0;31m                         order=order, copy=self.copy_x)\n\u001b[0m\u001b[1;32m    860\u001b[0m         \u001b[0;31m# verify that the number of samples given is larger than k\u001b[0m\u001b[0;34m\u001b[0m\u001b[0;34m\u001b[0m\u001b[0;34m\u001b[0m\u001b[0m\n\u001b[1;32m    861\u001b[0m         \u001b[0;32mif\u001b[0m \u001b[0m_num_samples\u001b[0m\u001b[0;34m(\u001b[0m\u001b[0mX\u001b[0m\u001b[0;34m)\u001b[0m \u001b[0;34m<\u001b[0m \u001b[0mself\u001b[0m\u001b[0;34m.\u001b[0m\u001b[0mn_clusters\u001b[0m\u001b[0;34m:\u001b[0m\u001b[0;34m\u001b[0m\u001b[0;34m\u001b[0m\u001b[0m\n",
      "\u001b[0;32m/opt/conda/lib/python3.7/site-packages/sklearn/utils/validation.py\u001b[0m in \u001b[0;36mcheck_array\u001b[0;34m(array, accept_sparse, accept_large_sparse, dtype, order, copy, force_all_finite, ensure_2d, allow_nd, ensure_min_samples, ensure_min_features, warn_on_dtype, estimator)\u001b[0m\n\u001b[1;32m    576\u001b[0m         \u001b[0;32mif\u001b[0m \u001b[0mforce_all_finite\u001b[0m\u001b[0;34m:\u001b[0m\u001b[0;34m\u001b[0m\u001b[0;34m\u001b[0m\u001b[0m\n\u001b[1;32m    577\u001b[0m             _assert_all_finite(array,\n\u001b[0;32m--> 578\u001b[0;31m                                allow_nan=force_all_finite == 'allow-nan')\n\u001b[0m\u001b[1;32m    579\u001b[0m \u001b[0;34m\u001b[0m\u001b[0m\n\u001b[1;32m    580\u001b[0m     \u001b[0;32mif\u001b[0m \u001b[0mensure_min_samples\u001b[0m \u001b[0;34m>\u001b[0m \u001b[0;36m0\u001b[0m\u001b[0;34m:\u001b[0m\u001b[0;34m\u001b[0m\u001b[0;34m\u001b[0m\u001b[0m\n",
      "\u001b[0;32m/opt/conda/lib/python3.7/site-packages/sklearn/utils/validation.py\u001b[0m in \u001b[0;36m_assert_all_finite\u001b[0;34m(X, allow_nan, msg_dtype)\u001b[0m\n\u001b[1;32m     58\u001b[0m                     \u001b[0mmsg_err\u001b[0m\u001b[0;34m.\u001b[0m\u001b[0mformat\u001b[0m\u001b[0;34m\u001b[0m\u001b[0;34m\u001b[0m\u001b[0m\n\u001b[1;32m     59\u001b[0m                     (type_err,\n\u001b[0;32m---> 60\u001b[0;31m                      msg_dtype if msg_dtype is not None else X.dtype)\n\u001b[0m\u001b[1;32m     61\u001b[0m             )\n\u001b[1;32m     62\u001b[0m     \u001b[0;31m# for object dtype data, we only check for NaNs (GH-13254)\u001b[0m\u001b[0;34m\u001b[0m\u001b[0;34m\u001b[0m\u001b[0;34m\u001b[0m\u001b[0m\n",
      "\u001b[0;31mValueError\u001b[0m: Input contains NaN, infinity or a value too large for dtype('float64')."
     ]
    }
   ],
   "source": [
    "kmeans = KMeans(n_clusters=7, random_state=0).fit(corr.values)"
   ]
  },
  {
   "cell_type": "code",
   "execution_count": 46,
   "metadata": {},
   "outputs": [
    {
     "ename": "NameError",
     "evalue": "name 'kmeans' is not defined",
     "output_type": "error",
     "traceback": [
      "\u001b[0;31m---------------------------------------------------------------------------\u001b[0m",
      "\u001b[0;31mNameError\u001b[0m                                 Traceback (most recent call last)",
      "\u001b[0;32m<ipython-input-46-646ba12d4854>\u001b[0m in \u001b[0;36m<module>\u001b[0;34m\u001b[0m\n\u001b[0;32m----> 1\u001b[0;31m \u001b[0mprint\u001b[0m\u001b[0;34m(\u001b[0m\u001b[0mkmeans\u001b[0m\u001b[0;34m.\u001b[0m\u001b[0mlabels_\u001b[0m\u001b[0;34m)\u001b[0m\u001b[0;34m\u001b[0m\u001b[0;34m\u001b[0m\u001b[0m\n\u001b[0m",
      "\u001b[0;31mNameError\u001b[0m: name 'kmeans' is not defined"
     ]
    }
   ],
   "source": [
    "print(kmeans.labels_)\n"
   ]
  },
  {
   "cell_type": "code",
   "execution_count": null,
   "metadata": {},
   "outputs": [],
   "source": []
  },
  {
   "cell_type": "code",
   "execution_count": null,
   "metadata": {},
   "outputs": [],
   "source": []
  },
  {
   "cell_type": "markdown",
   "metadata": {},
   "source": [
    "### ts-learnを使う場合"
   ]
  },
  {
   "cell_type": "code",
   "execution_count": 56,
   "metadata": {},
   "outputs": [
    {
     "name": "stdout",
     "output_type": "stream",
     "text": [
      "/opt/conda/lib/python3.7/site-packages/secretstorage/dhcrypto.py:16: CryptographyDeprecationWarning: int_from_bytes is deprecated, use int.from_bytes instead\n",
      "  from cryptography.utils import int_from_bytes\n",
      "/opt/conda/lib/python3.7/site-packages/secretstorage/util.py:25: CryptographyDeprecationWarning: int_from_bytes is deprecated, use int.from_bytes instead\n",
      "  from cryptography.utils import int_from_bytes\n",
      "Collecting tslearn\n",
      "  Downloading tslearn-0.5.2-cp37-cp37m-manylinux_2_5_x86_64.manylinux1_x86_64.manylinux_2_12_x86_64.manylinux2010_x86_64.whl (793 kB)\n",
      "\u001b[K     |████████████████████████████████| 793 kB 21.3 MB/s eta 0:00:01\n",
      "\u001b[?25hRequirement already satisfied: scikit-learn in /opt/conda/lib/python3.7/site-packages (from tslearn) (0.22.1)\n",
      "Requirement already satisfied: Cython in /opt/conda/lib/python3.7/site-packages (from tslearn) (0.29.15)\n",
      "Requirement already satisfied: numba in /opt/conda/lib/python3.7/site-packages (from tslearn) (0.54.0)\n",
      "Requirement already satisfied: joblib in /opt/conda/lib/python3.7/site-packages (from tslearn) (0.14.1)\n",
      "Requirement already satisfied: scipy in /opt/conda/lib/python3.7/site-packages (from tslearn) (1.4.1)\n",
      "Requirement already satisfied: numpy in /opt/conda/lib/python3.7/site-packages (from tslearn) (1.20.3)\n",
      "Requirement already satisfied: llvmlite<0.38,>=0.37.0rc1 in /opt/conda/lib/python3.7/site-packages (from numba->tslearn) (0.37.0)\n",
      "Requirement already satisfied: setuptools in /opt/conda/lib/python3.7/site-packages (from numba->tslearn) (58.1.0)\n",
      "Installing collected packages: tslearn\n",
      "Successfully installed tslearn-0.5.2\n",
      "\u001b[33mWARNING: Running pip as the 'root' user can result in broken permissions and conflicting behaviour with the system package manager. It is recommended to use a virtual environment instead: https://pip.pypa.io/warnings/venv\u001b[0m\n",
      "\u001b[33mWARNING: You are using pip version 21.2.4; however, version 21.3 is available.\n",
      "You should consider upgrading via the '/opt/conda/bin/python -m pip install --upgrade pip' command.\u001b[0m\n"
     ]
    }
   ],
   "source": [
    "!pip install tslearn"
   ]
  },
  {
   "cell_type": "code",
   "execution_count": 57,
   "metadata": {},
   "outputs": [
    {
     "name": "stderr",
     "output_type": "stream",
     "text": [
      "/opt/conda/lib/python3.7/site-packages/tslearn/clustering/kmeans.py:17: UserWarning: Scikit-learn <0.24 will be deprecated in a future release of tslearn\n",
      "  \"Scikit-learn <0.24 will be deprecated in a \"\n"
     ]
    }
   ],
   "source": [
    "from tslearn.clustering import KShape\n",
    "from tslearn.preprocessing import TimeSeriesScalerMeanVariance"
   ]
  },
  {
   "cell_type": "code",
   "execution_count": 61,
   "metadata": {},
   "outputs": [],
   "source": [
    "import numpy as np"
   ]
  },
  {
   "cell_type": "code",
   "execution_count": 62,
   "metadata": {},
   "outputs": [],
   "source": [
    "from tslearn import metrics\n",
    "from tslearn.utils import to_time_series_dataset"
   ]
  },
  {
   "cell_type": "code",
   "execution_count": 64,
   "metadata": {},
   "outputs": [],
   "source": [
    "scaler = TimeSeriesScalerMeanVariance(mu=0., std=1.)\n",
    "#t = scaler.fit_transform(np.nan_to_num(to_time_series_dataset(df.values.T)))\n",
    "t = scaler.fit_transform(np.nan_to_num(to_time_series_dataset(train_p.values.T)))"
   ]
  },
  {
   "cell_type": "code",
   "execution_count": 68,
   "metadata": {},
   "outputs": [
    {
     "data": {
      "text/plain": [
       "(370, 8760, 1)"
      ]
     },
     "execution_count": 68,
     "metadata": {},
     "output_type": "execute_result"
    }
   ],
   "source": [
    "t.shape"
   ]
  },
  {
   "cell_type": "code",
   "execution_count": 69,
   "metadata": {},
   "outputs": [],
   "source": [
    "path, sim = metrics.dtw_path(t[0], t[1])"
   ]
  },
  {
   "cell_type": "code",
   "execution_count": 76,
   "metadata": {},
   "outputs": [
    {
     "data": {
      "text/plain": [
       "61.363219719235985"
      ]
     },
     "execution_count": 76,
     "metadata": {},
     "output_type": "execute_result"
    }
   ],
   "source": [
    "sim"
   ]
  },
  {
   "cell_type": "code",
   "execution_count": 79,
   "metadata": {},
   "outputs": [],
   "source": [
    "import matplotlib.pyplot as plt"
   ]
  },
  {
   "cell_type": "code",
   "execution_count": 82,
   "metadata": {},
   "outputs": [
    {
     "data": {
      "image/png": "[encoded data removed]",
      "text/plain": [
       "<Figure size 432x288 with 1 Axes>"
      ]
     },
     "metadata": {
      "needs_background": "light"
     },
     "output_type": "display_data"
    },
    {
     "data": {
      "text/plain": [
       "<Figure size 720x720 with 0 Axes>"
      ]
     },
     "metadata": {},
     "output_type": "display_data"
    }
   ],
   "source": [
    "#pd.concat(pd.Series(t[0]),pd.Series(t[1]))\n",
    "\n",
    "x = np.arange(0, 876, 0.1)\n",
    "y1=t[0]\n",
    "y2=t[1]\n",
    "\n",
    "plt.plot(x,y1,label=\"sin\")\n",
    "plt.plot(x,y2,linestyle=\"--\", label=\"cos\")\n",
    "plt.xlabel(\"x\")\n",
    "plt.ylabel(\"y\")\n",
    "plt.title('sin & cos')\n",
    "plt.legend()\n",
    "plt.figure(figsize=(10,10))\n",
    "plt.show()"
   ]
  },
  {
   "cell_type": "code",
   "execution_count": null,
   "metadata": {},
   "outputs": [],
   "source": []
  },
  {
   "cell_type": "code",
   "execution_count": null,
   "metadata": {},
   "outputs": [],
   "source": []
  },
  {
   "cell_type": "code",
   "execution_count": null,
   "metadata": {},
   "outputs": [],
   "source": []
  },
  {
   "cell_type": "code",
   "execution_count": null,
   "metadata": {},
   "outputs": [],
   "source": []
  },
  {
   "cell_type": "code",
   "execution_count": null,
   "metadata": {},
   "outputs": [],
   "source": []
  },
  {
   "cell_type": "markdown",
   "metadata": {},
   "source": [
    "## 2.データ分割\n",
    "48時間後(48points)を予測する。  \n",
    "\n",
    "all:2014-01-01 01:00:00 〜 2015-01-01 00:00:00  \n",
    "\n",
    "### train1\n",
    "train:2014-01-01 01:00:00 〜 2014-06-28 23:00:00  \n",
    "valid:2014-06-29 00:00:00 〜 2014-06-30 23:00:00(48h)\n",
    "\n",
    "### train2(for pred)\n",
    "train:2014-01-01 01:00:00 〜 2014-06-30 23:00:00  \n",
    "valid:2014-07-01 00:00:00 〜 2014-07-02 23:00:00(48h)\n"
   ]
  },
  {
   "cell_type": "code",
   "execution_count": null,
   "metadata": {},
   "outputs": [],
   "source": []
  },
  {
   "cell_type": "code",
   "execution_count": null,
   "metadata": {},
   "outputs": [],
   "source": []
  },
  {
   "cell_type": "code",
   "execution_count": null,
   "metadata": {},
   "outputs": [],
   "source": [
    "df['client'] = df['client'].str.replace('client_','').astype(int)"
   ]
  },
  {
   "cell_type": "code",
   "execution_count": null,
   "metadata": {},
   "outputs": [],
   "source": [
    "df.head()"
   ]
  },
  {
   "cell_type": "markdown",
   "metadata": {},
   "source": [
    "## 2.特徴量生成"
   ]
  },
  {
   "cell_type": "markdown",
   "metadata": {},
   "source": [
    "### 1)時刻型に変換し、特徴量（時間帯、曜日）を抽出"
   ]
  },
  {
   "cell_type": "code",
   "execution_count": null,
   "metadata": {},
   "outputs": [],
   "source": [
    "df['timestamp'] = pd.to_datetime(df['timestamp'], format='%Y-%m-%d %H:%M:%S')"
   ]
  },
  {
   "cell_type": "code",
   "execution_count": null,
   "metadata": {},
   "outputs": [],
   "source": [
    "df['num_of_week'] = df['timestamp'].dt.dayofweek"
   ]
  },
  {
   "cell_type": "code",
   "execution_count": null,
   "metadata": {},
   "outputs": [],
   "source": [
    "df['hour'] = df['timestamp'].dt.hour"
   ]
  },
  {
   "cell_type": "markdown",
   "metadata": {},
   "source": [
    "### 2)clientごとに時間差の値を特徴量にもつ（36hより前である必要がある）"
   ]
  },
  {
   "cell_type": "code",
   "execution_count": null,
   "metadata": {},
   "outputs": [],
   "source": [
    "df[\"before_36h\"] = df.groupby(['client']).shift(36)['demand'].reset_index()['demand']\n",
    "df[\"before_37h\"] = df.groupby(['client']).shift(37)['demand'].reset_index()['demand']\n",
    "df[\"before_38h\"] = df.groupby(['client']).shift(38)['demand'].reset_index()['demand']\n",
    "df[\"before_48h\"] = df.groupby(['client']).shift(48)['demand'].reset_index()['demand']\n",
    "df[\"before_72h\"] = df.groupby(['client']).shift(72)['demand'].reset_index()['demand']\n",
    "df[\"before_96h\"] = df.groupby(['client']).shift(96)['demand'].reset_index()['demand']"
   ]
  },
  {
   "cell_type": "markdown",
   "metadata": {},
   "source": [
    "### 3)clientごとに期間で集約する"
   ]
  },
  {
   "cell_type": "code",
   "execution_count": null,
   "metadata": {},
   "outputs": [],
   "source": [
    "df = df.sort_values([\"client\",\"timestamp\"]).reset_index()\n",
    "df['mean_24h'] = df.groupby(['client']).rolling(24)['demand'].mean().reset_index()['demand']\n",
    "df['var_24h'] = df.groupby(['client']).rolling(24)['demand'].var().reset_index()['demand']"
   ]
  },
  {
   "cell_type": "code",
   "execution_count": null,
   "metadata": {},
   "outputs": [],
   "source": [
    "#df = df.sort_values([\"client\",\"timestamp\"]).reset_index()\n",
    "#df['mean_24h_before_36h'] = df.groupby(['client']).rolling(2)['demand'].mean().reset_index()['demand']"
   ]
  },
  {
   "cell_type": "code",
   "execution_count": null,
   "metadata": {},
   "outputs": [],
   "source": [
    "df[\"mean_24h_before_36h\"] = df.groupby(['client']).shift(36)['mean_24h'].reset_index()['mean_24h']\n",
    "df[\"var_24h_before_36h\"] = df.groupby(['client']).shift(36)['var_24h'].reset_index()['var_24h']"
   ]
  },
  {
   "cell_type": "code",
   "execution_count": null,
   "metadata": {},
   "outputs": [],
   "source": [
    "df[df.client==21].head()"
   ]
  },
  {
   "cell_type": "code",
   "execution_count": null,
   "metadata": {},
   "outputs": [],
   "source": [
    "df[df.client==21].tail()"
   ]
  },
  {
   "cell_type": "code",
   "execution_count": null,
   "metadata": {},
   "outputs": [],
   "source": [
    "feature_col = [\n",
    "    'client',\n",
    "    'num_of_week',\n",
    "    'hour',\n",
    "    'before_36h',\n",
    "    'before_37h',\n",
    "    'before_38h',\n",
    "    'before_48h',\n",
    "    'before_72h',\n",
    "    'before_96h',\n",
    "    'mean_24h_before_36h',\n",
    "    'var_24h_before_36h'\n",
    "]"
   ]
  },
  {
   "cell_type": "markdown",
   "metadata": {},
   "source": []
  },
  {
   "cell_type": "markdown",
   "metadata": {},
   "source": [
    "## 3.データ分割\n",
    "all:2014-01-01 01:00:00 〜 2015-01-01 00:00:00  \n",
    "train:2014-01-01 01:00:00 〜 2014-12-29 00:00:00  \n",
    "valid:2014-12-29 01:00:00 〜 2014-12-30 12:00:00(36h)  \n",
    "test:2014-12-30 13:00:00 〜 2015-01-01 00:00:00(36h)  "
   ]
  },
  {
   "cell_type": "code",
   "execution_count": null,
   "metadata": {},
   "outputs": [],
   "source": [
    "df_train = df[df.timestamp <= '2014-12-29 00:00:00']"
   ]
  },
  {
   "cell_type": "code",
   "execution_count": null,
   "metadata": {},
   "outputs": [],
   "source": [
    "df_valid = df[(df.timestamp >= '2014-12-29 01:00:00') & (df.timestamp <= '2014-12-30 12:00:00')]"
   ]
  },
  {
   "cell_type": "code",
   "execution_count": null,
   "metadata": {},
   "outputs": [],
   "source": [
    "df_test = df[df.timestamp >= '2014-12-30 13:00:00']"
   ]
  },
  {
   "cell_type": "code",
   "execution_count": null,
   "metadata": {},
   "outputs": [],
   "source": [
    "df_train[df_train.client==21].shape"
   ]
  },
  {
   "cell_type": "code",
   "execution_count": null,
   "metadata": {},
   "outputs": [],
   "source": [
    "df_valid[df_valid.client==21].shape"
   ]
  },
  {
   "cell_type": "code",
   "execution_count": null,
   "metadata": {},
   "outputs": [],
   "source": [
    "df_test[df_test.client==21].shape"
   ]
  },
  {
   "cell_type": "code",
   "execution_count": null,
   "metadata": {},
   "outputs": [],
   "source": [
    "tr_x = df_train[feature_col]\n",
    "tr_y = df_train['demand']"
   ]
  },
  {
   "cell_type": "code",
   "execution_count": null,
   "metadata": {},
   "outputs": [],
   "source": [
    "va_x = df_valid[feature_col]\n",
    "va_y = df_valid['demand']"
   ]
  },
  {
   "cell_type": "code",
   "execution_count": null,
   "metadata": {},
   "outputs": [],
   "source": [
    "test_x = df_test[feature_col]\n",
    "test_y = df_test[['timestamp','client','demand']]"
   ]
  },
  {
   "cell_type": "markdown",
   "metadata": {},
   "source": [
    "# XGBoost"
   ]
  },
  {
   "cell_type": "code",
   "execution_count": null,
   "metadata": {},
   "outputs": [],
   "source": [
    "!pip install xgboost"
   ]
  },
  {
   "cell_type": "code",
   "execution_count": null,
   "metadata": {},
   "outputs": [],
   "source": [
    "import xgboost as xgb"
   ]
  },
  {
   "cell_type": "code",
   "execution_count": null,
   "metadata": {},
   "outputs": [],
   "source": [
    "dtrain = xgb.DMatrix(tr_x, label=tr_y)\n",
    "dvalid = xgb.DMatrix(va_x, label=va_y)\n",
    "dtest = xgb.DMatrix(test_x)"
   ]
  },
  {
   "cell_type": "markdown",
   "metadata": {},
   "source": [
    "## 4.モデル学習\n",
    "誤差はRMSEを用いる\n",
    "\n",
    "https://docs.aws.amazon.com/ja_jp/forecast/latest/dg/metrics.html"
   ]
  },
  {
   "cell_type": "code",
   "execution_count": null,
   "metadata": {},
   "outputs": [],
   "source": [
    "import xgboost as xgb"
   ]
  },
  {
   "cell_type": "code",
   "execution_count": null,
   "metadata": {},
   "outputs": [],
   "source": [
    "from sklearn.metrics import mean_squared_error"
   ]
  },
  {
   "cell_type": "code",
   "execution_count": null,
   "metadata": {},
   "outputs": [],
   "source": [
    "#fit by best params\n",
    "regressor = xgb.XGBRegressor(n_estimators=50)"
   ]
  },
  {
   "cell_type": "code",
   "execution_count": null,
   "metadata": {},
   "outputs": [],
   "source": [
    "regressor.fit(tr_x, tr_y, eval_metric=\"rmse\", eval_set=[(va_x, va_y)])"
   ]
  },
  {
   "cell_type": "markdown",
   "metadata": {},
   "source": [
    "## 5.モデル評価"
   ]
  },
  {
   "cell_type": "markdown",
   "metadata": {},
   "source": [
    "### testデータでのRMSE"
   ]
  },
  {
   "cell_type": "code",
   "execution_count": null,
   "metadata": {},
   "outputs": [],
   "source": [
    "import numpy as np\n",
    "from sklearn.metrics import mean_squared_error"
   ]
  },
  {
   "cell_type": "code",
   "execution_count": null,
   "metadata": {},
   "outputs": [],
   "source": [
    "test_y"
   ]
  },
  {
   "cell_type": "code",
   "execution_count": null,
   "metadata": {},
   "outputs": [],
   "source": [
    "### RMSEを出力\n",
    "np.sqrt(mean_squared_error(test_y['demand'], regressor.predict(test_x)))"
   ]
  },
  {
   "cell_type": "markdown",
   "metadata": {},
   "source": [
    "### 重要度の可視化"
   ]
  },
  {
   "cell_type": "code",
   "execution_count": null,
   "metadata": {},
   "outputs": [],
   "source": [
    "xgb.plot_importance(regressor)"
   ]
  },
  {
   "cell_type": "markdown",
   "metadata": {},
   "source": [
    "## 6.推論（予測）\n",
    "https://github.com/dmlc/xgboost/blob/master/demo/guide-python/sklearn_examples.py"
   ]
  },
  {
   "cell_type": "code",
   "execution_count": null,
   "metadata": {},
   "outputs": [],
   "source": [
    "regressor.predict(test_x)"
   ]
  },
  {
   "cell_type": "code",
   "execution_count": null,
   "metadata": {},
   "outputs": [],
   "source": []
  },
  {
   "cell_type": "markdown",
   "metadata": {},
   "source": [
    "## 7.推論結果の可視化\n",
    "client_21について  \n",
    "正解データ  \n",
    "Amazon Foreast  \n",
    "xgboost  "
   ]
  },
  {
   "cell_type": "code",
   "execution_count": null,
   "metadata": {},
   "outputs": [],
   "source": [
    "df_xgb = pd.DataFrame(regressor.predict(test_x[test_x.client==21]), columns=['xgb'])"
   ]
  },
  {
   "cell_type": "code",
   "execution_count": null,
   "metadata": {},
   "outputs": [],
   "source": [
    "df_xgb"
   ]
  },
  {
   "cell_type": "code",
   "execution_count": null,
   "metadata": {},
   "outputs": [],
   "source": [
    "df_y = pd.DataFrame(test_y[test_y.client==21]['demand'], columns=['demand']).reset_index(drop=True)"
   ]
  },
  {
   "cell_type": "code",
   "execution_count": null,
   "metadata": {},
   "outputs": [],
   "source": [
    "df_y"
   ]
  },
  {
   "cell_type": "markdown",
   "metadata": {},
   "source": [
    "### Foreastの結果"
   ]
  },
  {
   "cell_type": "code",
   "execution_count": null,
   "metadata": {},
   "outputs": [],
   "source": [
    "#df_forecast = pd.read_csv('../amazon_forecast_official_dev_guide/export_forecast_drop1week/my_forecast_export_drop1week_2021-03-03T07-51-36Z_part1.csv')\n",
    "df_forecast = pd.read_csv('../input/my_forecast_export_drop1week_2021-03-03T07-51-36Z_part1.csv')\n",
    "\n",
    "\n"
   ]
  },
  {
   "cell_type": "code",
   "execution_count": null,
   "metadata": {},
   "outputs": [],
   "source": [
    "df_forecast['item_id'].unique()"
   ]
  },
  {
   "cell_type": "code",
   "execution_count": null,
   "metadata": {},
   "outputs": [],
   "source": [
    "df_result = df_forecast[df_forecast.item_id=='client_21'].reset_index(drop=True)"
   ]
  },
  {
   "cell_type": "code",
   "execution_count": null,
   "metadata": {},
   "outputs": [],
   "source": [
    "df_result"
   ]
  },
  {
   "cell_type": "code",
   "execution_count": null,
   "metadata": {},
   "outputs": [],
   "source": [
    "pd.concat([df_result, df_xgb, df_y], axis=1).plot(x='date',figsize=(20,5), grid=True)"
   ]
  },
  {
   "cell_type": "markdown",
   "metadata": {},
   "source": [
    "# XGBoostの利点\n",
    "特徴量の重要度がわかる\n",
    "\n",
    "【デメリット】\n",
    "コードのデバッグが大変\n",
    "特徴量を作り込む必要あり\n",
    "ハイパーパラメータのチューニング\n"
   ]
  },
  {
   "cell_type": "code",
   "execution_count": null,
   "metadata": {},
   "outputs": [],
   "source": []
  }
 ],
 "metadata": {
  "instance_type": "ml.t3.medium",
  "kernelspec": {
   "display_name": "Python 3 (Data Science)",
   "language": "python",
   "name": "python3__SAGEMAKER_INTERNAL__arn:aws:sagemaker:ap-northeast-1:102112518831:image/datascience-1.0"
  },
  "language_info": {
   "codemirror_mode": {
    "name": "ipython",
    "version": 3
   },
   "file_extension": ".py",
   "mimetype": "text/x-python",
   "name": "python",
   "nbconvert_exporter": "python",
   "pygments_lexer": "ipython3",
   "version": "3.7.10"
  }
 },
 "nbformat": 4,
 "nbformat_minor": 4
}
