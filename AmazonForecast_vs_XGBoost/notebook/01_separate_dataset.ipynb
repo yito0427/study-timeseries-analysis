{
 "cells": [
  {
   "cell_type": "markdown",
   "metadata": {},
   "source": [
    "# データセットの準備を行う\n",
    "\n",
    "下記、Amazon Forecastのdocにある、電力消費量データを用いる。\n",
    "https://docs.aws.amazon.com/forecast/latest/dg/getting-started.html\n"
   ]
  },
  {
   "cell_type": "markdown",
   "metadata": {},
   "source": [
    "48時間後までを予測するため、48時間前の情報から予測する必要があります。"
   ]
  },
  {
   "cell_type": "markdown",
   "metadata": {},
   "source": [
    "# 0.データセットのダウンロード"
   ]
  },
  {
   "cell_type": "code",
   "execution_count": 2,
   "metadata": {},
   "outputs": [
    {
     "name": "stdout",
     "output_type": "stream",
     "text": [
      "--2021-10-28 05:44:51--  https://docs.aws.amazon.com/forecast/latest/dg/samples/electricityusagedata.zip\n",
      "Resolving docs.aws.amazon.com (docs.aws.amazon.com)... 176.32.98.189\n",
      "Connecting to docs.aws.amazon.com (docs.aws.amazon.com)|176.32.98.189|:443... connected.\n",
      "HTTP request sent, awaiting response... 200 OK\n",
      "Length: 40429483 (39M) [application/zip]\n",
      "Saving to: ‘../input/electricityusagedata.zip.1’\n",
      "\n",
      "electricityusagedat 100%[===================>]  38.56M  1.32MB/s    in 28s     \n",
      "\n",
      "2021-10-28 05:45:20 (1.35 MB/s) - ‘../input/electricityusagedata.zip.1’ saved [40429483/40429483]\n",
      "\n"
     ]
    }
   ],
   "source": [
    "!wget -P ../input https://docs.aws.amazon.com/forecast/latest/dg/samples/electricityusagedata.zip"
   ]
  },
  {
   "cell_type": "markdown",
   "metadata": {},
   "source": [
    "## 1.データセット読み込み"
   ]
  },
  {
   "cell_type": "code",
   "execution_count": 3,
   "metadata": {},
   "outputs": [],
   "source": [
    "import pandas as pd"
   ]
  },
  {
   "cell_type": "code",
   "execution_count": 4,
   "metadata": {},
   "outputs": [],
   "source": [
    "df = pd.read_csv('../input/electricityusagedata.zip', names=['timestamp','demand','client'])"
   ]
  },
  {
   "cell_type": "code",
   "execution_count": 5,
   "metadata": {},
   "outputs": [
    {
     "name": "stdout",
     "output_type": "stream",
     "text": [
      "(3241200, 3)\n",
      "2014-01-01 01:00:00\n",
      "2015-01-01 00:00:00\n"
     ]
    },
    {
     "data": {
      "text/html": [
       "<div>\n",
       "<style scoped>\n",
       "    .dataframe tbody tr th:only-of-type {\n",
       "        vertical-align: middle;\n",
       "    }\n",
       "\n",
       "    .dataframe tbody tr th {\n",
       "        vertical-align: top;\n",
       "    }\n",
       "\n",
       "    .dataframe thead th {\n",
       "        text-align: right;\n",
       "    }\n",
       "</style>\n",
       "<table border=\"1\" class=\"dataframe\">\n",
       "  <thead>\n",
       "    <tr style=\"text-align: right;\">\n",
       "      <th></th>\n",
       "      <th>timestamp</th>\n",
       "      <th>demand</th>\n",
       "      <th>client</th>\n",
       "    </tr>\n",
       "  </thead>\n",
       "  <tbody>\n",
       "    <tr>\n",
       "      <th>0</th>\n",
       "      <td>2014-01-01 01:00:00</td>\n",
       "      <td>2.538071</td>\n",
       "      <td>client_0</td>\n",
       "    </tr>\n",
       "    <tr>\n",
       "      <th>1</th>\n",
       "      <td>2014-01-01 01:00:00</td>\n",
       "      <td>23.648649</td>\n",
       "      <td>client_1</td>\n",
       "    </tr>\n",
       "    <tr>\n",
       "      <th>2</th>\n",
       "      <td>2014-01-01 01:00:00</td>\n",
       "      <td>0.000000</td>\n",
       "      <td>client_2</td>\n",
       "    </tr>\n",
       "    <tr>\n",
       "      <th>3</th>\n",
       "      <td>2014-01-01 01:00:00</td>\n",
       "      <td>144.817073</td>\n",
       "      <td>client_3</td>\n",
       "    </tr>\n",
       "    <tr>\n",
       "      <th>4</th>\n",
       "      <td>2014-01-01 01:00:00</td>\n",
       "      <td>75.000000</td>\n",
       "      <td>client_4</td>\n",
       "    </tr>\n",
       "  </tbody>\n",
       "</table>\n",
       "</div>"
      ],
      "text/plain": [
       "             timestamp      demand    client\n",
       "0  2014-01-01 01:00:00    2.538071  client_0\n",
       "1  2014-01-01 01:00:00   23.648649  client_1\n",
       "2  2014-01-01 01:00:00    0.000000  client_2\n",
       "3  2014-01-01 01:00:00  144.817073  client_3\n",
       "4  2014-01-01 01:00:00   75.000000  client_4"
      ]
     },
     "execution_count": 5,
     "metadata": {},
     "output_type": "execute_result"
    }
   ],
   "source": [
    "print(df.shape)\n",
    "print(df['timestamp'].min())\n",
    "print(df['timestamp'].max())\n",
    "df.head()"
   ]
  },
  {
   "cell_type": "code",
   "execution_count": 6,
   "metadata": {},
   "outputs": [],
   "source": [
    "df['client'] = df['client'].str.replace('client_','').astype(int)"
   ]
  },
  {
   "cell_type": "code",
   "execution_count": 7,
   "metadata": {},
   "outputs": [
    {
     "data": {
      "text/html": [
       "<div>\n",
       "<style scoped>\n",
       "    .dataframe tbody tr th:only-of-type {\n",
       "        vertical-align: middle;\n",
       "    }\n",
       "\n",
       "    .dataframe tbody tr th {\n",
       "        vertical-align: top;\n",
       "    }\n",
       "\n",
       "    .dataframe thead th {\n",
       "        text-align: right;\n",
       "    }\n",
       "</style>\n",
       "<table border=\"1\" class=\"dataframe\">\n",
       "  <thead>\n",
       "    <tr style=\"text-align: right;\">\n",
       "      <th></th>\n",
       "      <th>timestamp</th>\n",
       "      <th>demand</th>\n",
       "      <th>client</th>\n",
       "    </tr>\n",
       "  </thead>\n",
       "  <tbody>\n",
       "    <tr>\n",
       "      <th>0</th>\n",
       "      <td>2014-01-01 01:00:00</td>\n",
       "      <td>2.538071</td>\n",
       "      <td>0</td>\n",
       "    </tr>\n",
       "    <tr>\n",
       "      <th>1</th>\n",
       "      <td>2014-01-01 01:00:00</td>\n",
       "      <td>23.648649</td>\n",
       "      <td>1</td>\n",
       "    </tr>\n",
       "    <tr>\n",
       "      <th>2</th>\n",
       "      <td>2014-01-01 01:00:00</td>\n",
       "      <td>0.000000</td>\n",
       "      <td>2</td>\n",
       "    </tr>\n",
       "    <tr>\n",
       "      <th>3</th>\n",
       "      <td>2014-01-01 01:00:00</td>\n",
       "      <td>144.817073</td>\n",
       "      <td>3</td>\n",
       "    </tr>\n",
       "    <tr>\n",
       "      <th>4</th>\n",
       "      <td>2014-01-01 01:00:00</td>\n",
       "      <td>75.000000</td>\n",
       "      <td>4</td>\n",
       "    </tr>\n",
       "  </tbody>\n",
       "</table>\n",
       "</div>"
      ],
      "text/plain": [
       "             timestamp      demand  client\n",
       "0  2014-01-01 01:00:00    2.538071       0\n",
       "1  2014-01-01 01:00:00   23.648649       1\n",
       "2  2014-01-01 01:00:00    0.000000       2\n",
       "3  2014-01-01 01:00:00  144.817073       3\n",
       "4  2014-01-01 01:00:00   75.000000       4"
      ]
     },
     "execution_count": 7,
     "metadata": {},
     "output_type": "execute_result"
    }
   ],
   "source": [
    "df.head()"
   ]
  },
  {
   "cell_type": "markdown",
   "metadata": {},
   "source": [
    "## 2.特徴量生成"
   ]
  },
  {
   "cell_type": "markdown",
   "metadata": {},
   "source": [
    "### 1)時刻型に変換し、特徴量（時間帯、曜日）を抽出"
   ]
  },
  {
   "cell_type": "code",
   "execution_count": 8,
   "metadata": {},
   "outputs": [],
   "source": [
    "df['timestamp'] = pd.to_datetime(df['timestamp'], format='%Y-%m-%d %H:%M:%S')"
   ]
  },
  {
   "cell_type": "code",
   "execution_count": 9,
   "metadata": {},
   "outputs": [],
   "source": [
    "df['num_of_week'] = df['timestamp'].dt.dayofweek"
   ]
  },
  {
   "cell_type": "code",
   "execution_count": 10,
   "metadata": {},
   "outputs": [],
   "source": [
    "df['hour'] = df['timestamp'].dt.hour"
   ]
  },
  {
   "cell_type": "markdown",
   "metadata": {},
   "source": [
    "### 2)clientごとに時間差の値を特徴量にもつ（36hより前である必要がある）"
   ]
  },
  {
   "cell_type": "code",
   "execution_count": 11,
   "metadata": {},
   "outputs": [],
   "source": [
    "df[\"before_36h\"] = df.groupby(['client']).shift(36)['demand'].reset_index()['demand']\n",
    "df[\"before_37h\"] = df.groupby(['client']).shift(37)['demand'].reset_index()['demand']\n",
    "df[\"before_38h\"] = df.groupby(['client']).shift(38)['demand'].reset_index()['demand']\n",
    "df[\"before_48h\"] = df.groupby(['client']).shift(48)['demand'].reset_index()['demand']\n",
    "df[\"before_72h\"] = df.groupby(['client']).shift(72)['demand'].reset_index()['demand']\n",
    "df[\"before_96h\"] = df.groupby(['client']).shift(96)['demand'].reset_index()['demand']"
   ]
  },
  {
   "cell_type": "markdown",
   "metadata": {},
   "source": [
    "### 3)clientごとに期間で集約する"
   ]
  },
  {
   "cell_type": "code",
   "execution_count": 12,
   "metadata": {},
   "outputs": [],
   "source": [
    "df = df.sort_values([\"client\",\"timestamp\"]).reset_index()\n",
    "df['mean_24h'] = df.groupby(['client']).rolling(24)['demand'].mean().reset_index()['demand']\n",
    "df['var_24h'] = df.groupby(['client']).rolling(24)['demand'].var().reset_index()['demand']"
   ]
  },
  {
   "cell_type": "code",
   "execution_count": 13,
   "metadata": {},
   "outputs": [],
   "source": [
    "#df = df.sort_values([\"client\",\"timestamp\"]).reset_index()\n",
    "#df['mean_24h_before_36h'] = df.groupby(['client']).rolling(2)['demand'].mean().reset_index()['demand']"
   ]
  },
  {
   "cell_type": "code",
   "execution_count": 14,
   "metadata": {},
   "outputs": [],
   "source": [
    "df[\"mean_24h_before_36h\"] = df.groupby(['client']).shift(36)['mean_24h'].reset_index()['mean_24h']\n",
    "df[\"var_24h_before_36h\"] = df.groupby(['client']).shift(36)['var_24h'].reset_index()['var_24h']"
   ]
  },
  {
   "cell_type": "code",
   "execution_count": 15,
   "metadata": {},
   "outputs": [
    {
     "data": {
      "text/html": [
       "<div>\n",
       "<style scoped>\n",
       "    .dataframe tbody tr th:only-of-type {\n",
       "        vertical-align: middle;\n",
       "    }\n",
       "\n",
       "    .dataframe tbody tr th {\n",
       "        vertical-align: top;\n",
       "    }\n",
       "\n",
       "    .dataframe thead th {\n",
       "        text-align: right;\n",
       "    }\n",
       "</style>\n",
       "<table border=\"1\" class=\"dataframe\">\n",
       "  <thead>\n",
       "    <tr style=\"text-align: right;\">\n",
       "      <th></th>\n",
       "      <th>index</th>\n",
       "      <th>timestamp</th>\n",
       "      <th>demand</th>\n",
       "      <th>client</th>\n",
       "      <th>num_of_week</th>\n",
       "      <th>hour</th>\n",
       "      <th>before_36h</th>\n",
       "      <th>before_37h</th>\n",
       "      <th>before_38h</th>\n",
       "      <th>before_48h</th>\n",
       "      <th>before_72h</th>\n",
       "      <th>before_96h</th>\n",
       "      <th>mean_24h</th>\n",
       "      <th>var_24h</th>\n",
       "      <th>mean_24h_before_36h</th>\n",
       "      <th>var_24h_before_36h</th>\n",
       "    </tr>\n",
       "  </thead>\n",
       "  <tbody>\n",
       "    <tr>\n",
       "      <th>183960</th>\n",
       "      <td>21</td>\n",
       "      <td>2014-01-01 01:00:00</td>\n",
       "      <td>29.887920</td>\n",
       "      <td>21</td>\n",
       "      <td>2</td>\n",
       "      <td>1</td>\n",
       "      <td>NaN</td>\n",
       "      <td>NaN</td>\n",
       "      <td>NaN</td>\n",
       "      <td>NaN</td>\n",
       "      <td>NaN</td>\n",
       "      <td>NaN</td>\n",
       "      <td>NaN</td>\n",
       "      <td>NaN</td>\n",
       "      <td>NaN</td>\n",
       "      <td>NaN</td>\n",
       "    </tr>\n",
       "    <tr>\n",
       "      <th>183961</th>\n",
       "      <td>391</td>\n",
       "      <td>2014-01-01 02:00:00</td>\n",
       "      <td>28.953923</td>\n",
       "      <td>21</td>\n",
       "      <td>2</td>\n",
       "      <td>2</td>\n",
       "      <td>NaN</td>\n",
       "      <td>NaN</td>\n",
       "      <td>NaN</td>\n",
       "      <td>NaN</td>\n",
       "      <td>NaN</td>\n",
       "      <td>NaN</td>\n",
       "      <td>NaN</td>\n",
       "      <td>NaN</td>\n",
       "      <td>NaN</td>\n",
       "      <td>NaN</td>\n",
       "    </tr>\n",
       "    <tr>\n",
       "      <th>183962</th>\n",
       "      <td>761</td>\n",
       "      <td>2014-01-01 03:00:00</td>\n",
       "      <td>28.953923</td>\n",
       "      <td>21</td>\n",
       "      <td>2</td>\n",
       "      <td>3</td>\n",
       "      <td>NaN</td>\n",
       "      <td>NaN</td>\n",
       "      <td>NaN</td>\n",
       "      <td>NaN</td>\n",
       "      <td>NaN</td>\n",
       "      <td>NaN</td>\n",
       "      <td>NaN</td>\n",
       "      <td>NaN</td>\n",
       "      <td>NaN</td>\n",
       "      <td>NaN</td>\n",
       "    </tr>\n",
       "    <tr>\n",
       "      <th>183963</th>\n",
       "      <td>1131</td>\n",
       "      <td>2014-01-01 04:00:00</td>\n",
       "      <td>25.373599</td>\n",
       "      <td>21</td>\n",
       "      <td>2</td>\n",
       "      <td>4</td>\n",
       "      <td>NaN</td>\n",
       "      <td>NaN</td>\n",
       "      <td>NaN</td>\n",
       "      <td>NaN</td>\n",
       "      <td>NaN</td>\n",
       "      <td>NaN</td>\n",
       "      <td>NaN</td>\n",
       "      <td>NaN</td>\n",
       "      <td>NaN</td>\n",
       "      <td>NaN</td>\n",
       "    </tr>\n",
       "    <tr>\n",
       "      <th>183964</th>\n",
       "      <td>1501</td>\n",
       "      <td>2014-01-01 05:00:00</td>\n",
       "      <td>23.661270</td>\n",
       "      <td>21</td>\n",
       "      <td>2</td>\n",
       "      <td>5</td>\n",
       "      <td>NaN</td>\n",
       "      <td>NaN</td>\n",
       "      <td>NaN</td>\n",
       "      <td>NaN</td>\n",
       "      <td>NaN</td>\n",
       "      <td>NaN</td>\n",
       "      <td>NaN</td>\n",
       "      <td>NaN</td>\n",
       "      <td>NaN</td>\n",
       "      <td>NaN</td>\n",
       "    </tr>\n",
       "  </tbody>\n",
       "</table>\n",
       "</div>"
      ],
      "text/plain": [
       "        index           timestamp     demand  client  num_of_week  hour  \\\n",
       "183960     21 2014-01-01 01:00:00  29.887920      21            2     1   \n",
       "183961    391 2014-01-01 02:00:00  28.953923      21            2     2   \n",
       "183962    761 2014-01-01 03:00:00  28.953923      21            2     3   \n",
       "183963   1131 2014-01-01 04:00:00  25.373599      21            2     4   \n",
       "183964   1501 2014-01-01 05:00:00  23.661270      21            2     5   \n",
       "\n",
       "        before_36h  before_37h  before_38h  before_48h  before_72h  \\\n",
       "183960         NaN         NaN         NaN         NaN         NaN   \n",
       "183961         NaN         NaN         NaN         NaN         NaN   \n",
       "183962         NaN         NaN         NaN         NaN         NaN   \n",
       "183963         NaN         NaN         NaN         NaN         NaN   \n",
       "183964         NaN         NaN         NaN         NaN         NaN   \n",
       "\n",
       "        before_96h  mean_24h  var_24h  mean_24h_before_36h  var_24h_before_36h  \n",
       "183960         NaN       NaN      NaN                  NaN                 NaN  \n",
       "183961         NaN       NaN      NaN                  NaN                 NaN  \n",
       "183962         NaN       NaN      NaN                  NaN                 NaN  \n",
       "183963         NaN       NaN      NaN                  NaN                 NaN  \n",
       "183964         NaN       NaN      NaN                  NaN                 NaN  "
      ]
     },
     "execution_count": 15,
     "metadata": {},
     "output_type": "execute_result"
    }
   ],
   "source": [
    "df[df.client==21].head()"
   ]
  },
  {
   "cell_type": "code",
   "execution_count": 16,
   "metadata": {},
   "outputs": [
    {
     "data": {
      "text/html": [
       "<div>\n",
       "<style scoped>\n",
       "    .dataframe tbody tr th:only-of-type {\n",
       "        vertical-align: middle;\n",
       "    }\n",
       "\n",
       "    .dataframe tbody tr th {\n",
       "        vertical-align: top;\n",
       "    }\n",
       "\n",
       "    .dataframe thead th {\n",
       "        text-align: right;\n",
       "    }\n",
       "</style>\n",
       "<table border=\"1\" class=\"dataframe\">\n",
       "  <thead>\n",
       "    <tr style=\"text-align: right;\">\n",
       "      <th></th>\n",
       "      <th>index</th>\n",
       "      <th>timestamp</th>\n",
       "      <th>demand</th>\n",
       "      <th>client</th>\n",
       "      <th>num_of_week</th>\n",
       "      <th>hour</th>\n",
       "      <th>before_36h</th>\n",
       "      <th>before_37h</th>\n",
       "      <th>before_38h</th>\n",
       "      <th>before_48h</th>\n",
       "      <th>before_72h</th>\n",
       "      <th>before_96h</th>\n",
       "      <th>mean_24h</th>\n",
       "      <th>var_24h</th>\n",
       "      <th>mean_24h_before_36h</th>\n",
       "      <th>var_24h_before_36h</th>\n",
       "    </tr>\n",
       "  </thead>\n",
       "  <tbody>\n",
       "    <tr>\n",
       "      <th>192715</th>\n",
       "      <td>3239371</td>\n",
       "      <td>2014-12-31 20:00:00</td>\n",
       "      <td>43.586550</td>\n",
       "      <td>21</td>\n",
       "      <td>2</td>\n",
       "      <td>20</td>\n",
       "      <td>28.798257</td>\n",
       "      <td>25.062267</td>\n",
       "      <td>25.996264</td>\n",
       "      <td>53.237858</td>\n",
       "      <td>42.029888</td>\n",
       "      <td>45.143213</td>\n",
       "      <td>25.289280</td>\n",
       "      <td>47.597890</td>\n",
       "      <td>36.795610</td>\n",
       "      <td>94.835153</td>\n",
       "    </tr>\n",
       "    <tr>\n",
       "      <th>192716</th>\n",
       "      <td>3239741</td>\n",
       "      <td>2014-12-31 21:00:00</td>\n",
       "      <td>40.317559</td>\n",
       "      <td>21</td>\n",
       "      <td>2</td>\n",
       "      <td>21</td>\n",
       "      <td>45.143213</td>\n",
       "      <td>28.798257</td>\n",
       "      <td>25.062267</td>\n",
       "      <td>47.478207</td>\n",
       "      <td>42.808219</td>\n",
       "      <td>40.940224</td>\n",
       "      <td>25.451432</td>\n",
       "      <td>51.997619</td>\n",
       "      <td>37.042082</td>\n",
       "      <td>97.544219</td>\n",
       "    </tr>\n",
       "    <tr>\n",
       "      <th>192717</th>\n",
       "      <td>3240111</td>\n",
       "      <td>2014-12-31 22:00:00</td>\n",
       "      <td>36.581569</td>\n",
       "      <td>21</td>\n",
       "      <td>2</td>\n",
       "      <td>22</td>\n",
       "      <td>51.992528</td>\n",
       "      <td>45.143213</td>\n",
       "      <td>28.798257</td>\n",
       "      <td>36.581569</td>\n",
       "      <td>41.718555</td>\n",
       "      <td>36.737235</td>\n",
       "      <td>25.658987</td>\n",
       "      <td>55.694928</td>\n",
       "      <td>37.113429</td>\n",
       "      <td>99.637520</td>\n",
       "    </tr>\n",
       "    <tr>\n",
       "      <th>192718</th>\n",
       "      <td>3240481</td>\n",
       "      <td>2014-12-31 23:00:00</td>\n",
       "      <td>32.222914</td>\n",
       "      <td>21</td>\n",
       "      <td>2</td>\n",
       "      <td>23</td>\n",
       "      <td>52.148194</td>\n",
       "      <td>51.992528</td>\n",
       "      <td>45.143213</td>\n",
       "      <td>32.222914</td>\n",
       "      <td>33.156912</td>\n",
       "      <td>36.892902</td>\n",
       "      <td>25.886000</td>\n",
       "      <td>57.460307</td>\n",
       "      <td>37.450706</td>\n",
       "      <td>107.252683</td>\n",
       "    </tr>\n",
       "    <tr>\n",
       "      <th>192719</th>\n",
       "      <td>3240851</td>\n",
       "      <td>2015-01-01 00:00:00</td>\n",
       "      <td>33.935243</td>\n",
       "      <td>21</td>\n",
       "      <td>3</td>\n",
       "      <td>0</td>\n",
       "      <td>45.765878</td>\n",
       "      <td>52.148194</td>\n",
       "      <td>51.992528</td>\n",
       "      <td>33.623910</td>\n",
       "      <td>30.666252</td>\n",
       "      <td>33.468244</td>\n",
       "      <td>26.184361</td>\n",
       "      <td>60.150056</td>\n",
       "      <td>37.353414</td>\n",
       "      <td>105.317417</td>\n",
       "    </tr>\n",
       "  </tbody>\n",
       "</table>\n",
       "</div>"
      ],
      "text/plain": [
       "          index           timestamp     demand  client  num_of_week  hour  \\\n",
       "192715  3239371 2014-12-31 20:00:00  43.586550      21            2    20   \n",
       "192716  3239741 2014-12-31 21:00:00  40.317559      21            2    21   \n",
       "192717  3240111 2014-12-31 22:00:00  36.581569      21            2    22   \n",
       "192718  3240481 2014-12-31 23:00:00  32.222914      21            2    23   \n",
       "192719  3240851 2015-01-01 00:00:00  33.935243      21            3     0   \n",
       "\n",
       "        before_36h  before_37h  before_38h  before_48h  before_72h  \\\n",
       "192715   28.798257   25.062267   25.996264   53.237858   42.029888   \n",
       "192716   45.143213   28.798257   25.062267   47.478207   42.808219   \n",
       "192717   51.992528   45.143213   28.798257   36.581569   41.718555   \n",
       "192718   52.148194   51.992528   45.143213   32.222914   33.156912   \n",
       "192719   45.765878   52.148194   51.992528   33.623910   30.666252   \n",
       "\n",
       "        before_96h   mean_24h    var_24h  mean_24h_before_36h  \\\n",
       "192715   45.143213  25.289280  47.597890            36.795610   \n",
       "192716   40.940224  25.451432  51.997619            37.042082   \n",
       "192717   36.737235  25.658987  55.694928            37.113429   \n",
       "192718   36.892902  25.886000  57.460307            37.450706   \n",
       "192719   33.468244  26.184361  60.150056            37.353414   \n",
       "\n",
       "        var_24h_before_36h  \n",
       "192715           94.835153  \n",
       "192716           97.544219  \n",
       "192717           99.637520  \n",
       "192718          107.252683  \n",
       "192719          105.317417  "
      ]
     },
     "execution_count": 16,
     "metadata": {},
     "output_type": "execute_result"
    }
   ],
   "source": [
    "df[df.client==21].tail()"
   ]
  },
  {
   "cell_type": "code",
   "execution_count": 17,
   "metadata": {},
   "outputs": [],
   "source": [
    "feature_col = [\n",
    "    'client',\n",
    "    'num_of_week',\n",
    "    'hour',\n",
    "    'before_36h',\n",
    "    'before_37h',\n",
    "    'before_38h',\n",
    "    'before_48h',\n",
    "    'before_72h',\n",
    "    'before_96h',\n",
    "    'mean_24h_before_36h',\n",
    "    'var_24h_before_36h'\n",
    "]"
   ]
  },
  {
   "cell_type": "markdown",
   "metadata": {},
   "source": []
  },
  {
   "cell_type": "markdown",
   "metadata": {},
   "source": [
    "## 3.データ分割\n",
    "all:2014-01-01 01:00:00 〜 2015-01-01 00:00:00  \n",
    "train:2014-01-01 01:00:00 〜 2014-12-29 00:00:00  \n",
    "valid:2014-12-29 01:00:00 〜 2014-12-30 12:00:00(36h)  \n",
    "test:2014-12-30 13:00:00 〜 2015-01-01 00:00:00(36h)  "
   ]
  },
  {
   "cell_type": "code",
   "execution_count": 18,
   "metadata": {},
   "outputs": [],
   "source": [
    "df_train = df[df.timestamp <= '2014-12-29 00:00:00']"
   ]
  },
  {
   "cell_type": "code",
   "execution_count": 19,
   "metadata": {},
   "outputs": [],
   "source": [
    "df_valid = df[(df.timestamp >= '2014-12-29 01:00:00') & (df.timestamp <= '2014-12-30 12:00:00')]"
   ]
  },
  {
   "cell_type": "code",
   "execution_count": 20,
   "metadata": {},
   "outputs": [],
   "source": [
    "df_test = df[df.timestamp >= '2014-12-30 13:00:00']"
   ]
  },
  {
   "cell_type": "code",
   "execution_count": 21,
   "metadata": {},
   "outputs": [
    {
     "data": {
      "text/plain": [
       "(8688, 16)"
      ]
     },
     "execution_count": 21,
     "metadata": {},
     "output_type": "execute_result"
    }
   ],
   "source": [
    "df_train[df_train.client==21].shape"
   ]
  },
  {
   "cell_type": "code",
   "execution_count": 22,
   "metadata": {},
   "outputs": [
    {
     "data": {
      "text/plain": [
       "(36, 16)"
      ]
     },
     "execution_count": 22,
     "metadata": {},
     "output_type": "execute_result"
    }
   ],
   "source": [
    "df_valid[df_valid.client==21].shape"
   ]
  },
  {
   "cell_type": "code",
   "execution_count": 23,
   "metadata": {},
   "outputs": [
    {
     "data": {
      "text/plain": [
       "(36, 16)"
      ]
     },
     "execution_count": 23,
     "metadata": {},
     "output_type": "execute_result"
    }
   ],
   "source": [
    "df_test[df_test.client==21].shape"
   ]
  },
  {
   "cell_type": "code",
   "execution_count": 24,
   "metadata": {},
   "outputs": [],
   "source": [
    "tr_x = df_train[feature_col]\n",
    "tr_y = df_train['demand']"
   ]
  },
  {
   "cell_type": "code",
   "execution_count": 25,
   "metadata": {},
   "outputs": [],
   "source": [
    "va_x = df_valid[feature_col]\n",
    "va_y = df_valid['demand']"
   ]
  },
  {
   "cell_type": "code",
   "execution_count": 26,
   "metadata": {},
   "outputs": [],
   "source": [
    "test_x = df_test[feature_col]\n",
    "test_y = df_test[['timestamp','client','demand']]"
   ]
  },
  {
   "cell_type": "markdown",
   "metadata": {},
   "source": [
    "# XGBoost"
   ]
  },
  {
   "cell_type": "code",
   "execution_count": 31,
   "metadata": {},
   "outputs": [
    {
     "name": "stdout",
     "output_type": "stream",
     "text": [
      "Collecting xgboost\n",
      "  Downloading xgboost-1.4.2-py3-none-manylinux2010_x86_64.whl (166.7 MB)\n",
      "\u001b[K     |████████████████████████████████| 166.7 MB 6.3 kB/s  eta 0:00:01\n",
      "\u001b[?25hRequirement already satisfied: scipy in /home/ec2-user/anaconda3/envs/python3/lib/python3.6/site-packages (from xgboost) (1.5.3)\n",
      "Requirement already satisfied: numpy in /home/ec2-user/anaconda3/envs/python3/lib/python3.6/site-packages (from xgboost) (1.19.5)\n",
      "Installing collected packages: xgboost\n",
      "Successfully installed xgboost-1.4.2\n"
     ]
    }
   ],
   "source": [
    "!pip install xgboost"
   ]
  },
  {
   "cell_type": "code",
   "execution_count": 32,
   "metadata": {},
   "outputs": [],
   "source": [
    "import xgboost as xgb"
   ]
  },
  {
   "cell_type": "code",
   "execution_count": 33,
   "metadata": {},
   "outputs": [],
   "source": [
    "dtrain = xgb.DMatrix(tr_x, label=tr_y)\n",
    "dvalid = xgb.DMatrix(va_x, label=va_y)\n",
    "dtest = xgb.DMatrix(test_x)"
   ]
  },
  {
   "cell_type": "markdown",
   "metadata": {},
   "source": [
    "## 4.モデル学習\n",
    "誤差はRMSEを用いる\n",
    "\n",
    "https://docs.aws.amazon.com/ja_jp/forecast/latest/dg/metrics.html"
   ]
  },
  {
   "cell_type": "code",
   "execution_count": 34,
   "metadata": {},
   "outputs": [],
   "source": [
    "import xgboost as xgb"
   ]
  },
  {
   "cell_type": "code",
   "execution_count": 35,
   "metadata": {},
   "outputs": [],
   "source": [
    "from sklearn.metrics import mean_squared_error"
   ]
  },
  {
   "cell_type": "code",
   "execution_count": 36,
   "metadata": {},
   "outputs": [],
   "source": [
    "#fit by best params\n",
    "regressor = xgb.XGBRegressor(n_estimators=50)"
   ]
  },
  {
   "cell_type": "code",
   "execution_count": 37,
   "metadata": {},
   "outputs": [
    {
     "name": "stdout",
     "output_type": "stream",
     "text": [
      "[0]\tvalidation_0-rmse:1692.89270\n",
      "[1]\tvalidation_0-rmse:1249.69665\n",
      "[2]\tvalidation_0-rmse:955.56213\n",
      "[3]\tvalidation_0-rmse:751.86902\n",
      "[4]\tvalidation_0-rmse:629.17120\n",
      "[5]\tvalidation_0-rmse:536.28491\n",
      "[6]\tvalidation_0-rmse:473.82040\n",
      "[7]\tvalidation_0-rmse:438.41156\n",
      "[8]\tvalidation_0-rmse:406.06827\n",
      "[9]\tvalidation_0-rmse:393.50272\n",
      "[10]\tvalidation_0-rmse:380.91464\n",
      "[11]\tvalidation_0-rmse:373.27734\n",
      "[12]\tvalidation_0-rmse:367.40170\n",
      "[13]\tvalidation_0-rmse:361.12176\n",
      "[14]\tvalidation_0-rmse:360.40811\n",
      "[15]\tvalidation_0-rmse:358.21576\n",
      "[16]\tvalidation_0-rmse:357.26431\n",
      "[17]\tvalidation_0-rmse:357.21787\n",
      "[18]\tvalidation_0-rmse:356.47800\n",
      "[19]\tvalidation_0-rmse:356.45084\n",
      "[20]\tvalidation_0-rmse:355.84372\n",
      "[21]\tvalidation_0-rmse:355.83597\n",
      "[22]\tvalidation_0-rmse:355.82892\n",
      "[23]\tvalidation_0-rmse:357.84653\n",
      "[24]\tvalidation_0-rmse:357.05560\n",
      "[25]\tvalidation_0-rmse:357.05273\n",
      "[26]\tvalidation_0-rmse:357.05133\n",
      "[27]\tvalidation_0-rmse:357.13977\n",
      "[28]\tvalidation_0-rmse:357.14246\n",
      "[29]\tvalidation_0-rmse:357.14414\n",
      "[30]\tvalidation_0-rmse:357.14328\n",
      "[31]\tvalidation_0-rmse:357.14517\n",
      "[32]\tvalidation_0-rmse:357.13022\n",
      "[33]\tvalidation_0-rmse:357.12988\n",
      "[34]\tvalidation_0-rmse:351.99371\n",
      "[35]\tvalidation_0-rmse:350.45209\n",
      "[36]\tvalidation_0-rmse:350.56818\n",
      "[37]\tvalidation_0-rmse:350.39697\n",
      "[38]\tvalidation_0-rmse:351.51736\n",
      "[39]\tvalidation_0-rmse:351.51849\n",
      "[40]\tvalidation_0-rmse:351.51855\n",
      "[41]\tvalidation_0-rmse:351.51849\n",
      "[42]\tvalidation_0-rmse:348.38617\n",
      "[43]\tvalidation_0-rmse:348.38550\n",
      "[44]\tvalidation_0-rmse:346.59546\n",
      "[45]\tvalidation_0-rmse:347.39572\n",
      "[46]\tvalidation_0-rmse:347.39535\n",
      "[47]\tvalidation_0-rmse:347.39511\n",
      "[48]\tvalidation_0-rmse:347.39514\n",
      "[49]\tvalidation_0-rmse:347.27411\n"
     ]
    },
    {
     "data": {
      "text/plain": [
       "XGBRegressor(base_score=0.5, booster='gbtree', colsample_bylevel=1,\n",
       "             colsample_bynode=1, colsample_bytree=1, gamma=0, gpu_id=-1,\n",
       "             importance_type='gain', interaction_constraints='',\n",
       "             learning_rate=0.300000012, max_delta_step=0, max_depth=6,\n",
       "             min_child_weight=1, missing=nan, monotone_constraints='()',\n",
       "             n_estimators=50, n_jobs=2, num_parallel_tree=1, random_state=0,\n",
       "             reg_alpha=0, reg_lambda=1, scale_pos_weight=1, subsample=1,\n",
       "             tree_method='exact', validate_parameters=1, verbosity=None)"
      ]
     },
     "execution_count": 37,
     "metadata": {},
     "output_type": "execute_result"
    }
   ],
   "source": [
    "regressor.fit(tr_x, tr_y, eval_metric=\"rmse\", eval_set=[(va_x, va_y)])"
   ]
  },
  {
   "cell_type": "markdown",
   "metadata": {},
   "source": [
    "## 5.モデル評価"
   ]
  },
  {
   "cell_type": "markdown",
   "metadata": {},
   "source": [
    "### testデータでのRMSE"
   ]
  },
  {
   "cell_type": "code",
   "execution_count": 38,
   "metadata": {},
   "outputs": [],
   "source": [
    "import numpy as np\n",
    "from sklearn.metrics import mean_squared_error"
   ]
  },
  {
   "cell_type": "code",
   "execution_count": 39,
   "metadata": {},
   "outputs": [
    {
     "data": {
      "text/html": [
       "<div>\n",
       "<style scoped>\n",
       "    .dataframe tbody tr th:only-of-type {\n",
       "        vertical-align: middle;\n",
       "    }\n",
       "\n",
       "    .dataframe tbody tr th {\n",
       "        vertical-align: top;\n",
       "    }\n",
       "\n",
       "    .dataframe thead th {\n",
       "        text-align: right;\n",
       "    }\n",
       "</style>\n",
       "<table border=\"1\" class=\"dataframe\">\n",
       "  <thead>\n",
       "    <tr style=\"text-align: right;\">\n",
       "      <th></th>\n",
       "      <th>timestamp</th>\n",
       "      <th>client</th>\n",
       "      <th>demand</th>\n",
       "    </tr>\n",
       "  </thead>\n",
       "  <tbody>\n",
       "    <tr>\n",
       "      <th>8724</th>\n",
       "      <td>2014-12-30 13:00:00</td>\n",
       "      <td>0</td>\n",
       "      <td>0.951777</td>\n",
       "    </tr>\n",
       "    <tr>\n",
       "      <th>8725</th>\n",
       "      <td>2014-12-30 14:00:00</td>\n",
       "      <td>0</td>\n",
       "      <td>1.269036</td>\n",
       "    </tr>\n",
       "    <tr>\n",
       "      <th>8726</th>\n",
       "      <td>2014-12-30 15:00:00</td>\n",
       "      <td>0</td>\n",
       "      <td>0.951777</td>\n",
       "    </tr>\n",
       "    <tr>\n",
       "      <th>8727</th>\n",
       "      <td>2014-12-30 16:00:00</td>\n",
       "      <td>0</td>\n",
       "      <td>4.124365</td>\n",
       "    </tr>\n",
       "    <tr>\n",
       "      <th>8728</th>\n",
       "      <td>2014-12-30 17:00:00</td>\n",
       "      <td>0</td>\n",
       "      <td>3.489848</td>\n",
       "    </tr>\n",
       "    <tr>\n",
       "      <th>...</th>\n",
       "      <td>...</td>\n",
       "      <td>...</td>\n",
       "      <td>...</td>\n",
       "    </tr>\n",
       "    <tr>\n",
       "      <th>3241195</th>\n",
       "      <td>2014-12-31 20:00:00</td>\n",
       "      <td>369</td>\n",
       "      <td>8729.729730</td>\n",
       "    </tr>\n",
       "    <tr>\n",
       "      <th>3241196</th>\n",
       "      <td>2014-12-31 21:00:00</td>\n",
       "      <td>369</td>\n",
       "      <td>8216.216216</td>\n",
       "    </tr>\n",
       "    <tr>\n",
       "      <th>3241197</th>\n",
       "      <td>2014-12-31 22:00:00</td>\n",
       "      <td>369</td>\n",
       "      <td>8297.297297</td>\n",
       "    </tr>\n",
       "    <tr>\n",
       "      <th>3241198</th>\n",
       "      <td>2014-12-31 23:00:00</td>\n",
       "      <td>369</td>\n",
       "      <td>7527.027027</td>\n",
       "    </tr>\n",
       "    <tr>\n",
       "      <th>3241199</th>\n",
       "      <td>2015-01-01 00:00:00</td>\n",
       "      <td>369</td>\n",
       "      <td>6810.810811</td>\n",
       "    </tr>\n",
       "  </tbody>\n",
       "</table>\n",
       "<p>13320 rows × 3 columns</p>\n",
       "</div>"
      ],
      "text/plain": [
       "                  timestamp  client       demand\n",
       "8724    2014-12-30 13:00:00       0     0.951777\n",
       "8725    2014-12-30 14:00:00       0     1.269036\n",
       "8726    2014-12-30 15:00:00       0     0.951777\n",
       "8727    2014-12-30 16:00:00       0     4.124365\n",
       "8728    2014-12-30 17:00:00       0     3.489848\n",
       "...                     ...     ...          ...\n",
       "3241195 2014-12-31 20:00:00     369  8729.729730\n",
       "3241196 2014-12-31 21:00:00     369  8216.216216\n",
       "3241197 2014-12-31 22:00:00     369  8297.297297\n",
       "3241198 2014-12-31 23:00:00     369  7527.027027\n",
       "3241199 2015-01-01 00:00:00     369  6810.810811\n",
       "\n",
       "[13320 rows x 3 columns]"
      ]
     },
     "execution_count": 39,
     "metadata": {},
     "output_type": "execute_result"
    }
   ],
   "source": [
    "test_y"
   ]
  },
  {
   "cell_type": "code",
   "execution_count": 40,
   "metadata": {},
   "outputs": [
    {
     "data": {
      "text/plain": [
       "411.01351378049736"
      ]
     },
     "execution_count": 40,
     "metadata": {},
     "output_type": "execute_result"
    }
   ],
   "source": [
    "### RMSEを出力\n",
    "np.sqrt(mean_squared_error(test_y['demand'], regressor.predict(test_x)))"
   ]
  },
  {
   "cell_type": "markdown",
   "metadata": {},
   "source": [
    "### 重要度の可視化"
   ]
  },
  {
   "cell_type": "code",
   "execution_count": 41,
   "metadata": {},
   "outputs": [
    {
     "data": {
      "text/plain": [
       "<AxesSubplot:title={'center':'Feature importance'}, xlabel='F score', ylabel='Features'>"
      ]
     },
     "execution_count": 41,
     "metadata": {},
     "output_type": "execute_result"
    },
    {
     "data": {
      "image/png": "[encoded data removed]",
      "text/plain": [
       "<Figure size 432x288 with 1 Axes>"
      ]
     },
     "metadata": {
      "needs_background": "light"
     },
     "output_type": "display_data"
    }
   ],
   "source": [
    "xgb.plot_importance(regressor)"
   ]
  },
  {
   "cell_type": "markdown",
   "metadata": {},
   "source": [
    "## 6.推論（予測）\n",
    "https://github.com/dmlc/xgboost/blob/master/demo/guide-python/sklearn_examples.py"
   ]
  },
  {
   "cell_type": "code",
   "execution_count": 42,
   "metadata": {},
   "outputs": [
    {
     "data": {
      "text/plain": [
       "array([1.1317768e+01, 1.1317768e+01, 1.1317768e+01, ..., 1.8498859e+04,\n",
       "       1.8017615e+04, 1.7940875e+04], dtype=float32)"
      ]
     },
     "execution_count": 42,
     "metadata": {},
     "output_type": "execute_result"
    }
   ],
   "source": [
    "regressor.predict(test_x)"
   ]
  },
  {
   "cell_type": "code",
   "execution_count": null,
   "metadata": {},
   "outputs": [],
   "source": []
  },
  {
   "cell_type": "markdown",
   "metadata": {},
   "source": [
    "## 7.推論結果の可視化\n",
    "client_21について  \n",
    "正解データ  \n",
    "Amazon Foreast  \n",
    "xgboost  "
   ]
  },
  {
   "cell_type": "code",
   "execution_count": 43,
   "metadata": {},
   "outputs": [],
   "source": [
    "df_xgb = pd.DataFrame(regressor.predict(test_x[test_x.client==21]), columns=['xgb'])"
   ]
  },
  {
   "cell_type": "code",
   "execution_count": 44,
   "metadata": {},
   "outputs": [
    {
     "data": {
      "text/html": [
       "<div>\n",
       "<style scoped>\n",
       "    .dataframe tbody tr th:only-of-type {\n",
       "        vertical-align: middle;\n",
       "    }\n",
       "\n",
       "    .dataframe tbody tr th {\n",
       "        vertical-align: top;\n",
       "    }\n",
       "\n",
       "    .dataframe thead th {\n",
       "        text-align: right;\n",
       "    }\n",
       "</style>\n",
       "<table border=\"1\" class=\"dataframe\">\n",
       "  <thead>\n",
       "    <tr style=\"text-align: right;\">\n",
       "      <th></th>\n",
       "      <th>xgb</th>\n",
       "    </tr>\n",
       "  </thead>\n",
       "  <tbody>\n",
       "    <tr>\n",
       "      <th>0</th>\n",
       "      <td>31.295288</td>\n",
       "    </tr>\n",
       "    <tr>\n",
       "      <th>1</th>\n",
       "      <td>24.518488</td>\n",
       "    </tr>\n",
       "    <tr>\n",
       "      <th>2</th>\n",
       "      <td>34.730373</td>\n",
       "    </tr>\n",
       "    <tr>\n",
       "      <th>3</th>\n",
       "      <td>34.730373</td>\n",
       "    </tr>\n",
       "    <tr>\n",
       "      <th>4</th>\n",
       "      <td>34.730373</td>\n",
       "    </tr>\n",
       "    <tr>\n",
       "      <th>5</th>\n",
       "      <td>41.507172</td>\n",
       "    </tr>\n",
       "    <tr>\n",
       "      <th>6</th>\n",
       "      <td>51.620995</td>\n",
       "    </tr>\n",
       "    <tr>\n",
       "      <th>7</th>\n",
       "      <td>51.620995</td>\n",
       "    </tr>\n",
       "    <tr>\n",
       "      <th>8</th>\n",
       "      <td>47.542473</td>\n",
       "    </tr>\n",
       "    <tr>\n",
       "      <th>9</th>\n",
       "      <td>47.542473</td>\n",
       "    </tr>\n",
       "    <tr>\n",
       "      <th>10</th>\n",
       "      <td>33.848068</td>\n",
       "    </tr>\n",
       "    <tr>\n",
       "      <th>11</th>\n",
       "      <td>30.558414</td>\n",
       "    </tr>\n",
       "    <tr>\n",
       "      <th>12</th>\n",
       "      <td>29.944046</td>\n",
       "    </tr>\n",
       "    <tr>\n",
       "      <th>13</th>\n",
       "      <td>29.944046</td>\n",
       "    </tr>\n",
       "    <tr>\n",
       "      <th>14</th>\n",
       "      <td>30.558414</td>\n",
       "    </tr>\n",
       "    <tr>\n",
       "      <th>15</th>\n",
       "      <td>30.558414</td>\n",
       "    </tr>\n",
       "    <tr>\n",
       "      <th>16</th>\n",
       "      <td>30.558414</td>\n",
       "    </tr>\n",
       "    <tr>\n",
       "      <th>17</th>\n",
       "      <td>30.558414</td>\n",
       "    </tr>\n",
       "    <tr>\n",
       "      <th>18</th>\n",
       "      <td>23.781612</td>\n",
       "    </tr>\n",
       "    <tr>\n",
       "      <th>19</th>\n",
       "      <td>30.558414</td>\n",
       "    </tr>\n",
       "    <tr>\n",
       "      <th>20</th>\n",
       "      <td>37.416157</td>\n",
       "    </tr>\n",
       "    <tr>\n",
       "      <th>21</th>\n",
       "      <td>40.898678</td>\n",
       "    </tr>\n",
       "    <tr>\n",
       "      <th>22</th>\n",
       "      <td>47.542473</td>\n",
       "    </tr>\n",
       "    <tr>\n",
       "      <th>23</th>\n",
       "      <td>47.542473</td>\n",
       "    </tr>\n",
       "    <tr>\n",
       "      <th>24</th>\n",
       "      <td>24.518488</td>\n",
       "    </tr>\n",
       "    <tr>\n",
       "      <th>25</th>\n",
       "      <td>31.295288</td>\n",
       "    </tr>\n",
       "    <tr>\n",
       "      <th>26</th>\n",
       "      <td>44.989693</td>\n",
       "    </tr>\n",
       "    <tr>\n",
       "      <th>27</th>\n",
       "      <td>40.284309</td>\n",
       "    </tr>\n",
       "    <tr>\n",
       "      <th>28</th>\n",
       "      <td>34.777813</td>\n",
       "    </tr>\n",
       "    <tr>\n",
       "      <th>29</th>\n",
       "      <td>34.777813</td>\n",
       "    </tr>\n",
       "    <tr>\n",
       "      <th>30</th>\n",
       "      <td>44.989693</td>\n",
       "    </tr>\n",
       "    <tr>\n",
       "      <th>31</th>\n",
       "      <td>44.989693</td>\n",
       "    </tr>\n",
       "    <tr>\n",
       "      <th>32</th>\n",
       "      <td>47.542473</td>\n",
       "    </tr>\n",
       "    <tr>\n",
       "      <th>33</th>\n",
       "      <td>44.059952</td>\n",
       "    </tr>\n",
       "    <tr>\n",
       "      <th>34</th>\n",
       "      <td>44.059952</td>\n",
       "    </tr>\n",
       "    <tr>\n",
       "      <th>35</th>\n",
       "      <td>36.064915</td>\n",
       "    </tr>\n",
       "  </tbody>\n",
       "</table>\n",
       "</div>"
      ],
      "text/plain": [
       "          xgb\n",
       "0   31.295288\n",
       "1   24.518488\n",
       "2   34.730373\n",
       "3   34.730373\n",
       "4   34.730373\n",
       "5   41.507172\n",
       "6   51.620995\n",
       "7   51.620995\n",
       "8   47.542473\n",
       "9   47.542473\n",
       "10  33.848068\n",
       "11  30.558414\n",
       "12  29.944046\n",
       "13  29.944046\n",
       "14  30.558414\n",
       "15  30.558414\n",
       "16  30.558414\n",
       "17  30.558414\n",
       "18  23.781612\n",
       "19  30.558414\n",
       "20  37.416157\n",
       "21  40.898678\n",
       "22  47.542473\n",
       "23  47.542473\n",
       "24  24.518488\n",
       "25  31.295288\n",
       "26  44.989693\n",
       "27  40.284309\n",
       "28  34.777813\n",
       "29  34.777813\n",
       "30  44.989693\n",
       "31  44.989693\n",
       "32  47.542473\n",
       "33  44.059952\n",
       "34  44.059952\n",
       "35  36.064915"
      ]
     },
     "execution_count": 44,
     "metadata": {},
     "output_type": "execute_result"
    }
   ],
   "source": [
    "df_xgb"
   ]
  },
  {
   "cell_type": "code",
   "execution_count": 45,
   "metadata": {},
   "outputs": [],
   "source": [
    "df_y = pd.DataFrame(test_y[test_y.client==21]['demand'], columns=['demand']).reset_index(drop=True)"
   ]
  },
  {
   "cell_type": "code",
   "execution_count": 46,
   "metadata": {},
   "outputs": [
    {
     "data": {
      "text/html": [
       "<div>\n",
       "<style scoped>\n",
       "    .dataframe tbody tr th:only-of-type {\n",
       "        vertical-align: middle;\n",
       "    }\n",
       "\n",
       "    .dataframe tbody tr th {\n",
       "        vertical-align: top;\n",
       "    }\n",
       "\n",
       "    .dataframe thead th {\n",
       "        text-align: right;\n",
       "    }\n",
       "</style>\n",
       "<table border=\"1\" class=\"dataframe\">\n",
       "  <thead>\n",
       "    <tr style=\"text-align: right;\">\n",
       "      <th></th>\n",
       "      <th>demand</th>\n",
       "    </tr>\n",
       "  </thead>\n",
       "  <tbody>\n",
       "    <tr>\n",
       "      <th>0</th>\n",
       "      <td>21.948941</td>\n",
       "    </tr>\n",
       "    <tr>\n",
       "      <th>1</th>\n",
       "      <td>28.642590</td>\n",
       "    </tr>\n",
       "    <tr>\n",
       "      <th>2</th>\n",
       "      <td>40.317559</td>\n",
       "    </tr>\n",
       "    <tr>\n",
       "      <th>3</th>\n",
       "      <td>46.077210</td>\n",
       "    </tr>\n",
       "    <tr>\n",
       "      <th>4</th>\n",
       "      <td>40.940224</td>\n",
       "    </tr>\n",
       "    <tr>\n",
       "      <th>5</th>\n",
       "      <td>45.143213</td>\n",
       "    </tr>\n",
       "    <tr>\n",
       "      <th>6</th>\n",
       "      <td>43.119552</td>\n",
       "    </tr>\n",
       "    <tr>\n",
       "      <th>7</th>\n",
       "      <td>38.605230</td>\n",
       "    </tr>\n",
       "    <tr>\n",
       "      <th>8</th>\n",
       "      <td>36.425903</td>\n",
       "    </tr>\n",
       "    <tr>\n",
       "      <th>9</th>\n",
       "      <td>31.600249</td>\n",
       "    </tr>\n",
       "    <tr>\n",
       "      <th>10</th>\n",
       "      <td>26.774595</td>\n",
       "    </tr>\n",
       "    <tr>\n",
       "      <th>11</th>\n",
       "      <td>26.774595</td>\n",
       "    </tr>\n",
       "    <tr>\n",
       "      <th>12</th>\n",
       "      <td>24.439601</td>\n",
       "    </tr>\n",
       "    <tr>\n",
       "      <th>13</th>\n",
       "      <td>22.260274</td>\n",
       "    </tr>\n",
       "    <tr>\n",
       "      <th>14</th>\n",
       "      <td>21.793275</td>\n",
       "    </tr>\n",
       "    <tr>\n",
       "      <th>15</th>\n",
       "      <td>23.038605</td>\n",
       "    </tr>\n",
       "    <tr>\n",
       "      <th>16</th>\n",
       "      <td>22.727273</td>\n",
       "    </tr>\n",
       "    <tr>\n",
       "      <th>17</th>\n",
       "      <td>21.014944</td>\n",
       "    </tr>\n",
       "    <tr>\n",
       "      <th>18</th>\n",
       "      <td>20.859278</td>\n",
       "    </tr>\n",
       "    <tr>\n",
       "      <th>19</th>\n",
       "      <td>22.415940</td>\n",
       "    </tr>\n",
       "    <tr>\n",
       "      <th>20</th>\n",
       "      <td>24.906600</td>\n",
       "    </tr>\n",
       "    <tr>\n",
       "      <th>21</th>\n",
       "      <td>24.283935</td>\n",
       "    </tr>\n",
       "    <tr>\n",
       "      <th>22</th>\n",
       "      <td>26.930262</td>\n",
       "    </tr>\n",
       "    <tr>\n",
       "      <th>23</th>\n",
       "      <td>24.128269</td>\n",
       "    </tr>\n",
       "    <tr>\n",
       "      <th>24</th>\n",
       "      <td>17.901619</td>\n",
       "    </tr>\n",
       "    <tr>\n",
       "      <th>25</th>\n",
       "      <td>19.769614</td>\n",
       "    </tr>\n",
       "    <tr>\n",
       "      <th>26</th>\n",
       "      <td>19.458281</td>\n",
       "    </tr>\n",
       "    <tr>\n",
       "      <th>27</th>\n",
       "      <td>17.901619</td>\n",
       "    </tr>\n",
       "    <tr>\n",
       "      <th>28</th>\n",
       "      <td>17.745953</td>\n",
       "    </tr>\n",
       "    <tr>\n",
       "      <th>29</th>\n",
       "      <td>28.642590</td>\n",
       "    </tr>\n",
       "    <tr>\n",
       "      <th>30</th>\n",
       "      <td>41.562889</td>\n",
       "    </tr>\n",
       "    <tr>\n",
       "      <th>31</th>\n",
       "      <td>43.586550</td>\n",
       "    </tr>\n",
       "    <tr>\n",
       "      <th>32</th>\n",
       "      <td>40.317559</td>\n",
       "    </tr>\n",
       "    <tr>\n",
       "      <th>33</th>\n",
       "      <td>36.581569</td>\n",
       "    </tr>\n",
       "    <tr>\n",
       "      <th>34</th>\n",
       "      <td>32.222914</td>\n",
       "    </tr>\n",
       "    <tr>\n",
       "      <th>35</th>\n",
       "      <td>33.935243</td>\n",
       "    </tr>\n",
       "  </tbody>\n",
       "</table>\n",
       "</div>"
      ],
      "text/plain": [
       "       demand\n",
       "0   21.948941\n",
       "1   28.642590\n",
       "2   40.317559\n",
       "3   46.077210\n",
       "4   40.940224\n",
       "5   45.143213\n",
       "6   43.119552\n",
       "7   38.605230\n",
       "8   36.425903\n",
       "9   31.600249\n",
       "10  26.774595\n",
       "11  26.774595\n",
       "12  24.439601\n",
       "13  22.260274\n",
       "14  21.793275\n",
       "15  23.038605\n",
       "16  22.727273\n",
       "17  21.014944\n",
       "18  20.859278\n",
       "19  22.415940\n",
       "20  24.906600\n",
       "21  24.283935\n",
       "22  26.930262\n",
       "23  24.128269\n",
       "24  17.901619\n",
       "25  19.769614\n",
       "26  19.458281\n",
       "27  17.901619\n",
       "28  17.745953\n",
       "29  28.642590\n",
       "30  41.562889\n",
       "31  43.586550\n",
       "32  40.317559\n",
       "33  36.581569\n",
       "34  32.222914\n",
       "35  33.935243"
      ]
     },
     "execution_count": 46,
     "metadata": {},
     "output_type": "execute_result"
    }
   ],
   "source": [
    "df_y"
   ]
  },
  {
   "cell_type": "markdown",
   "metadata": {},
   "source": [
    "### Foreastの結果"
   ]
  },
  {
   "cell_type": "code",
   "execution_count": 48,
   "metadata": {},
   "outputs": [],
   "source": [
    "#df_forecast = pd.read_csv('../amazon_forecast_official_dev_guide/export_forecast_drop1week/my_forecast_export_drop1week_2021-03-03T07-51-36Z_part1.csv')\n",
    "df_forecast = pd.read_csv('../input/my_forecast_export_drop1week_2021-03-03T07-51-36Z_part1.csv')\n",
    "\n",
    "\n"
   ]
  },
  {
   "cell_type": "code",
   "execution_count": 49,
   "metadata": {},
   "outputs": [
    {
     "data": {
      "text/plain": [
       "array(['client_201', 'client_249', 'client_357', 'client_324',\n",
       "       'client_75', 'client_274', 'client_234', 'client_326',\n",
       "       'client_313', 'client_260', 'client_133', 'client_318',\n",
       "       'client_289', 'client_361', 'client_174', 'client_109',\n",
       "       'client_184', 'client_21', 'client_86', 'client_32', 'client_82',\n",
       "       'client_177', 'client_10', 'client_226', 'client_103',\n",
       "       'client_159', 'client_169', 'client_266', 'client_241',\n",
       "       'client_295', 'client_306', 'client_36', 'client_47', 'client_124',\n",
       "       'client_158', 'client_230', 'client_285', 'client_35',\n",
       "       'client_349', 'client_170', 'client_144', 'client_128',\n",
       "       'client_46', 'client_272', 'client_68', 'client_110', 'client_253',\n",
       "       'client_252', 'client_191', 'client_23', 'client_267', 'client_9',\n",
       "       'client_0', 'client_31', 'client_51', 'client_189', 'client_354'],\n",
       "      dtype=object)"
      ]
     },
     "execution_count": 49,
     "metadata": {},
     "output_type": "execute_result"
    }
   ],
   "source": [
    "df_forecast['item_id'].unique()"
   ]
  },
  {
   "cell_type": "code",
   "execution_count": 50,
   "metadata": {},
   "outputs": [],
   "source": [
    "df_result = df_forecast[df_forecast.item_id=='client_21'].reset_index(drop=True)"
   ]
  },
  {
   "cell_type": "code",
   "execution_count": 51,
   "metadata": {},
   "outputs": [
    {
     "data": {
      "text/html": [
       "<div>\n",
       "<style scoped>\n",
       "    .dataframe tbody tr th:only-of-type {\n",
       "        vertical-align: middle;\n",
       "    }\n",
       "\n",
       "    .dataframe tbody tr th {\n",
       "        vertical-align: top;\n",
       "    }\n",
       "\n",
       "    .dataframe thead th {\n",
       "        text-align: right;\n",
       "    }\n",
       "</style>\n",
       "<table border=\"1\" class=\"dataframe\">\n",
       "  <thead>\n",
       "    <tr style=\"text-align: right;\">\n",
       "      <th></th>\n",
       "      <th>item_id</th>\n",
       "      <th>date</th>\n",
       "      <th>p10</th>\n",
       "      <th>p50</th>\n",
       "      <th>p90</th>\n",
       "    </tr>\n",
       "  </thead>\n",
       "  <tbody>\n",
       "    <tr>\n",
       "      <th>0</th>\n",
       "      <td>client_21</td>\n",
       "      <td>2014-12-30T13:00:00Z</td>\n",
       "      <td>21.333923</td>\n",
       "      <td>25.132877</td>\n",
       "      <td>28.770159</td>\n",
       "    </tr>\n",
       "    <tr>\n",
       "      <th>1</th>\n",
       "      <td>client_21</td>\n",
       "      <td>2014-12-30T14:00:00Z</td>\n",
       "      <td>28.073387</td>\n",
       "      <td>32.898338</td>\n",
       "      <td>37.092026</td>\n",
       "    </tr>\n",
       "    <tr>\n",
       "      <th>2</th>\n",
       "      <td>client_21</td>\n",
       "      <td>2014-12-30T15:00:00Z</td>\n",
       "      <td>38.639301</td>\n",
       "      <td>43.846355</td>\n",
       "      <td>50.444412</td>\n",
       "    </tr>\n",
       "    <tr>\n",
       "      <th>3</th>\n",
       "      <td>client_21</td>\n",
       "      <td>2014-12-30T16:00:00Z</td>\n",
       "      <td>41.978588</td>\n",
       "      <td>46.520233</td>\n",
       "      <td>52.283760</td>\n",
       "    </tr>\n",
       "    <tr>\n",
       "      <th>4</th>\n",
       "      <td>client_21</td>\n",
       "      <td>2014-12-30T17:00:00Z</td>\n",
       "      <td>39.904404</td>\n",
       "      <td>46.363640</td>\n",
       "      <td>51.784618</td>\n",
       "    </tr>\n",
       "    <tr>\n",
       "      <th>5</th>\n",
       "      <td>client_21</td>\n",
       "      <td>2014-12-30T18:00:00Z</td>\n",
       "      <td>43.310654</td>\n",
       "      <td>50.251816</td>\n",
       "      <td>59.930252</td>\n",
       "    </tr>\n",
       "    <tr>\n",
       "      <th>6</th>\n",
       "      <td>client_21</td>\n",
       "      <td>2014-12-30T19:00:00Z</td>\n",
       "      <td>48.920353</td>\n",
       "      <td>55.080643</td>\n",
       "      <td>62.824970</td>\n",
       "    </tr>\n",
       "    <tr>\n",
       "      <th>7</th>\n",
       "      <td>client_21</td>\n",
       "      <td>2014-12-30T20:00:00Z</td>\n",
       "      <td>45.416351</td>\n",
       "      <td>52.224514</td>\n",
       "      <td>60.060890</td>\n",
       "    </tr>\n",
       "    <tr>\n",
       "      <th>8</th>\n",
       "      <td>client_21</td>\n",
       "      <td>2014-12-30T21:00:00Z</td>\n",
       "      <td>36.452190</td>\n",
       "      <td>43.848927</td>\n",
       "      <td>52.385162</td>\n",
       "    </tr>\n",
       "    <tr>\n",
       "      <th>9</th>\n",
       "      <td>client_21</td>\n",
       "      <td>2014-12-30T22:00:00Z</td>\n",
       "      <td>32.266903</td>\n",
       "      <td>38.022995</td>\n",
       "      <td>44.000668</td>\n",
       "    </tr>\n",
       "    <tr>\n",
       "      <th>10</th>\n",
       "      <td>client_21</td>\n",
       "      <td>2014-12-30T23:00:00Z</td>\n",
       "      <td>25.956657</td>\n",
       "      <td>32.653961</td>\n",
       "      <td>39.564785</td>\n",
       "    </tr>\n",
       "    <tr>\n",
       "      <th>11</th>\n",
       "      <td>client_21</td>\n",
       "      <td>2014-12-31T00:00:00Z</td>\n",
       "      <td>28.610109</td>\n",
       "      <td>32.845661</td>\n",
       "      <td>39.400024</td>\n",
       "    </tr>\n",
       "    <tr>\n",
       "      <th>12</th>\n",
       "      <td>client_21</td>\n",
       "      <td>2014-12-31T01:00:00Z</td>\n",
       "      <td>23.296236</td>\n",
       "      <td>28.404999</td>\n",
       "      <td>33.210468</td>\n",
       "    </tr>\n",
       "    <tr>\n",
       "      <th>13</th>\n",
       "      <td>client_21</td>\n",
       "      <td>2014-12-31T02:00:00Z</td>\n",
       "      <td>23.289307</td>\n",
       "      <td>27.099710</td>\n",
       "      <td>30.526705</td>\n",
       "    </tr>\n",
       "    <tr>\n",
       "      <th>14</th>\n",
       "      <td>client_21</td>\n",
       "      <td>2014-12-31T03:00:00Z</td>\n",
       "      <td>23.613432</td>\n",
       "      <td>26.622187</td>\n",
       "      <td>30.071453</td>\n",
       "    </tr>\n",
       "    <tr>\n",
       "      <th>15</th>\n",
       "      <td>client_21</td>\n",
       "      <td>2014-12-31T04:00:00Z</td>\n",
       "      <td>22.153742</td>\n",
       "      <td>25.413580</td>\n",
       "      <td>29.911892</td>\n",
       "    </tr>\n",
       "    <tr>\n",
       "      <th>16</th>\n",
       "      <td>client_21</td>\n",
       "      <td>2014-12-31T05:00:00Z</td>\n",
       "      <td>20.950901</td>\n",
       "      <td>24.602360</td>\n",
       "      <td>27.753349</td>\n",
       "    </tr>\n",
       "    <tr>\n",
       "      <th>17</th>\n",
       "      <td>client_21</td>\n",
       "      <td>2014-12-31T06:00:00Z</td>\n",
       "      <td>20.345306</td>\n",
       "      <td>23.586449</td>\n",
       "      <td>26.601353</td>\n",
       "    </tr>\n",
       "    <tr>\n",
       "      <th>18</th>\n",
       "      <td>client_21</td>\n",
       "      <td>2014-12-31T07:00:00Z</td>\n",
       "      <td>19.694855</td>\n",
       "      <td>22.923347</td>\n",
       "      <td>24.940014</td>\n",
       "    </tr>\n",
       "    <tr>\n",
       "      <th>19</th>\n",
       "      <td>client_21</td>\n",
       "      <td>2014-12-31T08:00:00Z</td>\n",
       "      <td>21.729218</td>\n",
       "      <td>25.715658</td>\n",
       "      <td>29.399874</td>\n",
       "    </tr>\n",
       "    <tr>\n",
       "      <th>20</th>\n",
       "      <td>client_21</td>\n",
       "      <td>2014-12-31T09:00:00Z</td>\n",
       "      <td>32.283623</td>\n",
       "      <td>39.264633</td>\n",
       "      <td>45.038883</td>\n",
       "    </tr>\n",
       "    <tr>\n",
       "      <th>21</th>\n",
       "      <td>client_21</td>\n",
       "      <td>2014-12-31T10:00:00Z</td>\n",
       "      <td>40.239220</td>\n",
       "      <td>50.124214</td>\n",
       "      <td>57.382603</td>\n",
       "    </tr>\n",
       "    <tr>\n",
       "      <th>22</th>\n",
       "      <td>client_21</td>\n",
       "      <td>2014-12-31T11:00:00Z</td>\n",
       "      <td>38.991055</td>\n",
       "      <td>48.444702</td>\n",
       "      <td>58.142109</td>\n",
       "    </tr>\n",
       "    <tr>\n",
       "      <th>23</th>\n",
       "      <td>client_21</td>\n",
       "      <td>2014-12-31T12:00:00Z</td>\n",
       "      <td>34.468025</td>\n",
       "      <td>43.175110</td>\n",
       "      <td>52.453011</td>\n",
       "    </tr>\n",
       "    <tr>\n",
       "      <th>24</th>\n",
       "      <td>client_21</td>\n",
       "      <td>2014-12-31T13:00:00Z</td>\n",
       "      <td>17.280230</td>\n",
       "      <td>24.344524</td>\n",
       "      <td>33.024643</td>\n",
       "    </tr>\n",
       "    <tr>\n",
       "      <th>25</th>\n",
       "      <td>client_21</td>\n",
       "      <td>2014-12-31T14:00:00Z</td>\n",
       "      <td>23.716404</td>\n",
       "      <td>29.940559</td>\n",
       "      <td>36.782322</td>\n",
       "    </tr>\n",
       "    <tr>\n",
       "      <th>26</th>\n",
       "      <td>client_21</td>\n",
       "      <td>2014-12-31T15:00:00Z</td>\n",
       "      <td>33.261368</td>\n",
       "      <td>41.887718</td>\n",
       "      <td>50.302914</td>\n",
       "    </tr>\n",
       "    <tr>\n",
       "      <th>27</th>\n",
       "      <td>client_21</td>\n",
       "      <td>2014-12-31T16:00:00Z</td>\n",
       "      <td>34.955368</td>\n",
       "      <td>43.484406</td>\n",
       "      <td>55.073231</td>\n",
       "    </tr>\n",
       "    <tr>\n",
       "      <th>28</th>\n",
       "      <td>client_21</td>\n",
       "      <td>2014-12-31T17:00:00Z</td>\n",
       "      <td>35.519211</td>\n",
       "      <td>44.980240</td>\n",
       "      <td>55.141701</td>\n",
       "    </tr>\n",
       "    <tr>\n",
       "      <th>29</th>\n",
       "      <td>client_21</td>\n",
       "      <td>2014-12-31T18:00:00Z</td>\n",
       "      <td>42.137714</td>\n",
       "      <td>50.949883</td>\n",
       "      <td>60.867943</td>\n",
       "    </tr>\n",
       "    <tr>\n",
       "      <th>30</th>\n",
       "      <td>client_21</td>\n",
       "      <td>2014-12-31T19:00:00Z</td>\n",
       "      <td>47.478222</td>\n",
       "      <td>58.561207</td>\n",
       "      <td>69.423790</td>\n",
       "    </tr>\n",
       "    <tr>\n",
       "      <th>31</th>\n",
       "      <td>client_21</td>\n",
       "      <td>2014-12-31T20:00:00Z</td>\n",
       "      <td>45.278889</td>\n",
       "      <td>54.795506</td>\n",
       "      <td>65.171181</td>\n",
       "    </tr>\n",
       "    <tr>\n",
       "      <th>32</th>\n",
       "      <td>client_21</td>\n",
       "      <td>2014-12-31T21:00:00Z</td>\n",
       "      <td>39.997547</td>\n",
       "      <td>45.903103</td>\n",
       "      <td>57.689125</td>\n",
       "    </tr>\n",
       "    <tr>\n",
       "      <th>33</th>\n",
       "      <td>client_21</td>\n",
       "      <td>2014-12-31T22:00:00Z</td>\n",
       "      <td>31.963280</td>\n",
       "      <td>39.187916</td>\n",
       "      <td>47.814484</td>\n",
       "    </tr>\n",
       "    <tr>\n",
       "      <th>34</th>\n",
       "      <td>client_21</td>\n",
       "      <td>2014-12-31T23:00:00Z</td>\n",
       "      <td>26.964777</td>\n",
       "      <td>33.141521</td>\n",
       "      <td>40.666256</td>\n",
       "    </tr>\n",
       "    <tr>\n",
       "      <th>35</th>\n",
       "      <td>client_21</td>\n",
       "      <td>2015-01-01T00:00:00Z</td>\n",
       "      <td>27.985847</td>\n",
       "      <td>33.559479</td>\n",
       "      <td>39.754181</td>\n",
       "    </tr>\n",
       "  </tbody>\n",
       "</table>\n",
       "</div>"
      ],
      "text/plain": [
       "      item_id                  date        p10        p50        p90\n",
       "0   client_21  2014-12-30T13:00:00Z  21.333923  25.132877  28.770159\n",
       "1   client_21  2014-12-30T14:00:00Z  28.073387  32.898338  37.092026\n",
       "2   client_21  2014-12-30T15:00:00Z  38.639301  43.846355  50.444412\n",
       "3   client_21  2014-12-30T16:00:00Z  41.978588  46.520233  52.283760\n",
       "4   client_21  2014-12-30T17:00:00Z  39.904404  46.363640  51.784618\n",
       "5   client_21  2014-12-30T18:00:00Z  43.310654  50.251816  59.930252\n",
       "6   client_21  2014-12-30T19:00:00Z  48.920353  55.080643  62.824970\n",
       "7   client_21  2014-12-30T20:00:00Z  45.416351  52.224514  60.060890\n",
       "8   client_21  2014-12-30T21:00:00Z  36.452190  43.848927  52.385162\n",
       "9   client_21  2014-12-30T22:00:00Z  32.266903  38.022995  44.000668\n",
       "10  client_21  2014-12-30T23:00:00Z  25.956657  32.653961  39.564785\n",
       "11  client_21  2014-12-31T00:00:00Z  28.610109  32.845661  39.400024\n",
       "12  client_21  2014-12-31T01:00:00Z  23.296236  28.404999  33.210468\n",
       "13  client_21  2014-12-31T02:00:00Z  23.289307  27.099710  30.526705\n",
       "14  client_21  2014-12-31T03:00:00Z  23.613432  26.622187  30.071453\n",
       "15  client_21  2014-12-31T04:00:00Z  22.153742  25.413580  29.911892\n",
       "16  client_21  2014-12-31T05:00:00Z  20.950901  24.602360  27.753349\n",
       "17  client_21  2014-12-31T06:00:00Z  20.345306  23.586449  26.601353\n",
       "18  client_21  2014-12-31T07:00:00Z  19.694855  22.923347  24.940014\n",
       "19  client_21  2014-12-31T08:00:00Z  21.729218  25.715658  29.399874\n",
       "20  client_21  2014-12-31T09:00:00Z  32.283623  39.264633  45.038883\n",
       "21  client_21  2014-12-31T10:00:00Z  40.239220  50.124214  57.382603\n",
       "22  client_21  2014-12-31T11:00:00Z  38.991055  48.444702  58.142109\n",
       "23  client_21  2014-12-31T12:00:00Z  34.468025  43.175110  52.453011\n",
       "24  client_21  2014-12-31T13:00:00Z  17.280230  24.344524  33.024643\n",
       "25  client_21  2014-12-31T14:00:00Z  23.716404  29.940559  36.782322\n",
       "26  client_21  2014-12-31T15:00:00Z  33.261368  41.887718  50.302914\n",
       "27  client_21  2014-12-31T16:00:00Z  34.955368  43.484406  55.073231\n",
       "28  client_21  2014-12-31T17:00:00Z  35.519211  44.980240  55.141701\n",
       "29  client_21  2014-12-31T18:00:00Z  42.137714  50.949883  60.867943\n",
       "30  client_21  2014-12-31T19:00:00Z  47.478222  58.561207  69.423790\n",
       "31  client_21  2014-12-31T20:00:00Z  45.278889  54.795506  65.171181\n",
       "32  client_21  2014-12-31T21:00:00Z  39.997547  45.903103  57.689125\n",
       "33  client_21  2014-12-31T22:00:00Z  31.963280  39.187916  47.814484\n",
       "34  client_21  2014-12-31T23:00:00Z  26.964777  33.141521  40.666256\n",
       "35  client_21  2015-01-01T00:00:00Z  27.985847  33.559479  39.754181"
      ]
     },
     "execution_count": 51,
     "metadata": {},
     "output_type": "execute_result"
    }
   ],
   "source": [
    "df_result"
   ]
  },
  {
   "cell_type": "code",
   "execution_count": 52,
   "metadata": {},
   "outputs": [
    {
     "data": {
      "text/plain": [
       "<AxesSubplot:xlabel='date'>"
      ]
     },
     "execution_count": 52,
     "metadata": {},
     "output_type": "execute_result"
    },
    {
     "data": {
      "image/png": "[encoded data removed]",
      "text/plain": [
       "<Figure size 1440x360 with 1 Axes>"
      ]
     },
     "metadata": {
      "needs_background": "light"
     },
     "output_type": "display_data"
    }
   ],
   "source": [
    "pd.concat([df_result, df_xgb, df_y], axis=1).plot(x='date',figsize=(20,5), grid=True)"
   ]
  },
  {
   "cell_type": "markdown",
   "metadata": {},
   "source": [
    "# XGBoostの利点\n",
    "特徴量の重要度がわかる\n",
    "\n",
    "【デメリット】\n",
    "コードのデバッグが大変\n",
    "特徴量を作り込む必要あり\n",
    "ハイパーパラメータのチューニング\n"
   ]
  },
  {
   "cell_type": "code",
   "execution_count": null,
   "metadata": {},
   "outputs": [],
   "source": []
  }
 ],
 "metadata": {
  "instance_type": "ml.t3.medium",
  "kernelspec": {
   "display_name": "Python 3 (Data Science)",
   "language": "python",
   "name": "python3__SAGEMAKER_INTERNAL__arn:aws:sagemaker:ap-northeast-1:102112518831:image/datascience-1.0"
  },
  "language_info": {
   "codemirror_mode": {
    "name": "ipython",
    "version": 3
   },
   "file_extension": ".py",
   "mimetype": "text/x-python",
   "name": "python",
   "nbconvert_exporter": "python",
   "pygments_lexer": "ipython3",
   "version": "3.7.10"
  }
 },
 "nbformat": 4,
 "nbformat_minor": 4
}
